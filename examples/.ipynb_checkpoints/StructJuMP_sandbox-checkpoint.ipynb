{
 "cells": [
  {
   "cell_type": "code",
   "execution_count": 1,
   "metadata": {},
   "outputs": [
    {
     "name": "stdout",
     "output_type": "stream",
     "text": [
      "\u001b[32m\u001b[1m    Status\u001b[22m\u001b[39m `~/SIIP_latest/Project.toml`\n",
      " \u001b[90m [60bf3e95]\u001b[39m\u001b[37m GLPK v0.9.1\u001b[39m\n",
      " \u001b[90m [2030c09a]\u001b[39m\u001b[37m InfrastructureModels v0.0.13 [`~/SIIP_latest/InfrastructureModels`]\u001b[39m\n",
      " \u001b[90m [b6b21f68]\u001b[39m\u001b[37m Ipopt v0.5.4\u001b[39m\n",
      " \u001b[90m [4076af6c]\u001b[39m\u001b[37m JuMP v0.19.0+ #master (https://github.com/JuliaOpt/JuMP.jl.git)\u001b[39m\n",
      " \u001b[90m [39d13dbf]\u001b[39m\u001b[37m ParameterJuMP v0.0.0 [`~/jdev/ParameterJuMP`]\u001b[39m\n",
      " \u001b[90m [c36e90e8]\u001b[39m\u001b[37m PowerModels v0.9.3 [`~/SIIP_latest/PowerModels`]\u001b[39m\n",
      " \u001b[90m [e690365d]\u001b[39m\u001b[37m PowerSimulations v0.1.0 [`~/SIIP_latest/PowerSimulations`]\u001b[39m\n",
      " \u001b[90m [c512b964]\u001b[39m\u001b[37m PowerSystems v0.2.1 [`~/SIIP_latest/PowerSystems`]\u001b[39m\n",
      " \u001b[90m [01aad6c6]\u001b[39m\u001b[37m ProgressiveHedging v0.0.0 [`~/jdev/ProgressiveHedging`]\u001b[39m\n",
      " \u001b[90m [34f15cae]\u001b[39m\u001b[37m StructJuMP v0.1.0+ [`~/jdev/StructJuMP`]\u001b[39m\n"
     ]
    }
   ],
   "source": [
    "using Pkg\n",
    "Pkg.activate(\"/Users/jmaack/SIIP_latest\") # working\n",
    "# Pkg.activate(\"/Users/jmaack/SIIP\") # working\n",
    "Pkg.status()"
   ]
  },
  {
   "cell_type": "code",
   "execution_count": 2,
   "metadata": {},
   "outputs": [
    {
     "name": "stderr",
     "output_type": "stream",
     "text": [
      "┌ Info: Recompiling stale cache file /Users/jmaack/.julia/compiled/v1.1/ProgressiveHedging/QYTmj.ji for ProgressiveHedging [01aad6c6-5ba4-51ef-941c-f1aa5a269d56]\n",
      "└ @ Base loading.jl:1184\n"
     ]
    }
   ],
   "source": [
    "using StructJuMP\n",
    "using ProgressiveHedging\n",
    "const PH = ProgressiveHedging\n",
    "\n",
    "using Ipopt"
   ]
  },
  {
   "cell_type": "code",
   "execution_count": 10,
   "metadata": {},
   "outputs": [
    {
     "ename": "LoadError",
     "evalue": "syntax: unexpected \",\"",
     "output_type": "error",
     "traceback": [
      "syntax: unexpected \",\"",
      ""
     ]
    }
   ],
   "source": [
    "nscen = 4\n",
    "nbranch = 2\n",
    "# Parameters\n",
    "c = [1.0]#, 10.0]\n",
    "d = 7.0\n",
    "a = 16.0\n",
    "\n",
    "α = 1.0\n",
    "β = 1.0\n",
    "γ = 1.0\n",
    "δ = 1.0\n",
    "ϵ = 1.0\n",
    "\n",
    "s1 = 8.0\n",
    "s2 = 4.0\n",
    "s11 = 9.0\n",
    "s12 = 16.0\n",
    "s21 = 5.0\n",
    "s22 = 18.0\n",
    "\n",
    "# First stage\n",
    "root_model = StructuredModel(num_scenarios=nbranch)\n",
    "@variable(root_model, x[1:1] >= 0.0)\n",
    "#@variable(root_model, F >= 0.0)\n",
    "@objective(root_model, Min, sum(c.*x))\n",
    "# @objective(root_model, Min, c*x + 10.0*F)\n",
    "# @objective(root_model, Min, 0.5*F)\n",
    "# @constraint(root_model, F >= 4.0)\n",
    "# @constraint(root_model, x + F >= 5.0)\n",
    "# @constraint(root_model, 2*x + 5 >= 1)\n",
    "\n",
    "# Second stage\n",
    "mid_model_1 = StructuredModel(parent=root_model, id=1, num_scenarios=nbranch, prob=0.5)\n",
    "@variable(mid_model_1, y1 >= 0.0)\n",
    "@objective(mid_model_1, Min, d*y1)\n",
    "@constraint(mid_model_1, α*sum(x) + β*y1 == s1)\n",
    "# @constraint(mid_model_1, α*x + β*y1 + 2.0*F == s1)\n",
    "mid_model_2 = StructuredModel(parent=root_model, id=2, num_scenarios=nbranch, prob=0.5)\n",
    "@variable(mid_model_2, y2 >= 0.0)\n",
    "@objective(mid_model_2, Min, d*y2)\n",
    "# @constraint(mid_model_2, y2 <= 10.0)\n",
    "@constraint(mid_model_2, α*sum(x) + β*y2 == s2)\n",
    "# @constraint(mid_model_2, α*x + β*y2 + 2.0*F == s2)\n",
    ";\n",
    "\n",
    "# # Third stage\n",
    "# leaf_11 = StructuredModel(parent=mid_model_1, id=11, prob=0.75)\n",
    "# # @variable(leaf_11, z11 >= 0.0)\n",
    "# @variable(leaf_11, z11[1:2])\n",
    "# @objective(leaf_11, Min, a*sum(z11[i]^2 for i in 1:2))\n",
    "# @constraint(leaf_11, ϵ*x + γ*y1 + δ*sum(z11) + F == s11)\n",
    "\n",
    "# leaf_12 = StructuredModel(parent=mid_model_1, id=12, prob=0.25)\n",
    "# # @variable(leaf_12, z12 >= 0.0)\n",
    "# @variable(leaf_12, z12[1:2])\n",
    "# @objective(leaf_12, Min, a*sum(z12[i]^2 for i in 1:2))\n",
    "# @constraint(leaf_12, ϵ*x + γ*y1 + δ*sum(z12) + F == s12)\n",
    "\n",
    "# leaf_21 = StructuredModel(parent=mid_model_2, id=21, prob=0.75)\n",
    "# # @variable(leaf_21, z21 >= 0.0)\n",
    "# @variable(leaf_21, z21[1:2])\n",
    "# @objective(leaf_21, Min, a*sum(z21[i]^2 for i in 1:2))\n",
    "# @constraint(leaf_21, ϵ*x + γ*y2 + δ*sum(z21) + F == s21)\n",
    "\n",
    "# leaf_22 = StructuredModel(parent=mid_model_2, id=22, prob=0.25)\n",
    "# # @variable(leaf_22, z22 >= 0.0)\n",
    "# @variable(leaf_22, z22[1:2])\n",
    "# @objective(leaf_22, Min, a*sum(z22[i]^2 for i in 1:2))\n",
    "# @constraint(leaf_22, ϵ*x + γ*y2 + δ*sum(z22) + F == s22)\n",
    ";"
   ]
  },
  {
   "cell_type": "markdown",
   "metadata": {},
   "source": [
    "# Progressive Hedging Solution"
   ]
  },
  {
   "cell_type": "code",
   "execution_count": 11,
   "metadata": {
    "scrolled": true
   },
   "outputs": [
    {
     "name": "stderr",
     "output_type": "stream",
     "text": [
      "┌ Warning: Conditional expectation of W[Set(ProgressiveHedging.ScenarioID[ScenarioID(0), ScenarioID(1)]),ProgressiveHedging.StageID(1)] is non-zero: 42.0000001249996\n",
      "└ @ ProgressiveHedging /Users/jmaack/jdev/ProgressiveHedging/src/algorithm.jl:78\n",
      "┌ Warning: Conditional expectation of W[Set(ProgressiveHedging.ScenarioID[ScenarioID(0), ScenarioID(1)]),ProgressiveHedging.StageID(1)] is non-zero: 46.50000012499959\n",
      "└ @ ProgressiveHedging /Users/jmaack/jdev/ProgressiveHedging/src/algorithm.jl:78\n",
      "┌ Warning: Conditional expectation of W[Set(ProgressiveHedging.ScenarioID[ScenarioID(0), ScenarioID(1)]),ProgressiveHedging.StageID(1)] is non-zero: 30.000000062499836\n",
      "└ @ ProgressiveHedging /Users/jmaack/jdev/ProgressiveHedging/src/algorithm.jl:78\n",
      "┌ Warning: Conditional expectation of W[Set(ProgressiveHedging.ScenarioID[ScenarioID(0), ScenarioID(1)]),ProgressiveHedging.StageID(1)] is non-zero: 11.250000000000114\n",
      "└ @ ProgressiveHedging /Users/jmaack/jdev/ProgressiveHedging/src/algorithm.jl:78\n",
      "┌ Warning: Conditional expectation of W[Set(ProgressiveHedging.ScenarioID[ScenarioID(0), ScenarioID(1)]),ProgressiveHedging.StageID(1)] is non-zero: 0.7499999687502225\n",
      "└ @ ProgressiveHedging /Users/jmaack/jdev/ProgressiveHedging/src/algorithm.jl:78\n",
      "┌ Warning: Conditional expectation of W[Set(ProgressiveHedging.ScenarioID[ScenarioID(0), ScenarioID(1)]),ProgressiveHedging.StageID(1)] is non-zero: -0.37500003124982006\n",
      "└ @ ProgressiveHedging /Users/jmaack/jdev/ProgressiveHedging/src/algorithm.jl:78\n",
      "┌ Warning: Conditional expectation of W[Set(ProgressiveHedging.ScenarioID[ScenarioID(0), ScenarioID(1)]),ProgressiveHedging.StageID(1)] is non-zero: 3.7499999843750684\n",
      "└ @ ProgressiveHedging /Users/jmaack/jdev/ProgressiveHedging/src/algorithm.jl:78\n",
      "┌ Warning: Conditional expectation of W[Set(ProgressiveHedging.ScenarioID[ScenarioID(0), ScenarioID(1)]),ProgressiveHedging.StageID(1)] is non-zero: 8.437499999999975\n",
      "└ @ ProgressiveHedging /Users/jmaack/jdev/ProgressiveHedging/src/algorithm.jl:78\n",
      "┌ Warning: Conditional expectation of W[Set(ProgressiveHedging.ScenarioID[ScenarioID(0), ScenarioID(1)]),ProgressiveHedging.StageID(1)] is non-zero: 11.062500007812448\n",
      "└ @ ProgressiveHedging /Users/jmaack/jdev/ProgressiveHedging/src/algorithm.jl:78\n",
      "┌ Warning: Conditional expectation of W[Set(ProgressiveHedging.ScenarioID[ScenarioID(0), ScenarioID(1)]),ProgressiveHedging.StageID(1)] is non-zero: 11.343750007812474\n",
      "└ @ ProgressiveHedging /Users/jmaack/jdev/ProgressiveHedging/src/algorithm.jl:78\n",
      "┌ Warning: Conditional expectation of W[Set(ProgressiveHedging.ScenarioID[ScenarioID(0), ScenarioID(1)]),ProgressiveHedging.StageID(1)] is non-zero: 10.312500003906269\n",
      "└ @ ProgressiveHedging /Users/jmaack/jdev/ProgressiveHedging/src/algorithm.jl:78\n",
      "┌ Warning: Conditional expectation of W[Set(ProgressiveHedging.ScenarioID[ScenarioID(0), ScenarioID(1)]),ProgressiveHedging.StageID(1)] is non-zero: 9.140625000000044\n",
      "└ @ ProgressiveHedging /Users/jmaack/jdev/ProgressiveHedging/src/algorithm.jl:78\n",
      "┌ Warning: Conditional expectation of W[Set(ProgressiveHedging.ScenarioID[ScenarioID(0), ScenarioID(1)]),ProgressiveHedging.StageID(1)] is non-zero: 8.48437499804692\n",
      "└ @ ProgressiveHedging /Users/jmaack/jdev/ProgressiveHedging/src/algorithm.jl:78\n",
      "┌ Warning: Conditional expectation of W[Set(ProgressiveHedging.ScenarioID[ScenarioID(0), ScenarioID(1)]),ProgressiveHedging.StageID(1)] is non-zero: 8.41406249804691\n",
      "└ @ ProgressiveHedging /Users/jmaack/jdev/ProgressiveHedging/src/algorithm.jl:78\n",
      "┌ Warning: Conditional expectation of W[Set(ProgressiveHedging.ScenarioID[ScenarioID(0), ScenarioID(1)]),ProgressiveHedging.StageID(1)] is non-zero: 8.671874999023466\n",
      "└ @ ProgressiveHedging /Users/jmaack/jdev/ProgressiveHedging/src/algorithm.jl:78\n",
      "┌ Warning: Conditional expectation of W[Set(ProgressiveHedging.ScenarioID[ScenarioID(0), ScenarioID(1)]),ProgressiveHedging.StageID(1)] is non-zero: 8.964843750000018\n",
      "└ @ ProgressiveHedging /Users/jmaack/jdev/ProgressiveHedging/src/algorithm.jl:78\n",
      "┌ Warning: Conditional expectation of W[Set(ProgressiveHedging.ScenarioID[ScenarioID(0), ScenarioID(1)]),ProgressiveHedging.StageID(1)] is non-zero: 9.128906250488296\n",
      "└ @ ProgressiveHedging /Users/jmaack/jdev/ProgressiveHedging/src/algorithm.jl:78\n",
      "┌ Warning: Conditional expectation of W[Set(ProgressiveHedging.ScenarioID[ScenarioID(0), ScenarioID(1)]),ProgressiveHedging.StageID(1)] is non-zero: 9.1464843754883\n",
      "└ @ ProgressiveHedging /Users/jmaack/jdev/ProgressiveHedging/src/algorithm.jl:78\n",
      "┌ Warning: Conditional expectation of W[Set(ProgressiveHedging.ScenarioID[ScenarioID(0), ScenarioID(1)]),ProgressiveHedging.StageID(1)] is non-zero: 9.082031250244166\n",
      "└ @ ProgressiveHedging /Users/jmaack/jdev/ProgressiveHedging/src/algorithm.jl:78\n",
      "┌ Warning: Conditional expectation of W[Set(ProgressiveHedging.ScenarioID[ScenarioID(0), ScenarioID(1)]),ProgressiveHedging.StageID(1)] is non-zero: 9.008789062500032\n",
      "└ @ ProgressiveHedging /Users/jmaack/jdev/ProgressiveHedging/src/algorithm.jl:78\n",
      "┌ Warning: Conditional expectation of W[Set(ProgressiveHedging.ScenarioID[ScenarioID(0), ScenarioID(1)]),ProgressiveHedging.StageID(1)] is non-zero: 8.967773437377959\n",
      "└ @ ProgressiveHedging /Users/jmaack/jdev/ProgressiveHedging/src/algorithm.jl:78\n",
      "┌ Warning: Conditional expectation of W[Set(ProgressiveHedging.ScenarioID[ScenarioID(0), ScenarioID(1)]),ProgressiveHedging.StageID(1)] is non-zero: 8.963378906127957\n",
      "└ @ ProgressiveHedging /Users/jmaack/jdev/ProgressiveHedging/src/algorithm.jl:78\n",
      "┌ Warning: Conditional expectation of W[Set(ProgressiveHedging.ScenarioID[ScenarioID(0), ScenarioID(1)]),ProgressiveHedging.StageID(1)] is non-zero: 8.97949218743899\n",
      "└ @ ProgressiveHedging /Users/jmaack/jdev/ProgressiveHedging/src/algorithm.jl:78\n",
      "┌ Warning: Conditional expectation of W[Set(ProgressiveHedging.ScenarioID[ScenarioID(0), ScenarioID(1)]),ProgressiveHedging.StageID(1)] is non-zero: 8.997802734375025\n",
      "└ @ ProgressiveHedging /Users/jmaack/jdev/ProgressiveHedging/src/algorithm.jl:78\n",
      "┌ Warning: Conditional expectation of W[Set(ProgressiveHedging.ScenarioID[ScenarioID(0), ScenarioID(1)]),ProgressiveHedging.StageID(1)] is non-zero: 9.008056640655544\n",
      "└ @ ProgressiveHedging /Users/jmaack/jdev/ProgressiveHedging/src/algorithm.jl:78\n",
      "┌ Warning: Conditional expectation of W[Set(ProgressiveHedging.ScenarioID[ScenarioID(0), ScenarioID(1)]),ProgressiveHedging.StageID(1)] is non-zero: 9.00915527346805\n",
      "└ @ ProgressiveHedging /Users/jmaack/jdev/ProgressiveHedging/src/algorithm.jl:78\n",
      "┌ Warning: Conditional expectation of W[Set(ProgressiveHedging.ScenarioID[ScenarioID(0), ScenarioID(1)]),ProgressiveHedging.StageID(1)] is non-zero: 9.005126953140294\n",
      "└ @ ProgressiveHedging /Users/jmaack/jdev/ProgressiveHedging/src/algorithm.jl:78\n",
      "┌ Warning: Conditional expectation of W[Set(ProgressiveHedging.ScenarioID[ScenarioID(0), ScenarioID(1)]),ProgressiveHedging.StageID(1)] is non-zero: 9.000549316406286\n",
      "└ @ ProgressiveHedging /Users/jmaack/jdev/ProgressiveHedging/src/algorithm.jl:78\n",
      "┌ Warning: Conditional expectation of W[Set(ProgressiveHedging.ScenarioID[ScenarioID(0), ScenarioID(1)]),ProgressiveHedging.StageID(1)] is non-zero: 8.997985839836158\n",
      "└ @ ProgressiveHedging /Users/jmaack/jdev/ProgressiveHedging/src/algorithm.jl:78\n",
      "┌ Warning: Conditional expectation of W[Set(ProgressiveHedging.ScenarioID[ScenarioID(0), ScenarioID(1)]),ProgressiveHedging.StageID(1)] is non-zero: 8.997711181633028\n",
      "└ @ ProgressiveHedging /Users/jmaack/jdev/ProgressiveHedging/src/algorithm.jl:78\n",
      "┌ Warning: Conditional expectation of W[Set(ProgressiveHedging.ScenarioID[ScenarioID(0), ScenarioID(1)]),ProgressiveHedging.StageID(1)] is non-zero: 8.998718261714966\n",
      "└ @ ProgressiveHedging /Users/jmaack/jdev/ProgressiveHedging/src/algorithm.jl:78\n",
      "┌ Warning: Conditional expectation of W[Set(ProgressiveHedging.ScenarioID[ScenarioID(0), ScenarioID(1)]),ProgressiveHedging.StageID(1)] is non-zero: 8.99986267089847\n",
      "└ @ ProgressiveHedging /Users/jmaack/jdev/ProgressiveHedging/src/algorithm.jl:78\n",
      "┌ Warning: Conditional expectation of W[Set(ProgressiveHedging.ScenarioID[ScenarioID(0), ScenarioID(1)]),ProgressiveHedging.StageID(1)] is non-zero: 9.000503540041002\n",
      "└ @ ProgressiveHedging /Users/jmaack/jdev/ProgressiveHedging/src/algorithm.jl:78\n",
      "┌ Warning: Conditional expectation of W[Set(ProgressiveHedging.ScenarioID[ScenarioID(0), ScenarioID(1)]),ProgressiveHedging.StageID(1)] is non-zero: 9.000572204591787\n",
      "└ @ ProgressiveHedging /Users/jmaack/jdev/ProgressiveHedging/src/algorithm.jl:78\n",
      "┌ Warning: Conditional expectation of W[Set(ProgressiveHedging.ScenarioID[ScenarioID(0), ScenarioID(1)]),ProgressiveHedging.StageID(1)] is non-zero: 9.000320434571307\n",
      "└ @ ProgressiveHedging /Users/jmaack/jdev/ProgressiveHedging/src/algorithm.jl:78\n",
      "┌ Warning: Conditional expectation of W[Set(ProgressiveHedging.ScenarioID[ScenarioID(0), ScenarioID(1)]),ProgressiveHedging.StageID(1)] is non-zero: 9.000034332275426\n",
      "└ @ ProgressiveHedging /Users/jmaack/jdev/ProgressiveHedging/src/algorithm.jl:78\n",
      "┌ Warning: Conditional expectation of W[Set(ProgressiveHedging.ScenarioID[ScenarioID(0), ScenarioID(1)]),ProgressiveHedging.StageID(1)] is non-zero: 8.99987411498979\n",
      "└ @ ProgressiveHedging /Users/jmaack/jdev/ProgressiveHedging/src/algorithm.jl:78\n",
      "┌ Warning: Conditional expectation of W[Set(ProgressiveHedging.ScenarioID[ScenarioID(0), ScenarioID(1)]),ProgressiveHedging.StageID(1)] is non-zero: 8.999856948852093\n",
      "└ @ ProgressiveHedging /Users/jmaack/jdev/ProgressiveHedging/src/algorithm.jl:78\n",
      "┌ Warning: Conditional expectation of W[Set(ProgressiveHedging.ScenarioID[ScenarioID(0), ScenarioID(1)]),ProgressiveHedging.StageID(1)] is non-zero: 8.999919891357214\n",
      "└ @ ProgressiveHedging /Users/jmaack/jdev/ProgressiveHedging/src/algorithm.jl:78\n",
      "┌ Warning: Conditional expectation of W[Set(ProgressiveHedging.ScenarioID[ScenarioID(0), ScenarioID(1)]),ProgressiveHedging.StageID(1)] is non-zero: 8.999991416931184\n",
      "└ @ ProgressiveHedging /Users/jmaack/jdev/ProgressiveHedging/src/algorithm.jl:78\n",
      "┌ Warning: Conditional expectation of W[Set(ProgressiveHedging.ScenarioID[ScenarioID(0), ScenarioID(1)]),ProgressiveHedging.StageID(1)] is non-zero: 9.00003147125259\n",
      "└ @ ProgressiveHedging /Users/jmaack/jdev/ProgressiveHedging/src/algorithm.jl:78\n",
      "┌ Warning: Conditional expectation of W[Set(ProgressiveHedging.ScenarioID[ScenarioID(0), ScenarioID(1)]),ProgressiveHedging.StageID(1)] is non-zero: 9.000035762787018\n",
      "└ @ ProgressiveHedging /Users/jmaack/jdev/ProgressiveHedging/src/algorithm.jl:78\n",
      "┌ Warning: Conditional expectation of W[Set(ProgressiveHedging.ScenarioID[ScenarioID(0), ScenarioID(1)]),ProgressiveHedging.StageID(1)] is non-zero: 9.000020027160737\n",
      "└ @ ProgressiveHedging /Users/jmaack/jdev/ProgressiveHedging/src/algorithm.jl:78\n",
      "┌ Warning: Conditional expectation of W[Set(ProgressiveHedging.ScenarioID[ScenarioID(0), ScenarioID(1)]),ProgressiveHedging.StageID(1)] is non-zero: 9.000002145767244\n",
      "└ @ ProgressiveHedging /Users/jmaack/jdev/ProgressiveHedging/src/algorithm.jl:78\n",
      "┌ Warning: Conditional expectation of W[Set(ProgressiveHedging.ScenarioID[ScenarioID(0), ScenarioID(1)]),ProgressiveHedging.StageID(1)] is non-zero: 8.99999213218689\n",
      "└ @ ProgressiveHedging /Users/jmaack/jdev/ProgressiveHedging/src/algorithm.jl:78\n",
      "┌ Warning: Conditional expectation of W[Set(ProgressiveHedging.ScenarioID[ScenarioID(0), ScenarioID(1)]),ProgressiveHedging.StageID(1)] is non-zero: 8.999991059303284\n",
      "└ @ ProgressiveHedging /Users/jmaack/jdev/ProgressiveHedging/src/algorithm.jl:78\n"
     ]
    },
    {
     "name": "stdout",
     "output_type": "stream",
     "text": [
      "  0.347729 seconds (118.39 k allocations: 5.616 MiB, 2.22% gc time)\n",
      "Number of iterations: 50\n",
      "L^2 error: 0.0\n",
      "4×4 DataFrames.DataFrame\n",
      "│ Row │ variable │ value   │ stage │ scenarios │\n",
      "│     │ \u001b[90mString\u001b[39m   │ \u001b[90mFloat64\u001b[39m │ \u001b[90mInt64\u001b[39m │ \u001b[90mString\u001b[39m    │\n",
      "├─────┼──────────┼─────────┼───────┼───────────┤\n",
      "│ 1   │ x[1]     │ 0.0     │ 1     │ 0, 1      │\n",
      "│ 2   │ x[2]     │ 0.0     │ 1     │ 0, 1      │\n",
      "│ 3   │ y1       │ 8.0     │ 2     │ 0         │\n",
      "│ 4   │ y2       │ 4.0     │ 2     │ 1         │\n"
     ]
    },
    {
     "name": "stderr",
     "output_type": "stream",
     "text": [
      "┌ Warning: Conditional expectation of W[Set(ProgressiveHedging.ScenarioID[ScenarioID(0), ScenarioID(1)]),ProgressiveHedging.StageID(1)] is non-zero: 8.999994993209853\n",
      "└ @ ProgressiveHedging /Users/jmaack/jdev/ProgressiveHedging/src/algorithm.jl:78\n",
      "┌ Warning: Conditional expectation of W[Set(ProgressiveHedging.ScenarioID[ScenarioID(0), ScenarioID(1)]),ProgressiveHedging.StageID(1)] is non-zero: 8.999999463558229\n",
      "└ @ ProgressiveHedging /Users/jmaack/jdev/ProgressiveHedging/src/algorithm.jl:78\n",
      "┌ Warning: Conditional expectation of W[Set(ProgressiveHedging.ScenarioID[ScenarioID(0), ScenarioID(1)]),ProgressiveHedging.StageID(1)] is non-zero: 9.000001966953318\n",
      "└ @ ProgressiveHedging /Users/jmaack/jdev/ProgressiveHedging/src/algorithm.jl:78\n",
      "┌ Warning: Conditional expectation of W[Set(ProgressiveHedging.ScenarioID[ScenarioID(0), ScenarioID(1)]),ProgressiveHedging.StageID(1)] is non-zero: 9.000001966953318\n",
      "└ @ ProgressiveHedging /Users/jmaack/jdev/ProgressiveHedging/src/algorithm.jl:78\n"
     ]
    }
   ],
   "source": [
    "@time (n, err, soln, phd) = PH.solve(root_model, with_optimizer(Ipopt.Optimizer, print_level=0, tol=1e-12), \n",
    "    25.0, atol=1e-8, max_iter=500)\n",
    "println(\"Number of iterations: \", n)\n",
    "println(\"L^2 error: \", err)\n",
    "# print_values(phd)\n",
    "println(soln)\n",
    "# println(obj)"
   ]
  },
  {
   "cell_type": "code",
   "execution_count": 12,
   "metadata": {},
   "outputs": [
    {
     "data": {
      "text/html": [
       "<table class=\"data-frame\"><thead><tr><th></th><th>variable</th><th>value</th><th>stage</th><th>scenario</th><th>index</th></tr><tr><th></th><th>Variable…</th><th>Float64</th><th>Int64</th><th>Int64</th><th>Int64</th></tr></thead><tbody><p>6 rows × 5 columns</p><tr><th>1</th><td>x[1]</td><td>0.0</td><td>1</td><td>0</td><td>1</td></tr><tr><th>2</th><td>x[2]</td><td>0.0</td><td>1</td><td>0</td><td>2</td></tr><tr><th>3</th><td>x[1]</td><td>0.0</td><td>1</td><td>1</td><td>1</td></tr><tr><th>4</th><td>y2</td><td>4.0</td><td>2</td><td>1</td><td>1</td></tr><tr><th>5</th><td>x[2]</td><td>0.0</td><td>1</td><td>1</td><td>2</td></tr><tr><th>6</th><td>y1</td><td>8.0</td><td>2</td><td>0</td><td>1</td></tr></tbody></table>"
      ],
      "text/latex": [
       "\\begin{tabular}{r|ccccc}\n",
       "\t& variable & value & stage & scenario & index\\\\\n",
       "\t\\hline\n",
       "\t& Variable… & Float64 & Int64 & Int64 & Int64\\\\\n",
       "\t\\hline\n",
       "\t1 & $$ x_{1} $$ & 0.0 & 1 & 0 & 1 \\\\\n",
       "\t2 & $$ x_{2} $$ & 0.0 & 1 & 0 & 2 \\\\\n",
       "\t3 & $$ x_{1} $$ & 0.0 & 1 & 1 & 1 \\\\\n",
       "\t4 & $$ y2 $$ & 4.0 & 2 & 1 & 1 \\\\\n",
       "\t5 & $$ x_{2} $$ & 0.0 & 1 & 1 & 2 \\\\\n",
       "\t6 & $$ y1 $$ & 8.0 & 2 & 0 & 1 \\\\\n",
       "\\end{tabular}\n"
      ],
      "text/plain": [
       "6×5 DataFrames.DataFrame\n",
       "│ Row │ variable  │ value   │ stage │ scenario │ index │\n",
       "│     │ \u001b[90mVariable…\u001b[39m │ \u001b[90mFloat64\u001b[39m │ \u001b[90mInt64\u001b[39m │ \u001b[90mInt64\u001b[39m    │ \u001b[90mInt64\u001b[39m │\n",
       "├─────┼───────────┼─────────┼───────┼──────────┼───────┤\n",
       "│ 1   │ x[1]      │ 0.0     │ 1     │ 0        │ 1     │\n",
       "│ 2   │ x[2]      │ 0.0     │ 1     │ 0        │ 2     │\n",
       "│ 3   │ x[1]      │ 0.0     │ 1     │ 1        │ 1     │\n",
       "│ 4   │ y2        │ 4.0     │ 2     │ 1        │ 1     │\n",
       "│ 5   │ x[2]      │ 0.0     │ 1     │ 1        │ 2     │\n",
       "│ 6   │ y1        │ 8.0     │ 2     │ 0        │ 1     │"
      ]
     },
     "execution_count": 12,
     "metadata": {},
     "output_type": "execute_result"
    }
   ],
   "source": [
    "PH.retrieve_no_hats(phd)"
   ]
  },
  {
   "cell_type": "code",
   "execution_count": 13,
   "metadata": {},
   "outputs": [
    {
     "data": {
      "text/html": [
       "<table class=\"data-frame\"><thead><tr><th></th><th>variable</th><th>value</th><th>stage</th><th>scenario</th><th>index</th></tr><tr><th></th><th>Variable…</th><th>Float64</th><th>Int64</th><th>Int64</th><th>Int64</th></tr></thead><tbody><p>6 rows × 5 columns</p><tr><th>1</th><td>x[1]</td><td>8.99841</td><td>1</td><td>0</td><td>1</td></tr><tr><th>2</th><td>x[2]</td><td>-0.00159632</td><td>1</td><td>0</td><td>2</td></tr><tr><th>3</th><td>x[1]</td><td>9.0016</td><td>1</td><td>1</td><td>1</td></tr><tr><th>4</th><td>y2</td><td>0.0</td><td>2</td><td>1</td><td>1</td></tr><tr><th>5</th><td>x[2]</td><td>0.00159632</td><td>1</td><td>1</td><td>2</td></tr><tr><th>6</th><td>y1</td><td>0.0</td><td>2</td><td>0</td><td>1</td></tr></tbody></table>"
      ],
      "text/latex": [
       "\\begin{tabular}{r|ccccc}\n",
       "\t& variable & value & stage & scenario & index\\\\\n",
       "\t\\hline\n",
       "\t& Variable… & Float64 & Int64 & Int64 & Int64\\\\\n",
       "\t\\hline\n",
       "\t1 & $$ x_{1} $$ & 8.99841 & 1 & 0 & 1 \\\\\n",
       "\t2 & $$ x_{2} $$ & -0.00159632 & 1 & 0 & 2 \\\\\n",
       "\t3 & $$ x_{1} $$ & 9.0016 & 1 & 1 & 1 \\\\\n",
       "\t4 & $$ y2 $$ & 0.0 & 2 & 1 & 1 \\\\\n",
       "\t5 & $$ x_{2} $$ & 0.00159632 & 1 & 1 & 2 \\\\\n",
       "\t6 & $$ y1 $$ & 0.0 & 2 & 0 & 1 \\\\\n",
       "\\end{tabular}\n"
      ],
      "text/plain": [
       "6×5 DataFrames.DataFrame\n",
       "│ Row │ variable  │ value       │ stage │ scenario │ index │\n",
       "│     │ \u001b[90mVariable…\u001b[39m │ \u001b[90mFloat64\u001b[39m     │ \u001b[90mInt64\u001b[39m │ \u001b[90mInt64\u001b[39m    │ \u001b[90mInt64\u001b[39m │\n",
       "├─────┼───────────┼─────────────┼───────┼──────────┼───────┤\n",
       "│ 1   │ x[1]      │ 8.99841     │ 1     │ 0        │ 1     │\n",
       "│ 2   │ x[2]      │ -0.00159632 │ 1     │ 0        │ 2     │\n",
       "│ 3   │ x[1]      │ 9.0016      │ 1     │ 1        │ 1     │\n",
       "│ 4   │ y2        │ 0.0         │ 2     │ 1        │ 1     │\n",
       "│ 5   │ x[2]      │ 0.00159632  │ 1     │ 1        │ 2     │\n",
       "│ 6   │ y1        │ 0.0         │ 2     │ 0        │ 1     │"
      ]
     },
     "execution_count": 13,
     "metadata": {},
     "output_type": "execute_result"
    }
   ],
   "source": [
    "PH.retrieve_w(phd)"
   ]
  },
  {
   "cell_type": "code",
   "execution_count": null,
   "metadata": {},
   "outputs": [],
   "source": []
  },
  {
   "cell_type": "markdown",
   "metadata": {},
   "source": [
    "# Extensive Form Solution"
   ]
  },
  {
   "cell_type": "code",
   "execution_count": null,
   "metadata": {},
   "outputs": [],
   "source": [
    "@time ef_model = PH.solve_extensive_form(root_model, with_optimizer(Ipopt.Optimizer, print_level=0))\n",
    "for var in JuMP.all_variables(ef_model)\n",
    "    println(var, \" = \", JuMP.value(var))\n",
    "end"
   ]
  },
  {
   "cell_type": "code",
   "execution_count": null,
   "metadata": {},
   "outputs": [],
   "source": [
    "ef_model"
   ]
  },
  {
   "cell_type": "markdown",
   "metadata": {},
   "source": [
    "# Something Is Broken"
   ]
  },
  {
   "cell_type": "code",
   "execution_count": null,
   "metadata": {},
   "outputs": [],
   "source": [
    "# using JuMP\n",
    "# function print_values(ph_data::PH.PHData)\n",
    "#     for (s,m) in ph_data.submodels\n",
    "#         println(\"****** $s *******\")\n",
    "#         for v in JuMP.all_variables(m)\n",
    "#             if !JuMP.is_fixed(v)\n",
    "#                 println(v, \" = \", JuMP.value(v))\n",
    "#             else\n",
    "#                 println(v, \" = \", JuMP.fix_value(v))\n",
    "#             end\n",
    "#         end\n",
    "#     end\n",
    "#     return\n",
    "# end"
   ]
  },
  {
   "cell_type": "code",
   "execution_count": null,
   "metadata": {},
   "outputs": [],
   "source": [
    "nscen = 4\n",
    "nbranch = 2\n",
    "# Parameters\n",
    "c = [10.0, 1.0]\n",
    "d = 7.0\n",
    "a = 16.0\n",
    "\n",
    "α = 1.0\n",
    "β = 1.0\n",
    "γ = 1.0\n",
    "δ = 1.0\n",
    "ϵ = 1.0\n",
    "\n",
    "s1 = 8.0\n",
    "s2 = 4.0\n",
    "s11 = 9.0\n",
    "s12 = 16.0\n",
    "s21 = 5.0\n",
    "s22 = 18.0\n",
    "\n",
    "# First stage\n",
    "root_model = StructuredModel(num_scenarios=nbranch)\n",
    "@variable(root_model, x[1:2] >= 0.0)\n",
    "@objective(root_model, Min, sum(c.*x))\n",
    "\n",
    "# Second stage\n",
    "mid_model_1 = StructuredModel(parent=root_model, id=1, num_scenarios=nbranch, prob=0.5)\n",
    "@variable(mid_model_1, y1 >= 0.0)\n",
    "@objective(mid_model_1, Min, d*y1)\n",
    "@constraint(mid_model_1, α*sum(x) + β*y1 == s1)\n",
    "mid_model_2 = StructuredModel(parent=root_model, id=2, num_scenarios=nbranch, prob=0.5)\n",
    "@variable(mid_model_2, y2 >= 0.0)\n",
    "@objective(mid_model_2, Min, d*y2)\n",
    "@constraint(mid_model_2, α*sum(x) + β*y2 == s2)\n",
    ";"
   ]
  },
  {
   "cell_type": "code",
   "execution_count": null,
   "metadata": {},
   "outputs": [],
   "source": [
    "(n, err, soln, phd) = PH.solve(root_model, with_optimizer(Ipopt.Optimizer, print_level=0, tol=1e-12), \n",
    "    25.0, atol=1e-8, max_iter=500)\n",
    "println(\"Number of iterations: \", n)\n",
    "println(\"L^2 error: \", err)\n",
    "println(soln)"
   ]
  },
  {
   "cell_type": "code",
   "execution_count": null,
   "metadata": {},
   "outputs": [],
   "source": [
    "using GLPK\n",
    "ef_model = PH.solve_extensive_form(root_model, with_optimizer(GLPK.Optimizer))#, print_level=0, tol=1e-12))\n",
    "for var in JuMP.all_variables(ef_model)\n",
    "    println(var, \" = \", JuMP.value(var))\n",
    "end"
   ]
  },
  {
   "cell_type": "code",
   "execution_count": null,
   "metadata": {},
   "outputs": [],
   "source": []
  }
 ],
 "metadata": {
  "kernelspec": {
   "display_name": "Julia 1.1.0",
   "language": "julia",
   "name": "julia-1.1"
  },
  "language_info": {
   "file_extension": ".jl",
   "mimetype": "application/julia",
   "name": "julia",
   "version": "1.1.0"
  }
 },
 "nbformat": 4,
 "nbformat_minor": 2
}
