{
 "cells": [
  {
   "cell_type": "code",
   "execution_count": null,
   "metadata": {},
   "outputs": [],
   "source": [
    "using Pkg\n",
    "# Activate environment that has ProgressiveHedging installed\n",
    "home = homedir()\n",
    "Pkg.activate(joinpath(home,\".julia/environments/v1.2\"))\n",
    "Pkg.status()"
   ]
  },
  {
   "cell_type": "code",
   "execution_count": null,
   "metadata": {},
   "outputs": [],
   "source": [
    "using Distributed\n",
    "const WORKERS = 1 # Change to > 1 to use parallel\n",
    "if nworkers() < WORKERS\n",
    "    diff = (nprocs() == nworkers() ? WORKERS : WORKERS - nworkers())\n",
    "    println(\"Adding $diff worker processes.\")\n",
    "    Distributed.addprocs(diff)\n",
    "    # Make sure these workers also have an environment with PH installed\n",
    "    @everywhere using Pkg\n",
    "    for w in workers()\n",
    "        @spawnat(w, Pkg.activate(joinpath(home,\".julia/environments/v1.2\")))\n",
    "    end\n",
    "end\n",
    "\n",
    "@everywhere using ProgressiveHedging\n",
    "const PH = ProgressiveHedging\n",
    "using Ipopt\n",
    "\n",
    "using StructJuMP\n",
    "@everywhere using JuMP"
   ]
  },
  {
   "cell_type": "markdown",
   "metadata": {},
   "source": [
    "### Model Construction Function Definition"
   ]
  },
  {
   "cell_type": "code",
   "execution_count": null,
   "metadata": {},
   "outputs": [],
   "source": [
    "function variable_dict()\n",
    "    first_stage_vars = [\"x[1]\", \"x[2]\", \"x[3]\"]\n",
    "    second_stage_vars = [\"y\"]\n",
    "    third_stage_vars = [\"z[1]\", \"z[2]\"]\n",
    "\n",
    "    var_dict = Dict(1=>first_stage_vars,\n",
    "                    2=>second_stage_vars,\n",
    "                    3=>third_stage_vars)\n",
    "    return var_dict\n",
    "end\n",
    "\n",
    "@everywhere function create_model(scenario_id::Int, model::M,\n",
    "        additional_arg::String; key_word_arg::String=\"Default key word argument\", kwargs...\n",
    "        )::M where M <: JuMP.AbstractModel\n",
    "    \n",
    "    println(additional_arg)\n",
    "    println(key_word_arg)\n",
    "    \n",
    "    c = [1.0, 10.0, 0.01]\n",
    "    d = 7.0\n",
    "    a = 16.0\n",
    "\n",
    "    α = 1.0\n",
    "    β = 1.0\n",
    "    γ = 1.0\n",
    "    δ = 1.0\n",
    "    ϵ = 1.0\n",
    "\n",
    "    s1 = 8.0\n",
    "    s2 = 4.0\n",
    "    s11 = 9.0\n",
    "    s12 = 16.0\n",
    "    s21 = 5.0\n",
    "    s22 = 18.0\n",
    "    \n",
    "    JuMP.@variable(model, x[1:3] >= 0.0)\n",
    "    JuMP.@constraint(model, x[3] <= 1.0)\n",
    "    obj = zero(JuMP.GenericQuadExpr{Float64,JuMP.VariableRef})\n",
    "    JuMP.add_to_expression!(obj, sum(c.*x))\n",
    "\n",
    "    # Second stage\n",
    "    if scenario_id < 2\n",
    "        JuMP.@variable(model, y >= 0.0)\n",
    "        JuMP.@constraint(model, α*sum(x) + β*y >= s1)\n",
    "        JuMP.add_to_expression!(obj, d*y)\n",
    "    else\n",
    "        JuMP.@variable(model, y >= 0.0)\n",
    "        JuMP.@constraint(model, α*sum(x) + β*y >= s2)\n",
    "        JuMP.add_to_expression!(obj, d*y)\n",
    "    end\n",
    "\n",
    "    # Third stage\n",
    "    if scenario_id == 0\n",
    "        JuMP.@variable(model, z[1:2])\n",
    "        JuMP.@constraint(model, ϵ*sum(x) + γ*y + δ*sum(z) == s11)\n",
    "        JuMP.add_to_expression!(obj, a*sum(z[i]^2 for i in 1:2))\n",
    "        \n",
    "    elseif scenario_id == 1\n",
    "        JuMP.@variable(model, z[1:2])\n",
    "        JuMP.@constraint(model, ϵ*sum(x) + γ*y + δ*sum(z) == s12)\n",
    "        JuMP.add_to_expression!(obj, a*sum(z[i]^2 for i in 1:2))\n",
    "\n",
    "    elseif scenario_id == 2\n",
    "        JuMP.@variable(model, z[1:2])\n",
    "        JuMP.@constraint(model, ϵ*sum(x) + γ*y + δ*sum(z) == s21)\n",
    "        JuMP.add_to_expression!(obj, a*sum(z[i]^2 for i in 1:2))\n",
    "\n",
    "    else\n",
    "        JuMP.@variable(model, z[1:2])\n",
    "        JuMP.@constraint(model, ϵ*sum(x) + γ*y + δ*sum(z) == s22)\n",
    "        JuMP.add_to_expression!(obj, a*sum(z[i]^2 for i in 1:2))\n",
    "    end\n",
    "\n",
    "    JuMP.@objective(model, Min, obj)\n",
    "    \n",
    "    return model\n",
    "end\n",
    ";"
   ]
  },
  {
   "cell_type": "markdown",
   "metadata": {},
   "source": [
    "### Build Scenario Tree Using StructJuMP\n",
    "We can build the scenario tree using StructJuMP and convert it to the appropriate PH type by using the function PH.build_scenario_tree. Note that we do NOT need to add variables, constraints or objectives to the StructJuMP models to use this functionality.  The only things that are used are the parents and probabilities settings.  \n",
    "\n",
    "Warning: PH code actually modifies the scenario tree so either a deep copy of the tree should be passed to the PH code or a new scenario tree should be constructed with each call to solve."
   ]
  },
  {
   "cell_type": "code",
   "execution_count": null,
   "metadata": {},
   "outputs": [],
   "source": [
    "nscen = 4\n",
    "nbranch = 2\n",
    "\n",
    "# First stage\n",
    "root_model = StructuredModel(num_scenarios=nbranch)\n",
    "\n",
    "# Second stage\n",
    "mid_model_1 = StructuredModel(parent=root_model, id=1, num_scenarios=nbranch, prob=0.5)\n",
    "mid_model_2 = StructuredModel(parent=root_model, id=2, num_scenarios=nbranch, prob=0.5)\n",
    "\n",
    "# Third stage\n",
    "leaf_11 = StructuredModel(parent=mid_model_1, id=11, prob=0.75)\n",
    "leaf_12 = StructuredModel(parent=mid_model_1, id=12, prob=0.25)\n",
    "leaf_21 = StructuredModel(parent=mid_model_2, id=21, prob=0.75)\n",
    "leaf_22 = StructuredModel(parent=mid_model_2, id=22, prob=0.25)\n",
    ";"
   ]
  },
  {
   "cell_type": "code",
   "execution_count": null,
   "metadata": {},
   "outputs": [],
   "source": [
    "@time (n, err, obj, soln, phd) = PH.solve(PH.build_scenario_tree(root_model),\n",
    "                                          create_model, variable_dict(),\n",
    "                                          with_optimizer(Ipopt.Optimizer, print_level=0, tol=1e-12),\n",
    "                                          25.0, \"This is a required argument!\",\n",
    "                                          atol=1e-8, max_iter=500, report=false,\n",
    "                                          unused_kwarg=\"I am unused!!\")\n",
    "println(\"Number of iterations: \", n)\n",
    "println(\"L^2 error: \", err)\n",
    "println(obj)"
   ]
  },
  {
   "cell_type": "code",
   "execution_count": null,
   "metadata": {},
   "outputs": [],
   "source": [
    "soln"
   ]
  },
  {
   "cell_type": "code",
   "execution_count": null,
   "metadata": {},
   "outputs": [],
   "source": [
    "PH.retrieve_no_hats(phd)"
   ]
  },
  {
   "cell_type": "code",
   "execution_count": null,
   "metadata": {},
   "outputs": [],
   "source": [
    "PH.retrieve_w(phd)"
   ]
  },
  {
   "cell_type": "markdown",
   "metadata": {},
   "source": [
    "### Build Scenario Tree Directly\n",
    "Build the tree ourselves.  Note that you must call add_leaf when adding a leaf node instead of add_node.  Failing to do so will lead to unusual behavior."
   ]
  },
  {
   "cell_type": "code",
   "execution_count": null,
   "metadata": {},
   "outputs": [],
   "source": [
    "function build_scen_tree()\n",
    "\n",
    "    probs = [0.5*0.75, 0.5*0.25, 0.5*0.75, 0.5*0.25]\n",
    "    \n",
    "    tree = PH.ScenarioTree()\n",
    "    \n",
    "    for k in 1:2\n",
    "        node2 = PH.add_node(tree, tree.root)\n",
    "        for l in 1:2\n",
    "            PH.add_leaf(tree, node2, probs[(k-1)*2 + l])\n",
    "        end\n",
    "    end\n",
    "    return tree\n",
    "end\n",
    ";"
   ]
  },
  {
   "cell_type": "code",
   "execution_count": null,
   "metadata": {},
   "outputs": [],
   "source": [
    "@time (n, err, obj, soln, phd) = PH.solve(build_scen_tree(),\n",
    "                                          create_model, variable_dict(),\n",
    "                                          with_optimizer(Ipopt.Optimizer, print_level=0, tol=1e-12), \n",
    "                                          25.0, \"Passed to constructor.\",\n",
    "                                          atol=1e-8, max_iter=500, report=true,\n",
    "                                          key_word_arg=\"We changed this key word arg!\")\n",
    "println(\"Number of iterations: \", n)\n",
    "println(\"L^2 error: \", err)\n",
    "println(obj)"
   ]
  },
  {
   "cell_type": "code",
   "execution_count": null,
   "metadata": {},
   "outputs": [],
   "source": [
    "soln"
   ]
  },
  {
   "cell_type": "code",
   "execution_count": null,
   "metadata": {},
   "outputs": [],
   "source": [
    "PH.retrieve_no_hats(phd)"
   ]
  },
  {
   "cell_type": "code",
   "execution_count": null,
   "metadata": {},
   "outputs": [],
   "source": [
    "PH.retrieve_w(phd)"
   ]
  },
  {
   "cell_type": "code",
   "execution_count": null,
   "metadata": {},
   "outputs": [],
   "source": []
  }
 ],
 "metadata": {
  "kernelspec": {
   "display_name": "Julia 1.2.0",
   "language": "julia",
   "name": "julia-1.2"
  },
  "language_info": {
   "file_extension": ".jl",
   "mimetype": "application/julia",
   "name": "julia",
   "version": "1.2.0"
  }
 },
 "nbformat": 4,
 "nbformat_minor": 2
}
