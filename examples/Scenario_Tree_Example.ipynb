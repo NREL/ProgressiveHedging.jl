{
 "cells": [
  {
   "cell_type": "code",
   "execution_count": null,
   "metadata": {},
   "outputs": [],
   "source": [
    "using Pkg\n",
    "# Activate environment that has ProgressiveHedging installed\n",
    "Pkg.activate(\"..\")\n",
    "Pkg.status()"
   ]
  },
  {
   "cell_type": "code",
   "execution_count": null,
   "metadata": {
    "scrolled": false
   },
   "outputs": [],
   "source": [
    "using Distributed\n",
    "const WORKERS = 1 # Change to > 1 to use parallel\n",
    "if nworkers() < WORKERS\n",
    "    diff = (nprocs() == nworkers() ? WORKERS : WORKERS - nworkers())\n",
    "    println(\"Adding $diff worker processes.\")\n",
    "    Distributed.addprocs(diff)\n",
    "    # Make sure these workers also have an environment with PH installed\n",
    "    @everywhere using Pkg\n",
    "    for w in workers()\n",
    "        @spawnat(w, Pkg.activate(\"..\"))\n",
    "    end\n",
    "end\n",
    "\n",
    "@everywhere using ProgressiveHedging\n",
    "@everywhere const PH = ProgressiveHedging\n",
    "\n",
    "@everywhere using Ipopt\n",
    "@everywhere using JuMP"
   ]
  },
  {
   "cell_type": "markdown",
   "metadata": {},
   "source": [
    "### Model Construction Function Definition"
   ]
  },
  {
   "cell_type": "code",
   "execution_count": null,
   "metadata": {},
   "outputs": [],
   "source": [
    "@everywhere function create_model(scenario_id::PH.ScenarioID,\n",
    "        additional_arg::String;\n",
    "        key_word_arg::String=\"Default key word argument\", kwargs...\n",
    "        )\n",
    "    \n",
    "    model = JuMP.Model(()->Ipopt.Optimizer())\n",
    "    JuMP.set_optimizer_attribute(model, \"print_level\", 0)\n",
    "    JuMP.set_optimizer_attribute(model, \"tol\", 1e-12)\n",
    "    \n",
    "    println(additional_arg)\n",
    "    println(key_word_arg)\n",
    "    \n",
    "    c = [1.0, 10.0, 0.01]\n",
    "    d = 7.0\n",
    "    a = 16.0\n",
    "\n",
    "    α = 1.0\n",
    "    β = 1.0\n",
    "    γ = 1.0\n",
    "    δ = 1.0\n",
    "    ϵ = 1.0\n",
    "\n",
    "    s1 = 8.0\n",
    "    s2 = 4.0\n",
    "    s11 = 9.0\n",
    "    s12 = 16.0\n",
    "    s21 = 5.0\n",
    "    s22 = 18.0\n",
    "    \n",
    "    stage1 = JuMP.@variable(model, x[1:3] >= 0.0)\n",
    "    JuMP.@constraint(model, x[3] <= 1.0)\n",
    "    obj = zero(JuMP.GenericQuadExpr{Float64,JuMP.VariableRef})\n",
    "    JuMP.add_to_expression!(obj, sum(c.*x))\n",
    "\n",
    "    # Second stage\n",
    "    stage2 = Vector{JuMP.VariableRef}()\n",
    "    if scenario_id < PH.scid(2)\n",
    "        vref = JuMP.@variable(model, y >= 0.0)\n",
    "        JuMP.@constraint(model, α*sum(x) + β*y >= s1)\n",
    "        JuMP.add_to_expression!(obj, d*y)\n",
    "    else\n",
    "        vref = JuMP.@variable(model, y >= 0.0)\n",
    "        JuMP.@constraint(model, α*sum(x) + β*y >= s2)\n",
    "        JuMP.add_to_expression!(obj, d*y)\n",
    "    end\n",
    "    push!(stage2, vref)\n",
    "\n",
    "    # Third stage\n",
    "    stage3 = Vector{JuMP.VariableRef}()\n",
    "    if scenario_id == PH.scid(0)\n",
    "        vref = JuMP.@variable(model, z[1:2])\n",
    "        JuMP.@constraint(model, ϵ*sum(x) + γ*y + δ*sum(z) == s11)\n",
    "        JuMP.add_to_expression!(obj, a*sum(z[i]^2 for i in 1:2))\n",
    "        \n",
    "    elseif scenario_id == PH.scid(1)\n",
    "        vref = JuMP.@variable(model, z[1:2])\n",
    "        JuMP.@constraint(model, ϵ*sum(x) + γ*y + δ*sum(z) == s12)\n",
    "        JuMP.add_to_expression!(obj, a*sum(z[i]^2 for i in 1:2))\n",
    "\n",
    "    elseif scenario_id == PH.scid(2)\n",
    "        vref = JuMP.@variable(model, z[1:2])\n",
    "        JuMP.@constraint(model, ϵ*sum(x) + γ*y + δ*sum(z) == s21)\n",
    "        JuMP.add_to_expression!(obj, a*sum(z[i]^2 for i in 1:2))\n",
    "\n",
    "    else\n",
    "        vref = JuMP.@variable(model, z[1:2])\n",
    "        JuMP.@constraint(model, ϵ*sum(x) + γ*y + δ*sum(z) == s22)\n",
    "        JuMP.add_to_expression!(obj, a*sum(z[i]^2 for i in 1:2))\n",
    "    end\n",
    "    append!(stage3, vref)\n",
    "\n",
    "    JuMP.@objective(model, Min, obj)\n",
    "    \n",
    "    vdict = Dict{PH.StageID, Vector{JuMP.VariableRef}}([PH.stid(1) => stage1,\n",
    "                                                        PH.stid(2) => stage2,\n",
    "                                                        PH.stid(3) => stage3,\n",
    "                                                        ])\n",
    "    \n",
    "    return JuMPSubproblem(model, scenario_id, vdict)\n",
    "end\n",
    ";"
   ]
  },
  {
   "cell_type": "markdown",
   "metadata": {},
   "source": [
    "### Build Scenario Tree\n",
    "Note that you must call add_leaf when adding a leaf node instead of add_node.  Failing to do so will cause undefined behavior."
   ]
  },
  {
   "cell_type": "code",
   "execution_count": null,
   "metadata": {},
   "outputs": [],
   "source": [
    "function build_scen_tree()\n",
    "\n",
    "    probs = [0.5*0.75, 0.5*0.25, 0.5*0.75, 0.5*0.25]\n",
    "    \n",
    "    tree = PH.ScenarioTree()\n",
    "    \n",
    "    for k in 1:2\n",
    "        node2 = PH.add_node(tree, tree.root)\n",
    "        for l in 1:2\n",
    "            PH.add_leaf(tree, node2, probs[(k-1)*2 + l])\n",
    "        end\n",
    "    end\n",
    "    return tree\n",
    "end\n",
    ";"
   ]
  },
  {
   "cell_type": "markdown",
   "metadata": {},
   "source": [
    "### Extensive Form Solve"
   ]
  },
  {
   "cell_type": "code",
   "execution_count": null,
   "metadata": {},
   "outputs": [],
   "source": [
    "ef_model = @time PH.solve_extensive(build_scen_tree(),\n",
    "    create_model, \n",
    "    ()->Ipopt.Optimizer(),\n",
    "    \"Unused example string\",\n",
    "    opt_args=(print_level=0,)\n",
    ")\n",
    "println(ef_model)"
   ]
  },
  {
   "cell_type": "code",
   "execution_count": null,
   "metadata": {},
   "outputs": [],
   "source": [
    "println(JuMP.termination_status(ef_model))\n",
    "println(JuMP.objective_value(ef_model))\n",
    "for var in JuMP.all_variables(ef_model)\n",
    "    println(\"$var = $(JuMP.value(var))\")\n",
    "end"
   ]
  },
  {
   "cell_type": "markdown",
   "metadata": {},
   "source": [
    "### PH Solve"
   ]
  },
  {
   "cell_type": "code",
   "execution_count": null,
   "metadata": {
    "scrolled": true
   },
   "outputs": [],
   "source": [
    "st = build_scen_tree()\n",
    "(n, err, rerr, obj, soln, phd) = PH.solve(st,\n",
    "                                          create_model,\n",
    "                                          PH.ScalarPenaltyParameter(25.0), \"Passed to constructor.\",\n",
    "                                          atol=1e-8, rtol=1e-12, max_iter=500, report=0,\n",
    "                                          key_word_arg=\"We changed this key word arg!\")\n",
    "println(\"Number of iterations: \", n)\n",
    "println(\"L^2 error: \", err)\n",
    "println(obj)"
   ]
  },
  {
   "cell_type": "code",
   "execution_count": null,
   "metadata": {},
   "outputs": [],
   "source": [
    "aobj = PH.retrieve_aug_obj_value(phd)\n",
    "println(\"Augmented Objective: \", aobj)\n",
    "println(\"Difference: \", aobj - obj)"
   ]
  },
  {
   "cell_type": "code",
   "execution_count": null,
   "metadata": {},
   "outputs": [],
   "source": []
  }
 ],
 "metadata": {
  "kernelspec": {
   "display_name": "Julia 1.5.3",
   "language": "julia",
   "name": "julia-1.5"
  },
  "language_info": {
   "file_extension": ".jl",
   "mimetype": "application/julia",
   "name": "julia",
   "version": "1.5.3"
  }
 },
 "nbformat": 4,
 "nbformat_minor": 2
}
