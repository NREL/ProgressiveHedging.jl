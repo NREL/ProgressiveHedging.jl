{
 "cells": [
  {
   "cell_type": "code",
   "execution_count": 1,
   "metadata": {},
   "outputs": [
    {
     "name": "stderr",
     "output_type": "stream",
     "text": [
      "\u001b[32m\u001b[1m Activating\u001b[22m\u001b[39m environment at `~/jdev/ProgressiveHedging/Project.toml`\n"
     ]
    },
    {
     "name": "stdout",
     "output_type": "stream",
     "text": [
      "\u001b[36m\u001b[1mProject \u001b[22m\u001b[39mProgressiveHedging v0.4.0\n",
      "\u001b[32m\u001b[1mStatus\u001b[22m\u001b[39m `~/jdev/ProgressiveHedging/Project.toml`\n",
      " \u001b[90m [a93c6f00]\u001b[39m\u001b[37m DataFrames v0.20.2\u001b[39m\n",
      " \u001b[90m [b6b21f68]\u001b[39m\u001b[37m Ipopt v0.6.1\u001b[39m\n",
      " \u001b[90m [4076af6c]\u001b[39m\u001b[37m JuMP v0.21.2\u001b[39m\n",
      " \u001b[90m [b8f27783]\u001b[39m\u001b[37m MathOptInterface v0.9.13\u001b[39m\n",
      " \u001b[90m [a759f4b9]\u001b[39m\u001b[37m TimerOutputs v0.5.3\u001b[39m\n",
      " \u001b[90m [8ba89e20]\u001b[39m\u001b[37m Distributed \u001b[39m\n",
      " \u001b[90m [de0858da]\u001b[39m\u001b[37m Printf \u001b[39m\n"
     ]
    }
   ],
   "source": [
    "using Pkg\n",
    "# Activate environment that has ProgressiveHedging installed\n",
    "Pkg.activate(\"..\")\n",
    "Pkg.status()"
   ]
  },
  {
   "cell_type": "code",
   "execution_count": 2,
   "metadata": {},
   "outputs": [],
   "source": [
    "using Distributed\n",
    "const WORKERS = 1 # Change to > 1 to use parallel\n",
    "if nworkers() < WORKERS\n",
    "    diff = (nprocs() == nworkers() ? WORKERS : WORKERS - nworkers())\n",
    "    println(\"Adding $diff worker processes.\")\n",
    "    Distributed.addprocs(diff)\n",
    "    # Make sure these workers also have an environment with PH installed\n",
    "    @everywhere using Pkg\n",
    "    for w in workers()\n",
    "        @spawnat(w, Pkg.activate(\"..\"))\n",
    "    end\n",
    "end\n",
    "\n",
    "@everywhere using ProgressiveHedging\n",
    "const PH = ProgressiveHedging\n",
    "\n",
    "@everywhere using Ipopt\n",
    "@everywhere using JuMP"
   ]
  },
  {
   "cell_type": "markdown",
   "metadata": {},
   "source": [
    "### Model Construction Function Definition"
   ]
  },
  {
   "cell_type": "code",
   "execution_count": 3,
   "metadata": {},
   "outputs": [],
   "source": [
    "function variable_dict()\n",
    "    first_stage_vars = [\"x[1]\", \"x[2]\", \"x[3]\"]\n",
    "    second_stage_vars = [\"y\"]\n",
    "    third_stage_vars = [\"z[1]\", \"z[2]\"]\n",
    "\n",
    "    var_dict = Dict(1=>first_stage_vars,\n",
    "                    2=>second_stage_vars,\n",
    "                    3=>third_stage_vars)\n",
    "    return var_dict\n",
    "end\n",
    "\n",
    "@everywhere function create_model(scenario_id::PH.ScenarioID,\n",
    "        additional_arg::String; key_word_arg::String=\"Default key word argument\", kwargs...\n",
    "        )\n",
    "    \n",
    "    model = JuMP.Model(()->Ipopt.Optimizer(print_level=0, tol=1e-12))\n",
    "    \n",
    "    println(additional_arg)\n",
    "    println(key_word_arg)\n",
    "    \n",
    "    c = [1.0, 10.0, 0.01]\n",
    "    d = 7.0\n",
    "    a = 16.0\n",
    "\n",
    "    α = 1.0\n",
    "    β = 1.0\n",
    "    γ = 1.0\n",
    "    δ = 1.0\n",
    "    ϵ = 1.0\n",
    "\n",
    "    s1 = 8.0\n",
    "    s2 = 4.0\n",
    "    s11 = 9.0\n",
    "    s12 = 16.0\n",
    "    s21 = 5.0\n",
    "    s22 = 18.0\n",
    "    \n",
    "    stage1 = JuMP.@variable(model, x[1:3] >= 0.0)\n",
    "    JuMP.@constraint(model, x[3] <= 1.0)\n",
    "    obj = zero(JuMP.GenericQuadExpr{Float64,JuMP.VariableRef})\n",
    "    JuMP.add_to_expression!(obj, sum(c.*x))\n",
    "\n",
    "    # Second stage\n",
    "    stage2 = Vector{JuMP.VariableRef}()\n",
    "    if scenario_id < PH.scid(2)\n",
    "        vref = JuMP.@variable(model, y >= 0.0)\n",
    "        JuMP.@constraint(model, α*sum(x) + β*y >= s1)\n",
    "        JuMP.add_to_expression!(obj, d*y)\n",
    "    else\n",
    "        vref = JuMP.@variable(model, y >= 0.0)\n",
    "        JuMP.@constraint(model, α*sum(x) + β*y >= s2)\n",
    "        JuMP.add_to_expression!(obj, d*y)\n",
    "    end\n",
    "    push!(stage2, vref)\n",
    "\n",
    "    # Third stage\n",
    "    stage3 = Vector{JuMP.VariableRef}()\n",
    "    if scenario_id == PH.scid(0)\n",
    "        vref = JuMP.@variable(model, z[1:2])\n",
    "        JuMP.@constraint(model, ϵ*sum(x) + γ*y + δ*sum(z) == s11)\n",
    "        JuMP.add_to_expression!(obj, a*sum(z[i]^2 for i in 1:2))\n",
    "        \n",
    "    elseif scenario_id == PH.scid(1)\n",
    "        vref = JuMP.@variable(model, z[1:2])\n",
    "        JuMP.@constraint(model, ϵ*sum(x) + γ*y + δ*sum(z) == s12)\n",
    "        JuMP.add_to_expression!(obj, a*sum(z[i]^2 for i in 1:2))\n",
    "\n",
    "    elseif scenario_id == PH.scid(2)\n",
    "        vref = JuMP.@variable(model, z[1:2])\n",
    "        JuMP.@constraint(model, ϵ*sum(x) + γ*y + δ*sum(z) == s21)\n",
    "        JuMP.add_to_expression!(obj, a*sum(z[i]^2 for i in 1:2))\n",
    "\n",
    "    else\n",
    "        vref = JuMP.@variable(model, z[1:2])\n",
    "        JuMP.@constraint(model, ϵ*sum(x) + γ*y + δ*sum(z) == s22)\n",
    "        JuMP.add_to_expression!(obj, a*sum(z[i]^2 for i in 1:2))\n",
    "    end\n",
    "    append!(stage3, vref)\n",
    "\n",
    "    JuMP.@objective(model, Min, obj)\n",
    "    \n",
    "    vdict = Dict{PH.StageID, Vector{JuMP.VariableRef}}([PH.stid(1) => stage1,\n",
    "                                                        PH.stid(2) => stage2,\n",
    "                                                        PH.stid(3) => stage3,\n",
    "                                                        ])\n",
    "    \n",
    "    return JuMPSubproblem(model, scenario_id, vdict)\n",
    "end\n",
    ";"
   ]
  },
  {
   "cell_type": "markdown",
   "metadata": {},
   "source": [
    "### Build Scenario Tree\n",
    "Note that you must call add_leaf when adding a leaf node instead of add_node.  Failing to do so will cause undefined behavior."
   ]
  },
  {
   "cell_type": "code",
   "execution_count": 4,
   "metadata": {},
   "outputs": [],
   "source": [
    "function build_scen_tree()\n",
    "\n",
    "    probs = [0.5*0.75, 0.5*0.25, 0.5*0.75, 0.5*0.25]\n",
    "    \n",
    "    tree = PH.ScenarioTree()\n",
    "    \n",
    "    for k in 1:2\n",
    "        node2 = PH.add_node(tree, tree.root)\n",
    "        for l in 1:2\n",
    "            PH.add_leaf(tree, node2, probs[(k-1)*2 + l])\n",
    "        end\n",
    "    end\n",
    "    return tree\n",
    "end\n",
    ";"
   ]
  },
  {
   "cell_type": "markdown",
   "metadata": {},
   "source": [
    "### Extensive Form Solve"
   ]
  },
  {
   "cell_type": "code",
   "execution_count": 5,
   "metadata": {},
   "outputs": [
    {
     "name": "stdout",
     "output_type": "stream",
     "text": [
      "Unused example string\n",
      "Default key word argument\n",
      "Unused example string\n",
      "Default key word argument\n",
      "Unused example string\n",
      "Default key word argument\n",
      "Unused example string\n",
      "Default key word argument\n",
      "\n",
      "******************************************************************************\n",
      "This program contains Ipopt, a library for large-scale nonlinear optimization.\n",
      " Ipopt is released as open source code under the Eclipse Public License (EPL).\n",
      "         For more information visit http://projects.coin-or.org/Ipopt\n",
      "******************************************************************************\n",
      "\n",
      "Min 6 z[1]_{2}² + 6 z[2]_{2}² + 2 z[1]_{1}² + 2 z[2]_{1}² + 6 z[1]_{0}² + 6 z[2]_{0}² + 2 z[1]_{3}² + 2 z[2]_{3}² + x[1]_{0,1,2,3} + 10 x[2]_{0,1,2,3} + 0.01 x[3]_{0,1,2,3} + 3.5 y_{2,3} + 3.5 y_{0,1}\n",
      "Subject to\n",
      " x[1]_{0,1,2,3} + x[2]_{0,1,2,3} + x[3]_{0,1,2,3} + y_{2,3} + z[1]_{2} + z[2]_{2} = 5.0\n",
      " x[1]_{0,1,2,3} + x[2]_{0,1,2,3} + x[3]_{0,1,2,3} + y_{0,1} + z[1]_{1} + z[2]_{1} = 16.0\n",
      " x[1]_{0,1,2,3} + x[2]_{0,1,2,3} + x[3]_{0,1,2,3} + y_{0,1} + z[1]_{0} + z[2]_{0} = 9.0\n",
      " x[1]_{0,1,2,3} + x[2]_{0,1,2,3} + x[3]_{0,1,2,3} + y_{2,3} + z[1]_{3} + z[2]_{3} = 18.0\n",
      " x[1]_{0,1,2,3} + x[2]_{0,1,2,3} + x[3]_{0,1,2,3} + y_{2,3} ≥ 4.0\n",
      " x[1]_{0,1,2,3} + x[2]_{0,1,2,3} + x[3]_{0,1,2,3} + y_{0,1} ≥ 8.0\n",
      " x[3]_{0,1,2,3} ≤ 1.0\n",
      " y_{2,3} ≥ 0.0\n",
      " x[1]_{0,1,2,3} ≥ 0.0\n",
      " x[2]_{0,1,2,3} ≥ 0.0\n",
      " x[3]_{0,1,2,3} ≥ 0.0\n",
      " y_{0,1} ≥ 0.0\n",
      "\n"
     ]
    }
   ],
   "source": [
    "ef_model = PH.solve_extensive(build_scen_tree(),\n",
    "    create_model, \n",
    "    ()->Ipopt.Optimizer(print_level=0),\n",
    "    \"Unused example string\",\n",
    ")\n",
    "println(ef_model)"
   ]
  },
  {
   "cell_type": "code",
   "execution_count": 6,
   "metadata": {},
   "outputs": [
    {
     "name": "stdout",
     "output_type": "stream",
     "text": [
      "LOCALLY_SOLVED\n",
      "178.35374984762046\n",
      "y_{2,3} = 0.0\n",
      "x[1]_{0,1,2,3} = 7.562500011769157\n",
      "x[2]_{0,1,2,3} = 0.0\n",
      "x[3]_{0,1,2,3} = 1.000000007465833\n",
      "z[1]_{2} = -1.7812499999655194\n",
      "z[2]_{2} = -1.7812499999655194\n",
      "y_{0,1} = 1.7499999908010666\n",
      "z[1]_{1} = 2.843749999842752\n",
      "z[2]_{1} = 2.843749999842752\n",
      "z[1]_{0} = -0.656250000157248\n",
      "z[2]_{0} = -0.656250000157248\n",
      "z[1]_{3} = 4.718750000034481\n",
      "z[2]_{3} = 4.718750000034481\n"
     ]
    }
   ],
   "source": [
    "println(JuMP.termination_status(ef_model))\n",
    "println(JuMP.objective_value(ef_model))\n",
    "for var in JuMP.all_variables(ef_model)\n",
    "    println(\"$var = $(JuMP.value(var))\")\n",
    "end"
   ]
  },
  {
   "cell_type": "markdown",
   "metadata": {},
   "source": [
    "### PH Solve"
   ]
  },
  {
   "cell_type": "code",
   "execution_count": 7,
   "metadata": {
    "scrolled": true
   },
   "outputs": [
    {
     "name": "stdout",
     "output_type": "stream",
     "text": [
      "Initializing...\n",
      "...building submodels...\n",
      "Passed to constructor.\n",
      "We changed this key word arg!\n",
      "Passed to constructor.\n",
      "We changed this key word arg!\n",
      "Passed to constructor.\n",
      "We changed this key word arg!\n",
      "Passed to constructor.\n",
      "We changed this key word arg!\n",
      "...computing starting values...\n",
      "...augmenting objectives...\n",
      "Solving...\n",
      "Iter:    0   AbsR: 4.340309e+00   RelR: 5.144070e-01   Xhat: 3.799774e+00   X: 2.097618e+00\n",
      "Iter:    1   AbsR: 1.481594e+00   RelR: 1.849188e-01   Xhat: 6.743548e-01   X: 1.319229e+00\n",
      "Iter:    2   AbsR: 5.299999e-01   RelR: 6.701363e-02   Xhat: 2.692031e-01   X: 4.565410e-01\n",
      "Iter:    3   AbsR: 3.623073e-01   RelR: 4.551418e-02   Xhat: 2.150947e-01   X: 2.915491e-01\n",
      "Iter:    4   AbsR: 2.771676e-01   RelR: 3.442779e-02   Xhat: 1.673351e-01   X: 2.209544e-01\n",
      "Iter:    5   AbsR: 2.179884e-01   RelR: 2.681599e-02   Xhat: 1.099957e-01   X: 1.882017e-01\n",
      "Iter:    6   AbsR: 1.659724e-01   RelR: 2.027443e-02   Xhat: 5.723030e-02   X: 1.557933e-01\n",
      "Iter:    7   AbsR: 1.398478e-01   RelR: 1.702683e-02   Xhat: 3.678964e-02   X: 1.349219e-01\n",
      "Iter:    8   AbsR: 1.163837e-01   RelR: 1.417667e-02   Xhat: 2.393079e-02   X: 1.138968e-01\n",
      "Iter:    9   AbsR: 5.725313e-02   RelR: 6.989773e-03   Xhat: 1.598992e-02   X: 5.497494e-02\n",
      "Iter:   10   AbsR: 4.244714e-02   RelR: 5.193376e-03   Xhat: 1.301038e-02   X: 4.040407e-02\n",
      "Iter:   11   AbsR: 3.323296e-02   RelR: 4.073047e-03   Xhat: 1.486406e-02   X: 2.972355e-02\n",
      "Iter:   12   AbsR: 2.630566e-02   RelR: 3.228974e-03   Xhat: 1.542413e-02   X: 2.130925e-02\n",
      "Iter:   13   AbsR: 2.143121e-02   RelR: 2.634703e-03   Xhat: 1.521590e-02   X: 1.509215e-02\n",
      "Iter:   14   AbsR: 1.834528e-02   RelR: 2.259006e-03   Xhat: 1.494863e-02   X: 1.063427e-02\n",
      "Iter:   15   AbsR: 1.643076e-02   RelR: 2.026762e-03   Xhat: 1.460818e-02   X: 7.521353e-03\n",
      "Iter:   16   AbsR: 1.518676e-02   RelR: 1.876746e-03   Xhat: 1.420000e-02   X: 5.384944e-03\n",
      "Iter:   17   AbsR: 1.433709e-02   RelR: 1.775164e-03   Xhat: 1.378751e-02   X: 3.931498e-03\n",
      "Iter:   18   AbsR: 1.374258e-02   RelR: 1.704995e-03   Xhat: 1.342358e-02   X: 2.943791e-03\n",
      "Iter:   19   AbsR: 1.332641e-02   RelR: 1.656846e-03   Xhat: 1.313281e-02   X: 2.263297e-03\n",
      "Iter:   20   AbsR: 1.303930e-02   RelR: 1.624688e-03   Xhat: 1.291745e-02   X: 1.778444e-03\n",
      "Iter:   21   AbsR: 1.284584e-02   RelR: 1.604183e-03   Xhat: 1.276752e-02   X: 1.416382e-03\n",
      "Iter:   22   AbsR: 1.271769e-02   RelR: 1.591845e-03   Xhat: 1.266738e-02   X: 1.130056e-03\n",
      "Iter:   23   AbsR: 1.263609e-02   RelR: 1.585359e-03   Xhat: 1.260419e-02   X: 8.973162e-04\n",
      "Iter:   24   AbsR: 1.258624e-02   RelR: 1.582889e-03   Xhat: 1.256657e-02   X: 7.033566e-04\n",
      "Iter:   25   AbsR: 1.255698e-02   RelR: 1.583042e-03   Xhat: 1.254531e-02   X: 5.414159e-04\n",
      "Iter:   26   AbsR: 1.254051e-02   RelR: 1.584843e-03   Xhat: 1.253386e-02   X: 4.085901e-04\n",
      "Iter:   27   AbsR: 1.253161e-02   RelR: 1.587634e-03   Xhat: 1.252796e-02   X: 3.024666e-04\n",
      "Iter:   28   AbsR: 1.252698e-02   RelR: 1.590999e-03   Xhat: 1.252505e-02   X: 2.198707e-04\n",
      "Iter:   29   AbsR: 1.252466e-02   RelR: 1.594687e-03   Xhat: 1.252367e-02   X: 1.570862e-04\n",
      "Iter:   30   AbsR: 1.252354e-02   RelR: 1.598556e-03   Xhat: 1.252305e-02   X: 1.103595e-04\n",
      "Iter:   31   AbsR: 1.252302e-02   RelR: 1.602528e-03   Xhat: 1.252279e-02   X: 7.625273e-05\n",
      "Iter:   32   AbsR: 1.252279e-02   RelR: 1.606562e-03   Xhat: 1.252268e-02   X: 5.181291e-05\n",
      "Iter:   33   AbsR: 1.252269e-02   RelR: 1.610635e-03   Xhat: 1.252264e-02   X: 3.461526e-05\n",
      "Iter:   34   AbsR: 1.252264e-02   RelR: 1.614740e-03   Xhat: 1.252262e-02   X: 2.273630e-05\n",
      "Iter:   35   AbsR: 1.252263e-02   RelR: 1.618869e-03   Xhat: 1.252262e-02   X: 1.469264e-05\n",
      "Iter:   36   AbsR: 1.252262e-02   RelR: 1.623022e-03   Xhat: 1.252262e-02   X: 9.367351e-06\n",
      "Iter:   37   AbsR: 1.252262e-02   RelR: 1.627198e-03   Xhat: 1.252262e-02   X: 5.936374e-06\n",
      "Iter:   38   AbsR: 1.252262e-02   RelR: 1.631395e-03   Xhat: 1.252262e-02   X: 3.800298e-06\n",
      "Iter:   39   AbsR: 1.252262e-02   RelR: 1.635614e-03   Xhat: 1.252262e-02   X: 2.523323e-06\n",
      "Iter:   40   AbsR: 1.252262e-02   RelR: 1.639855e-03   Xhat: 1.252262e-02   X: 1.783657e-06\n",
      "Iter:   41   AbsR: 9.459610e-03   RelR: 1.241555e-03   Xhat: 9.453302e-03   X: 3.454030e-04\n",
      "Iter:   42   AbsR: 6.150928e-03   RelR: 8.085814e-04   Xhat: 6.064732e-03   X: 1.026128e-03\n",
      "Iter:   43   AbsR: 5.379431e-03   RelR: 7.079960e-04   Xhat: 5.221505e-03   X: 1.293894e-03\n",
      "Iter:   44   AbsR: 4.745499e-03   RelR: 6.251274e-04   Xhat: 4.554376e-03   X: 1.333200e-03\n",
      "Iter:   45   AbsR: 4.116765e-03   RelR: 5.426918e-04   Xhat: 3.906342e-03   X: 1.299327e-03\n",
      "Iter:   46   AbsR: 3.493796e-03   RelR: 4.608365e-04   Xhat: 3.279460e-03   X: 1.204888e-03\n",
      "Iter:   47   AbsR: 2.921279e-03   RelR: 3.855038e-04   Xhat: 2.716491e-03   X: 1.074499e-03\n",
      "Iter:   48   AbsR: 2.419021e-03   RelR: 3.193477e-04   Xhat: 2.231670e-03   X: 9.334422e-04\n",
      "Iter:   49   AbsR: 1.989829e-03   RelR: 2.627708e-04   Xhat: 1.823283e-03   X: 7.969045e-04\n",
      "Iter:   50   AbsR: 1.628949e-03   RelR: 2.151693e-04   Xhat: 1.483774e-03   X: 6.722258e-04\n",
      "Iter:   51   AbsR: 1.328562e-03   RelR: 1.755275e-04   Xhat: 1.203836e-03   X: 5.620098e-04\n",
      "Iter:   52   AbsR: 1.080244e-03   RelR: 1.427442e-04   Xhat: 9.742937e-04   X: 4.665607e-04\n",
      "Iter:   53   AbsR: 8.760519e-04   RelR: 1.157778e-04   Xhat: 7.868656e-04   X: 3.851096e-04\n",
      "Iter:   54   AbsR: 7.088677e-04   RelR: 9.369324e-05   Xhat: 6.343496e-04   X: 3.163764e-04\n",
      "Iter:   55   AbsR: 5.724723e-04   RelR: 7.567210e-05   Xhat: 5.105954e-04   X: 2.588762e-04\n",
      "Iter:   56   AbsR: 4.615281e-04   RelR: 6.101127e-05   Xhat: 4.104182e-04   X: 2.111043e-04\n",
      "Iter:   57   AbsR: 3.715171e-04   RelR: 4.911513e-05   Xhat: 3.294917e-04   X: 1.716396e-04\n",
      "Iter:   58   AbsR: 2.986537e-04   RelR: 3.948427e-05   Xhat: 2.642333e-04   X: 1.391933e-04\n",
      "Iter:   59   AbsR: 2.397885e-04   RelR: 3.170301e-05   Xhat: 2.116930e-04   X: 1.126260e-04\n",
      "Iter:   60   AbsR: 1.923164e-04   RelR: 2.542734e-05   Xhat: 1.694517e-04   X: 9.094897e-05\n",
      "Iter:   61   AbsR: 1.540922e-04   RelR: 2.037397e-05   Xhat: 1.355331e-04   X: 7.331573e-05\n",
      "Iter:   62   AbsR: 1.233575e-04   RelR: 1.631055e-05   Xhat: 1.083278e-04   X: 5.900984e-05\n",
      "Iter:   63   AbsR: 9.867553e-05   RelR: 1.304724e-05   Xhat: 8.652880e-05   X: 4.743023e-05\n",
      "Iter:   64   AbsR: 7.887633e-05   RelR: 1.042944e-05   Xhat: 6.907725e-05   X: 3.807637e-05\n",
      "Iter:   65   AbsR: 6.300980e-05   RelR: 8.331567e-06   Xhat: 5.511726e-05   X: 3.053395e-05\n",
      "Iter:   66   AbsR: 5.030614e-05   RelR: 6.651856e-06   Xhat: 4.395826e-05   X: 2.446179e-05\n",
      "Iter:   67   AbsR: 4.014302e-05   RelR: 5.308044e-06   Xhat: 3.504397e-05   X: 1.958015e-05\n",
      "Iter:   68   AbsR: 3.201821e-05   RelR: 4.233734e-06   Xhat: 2.792696e-05   X: 1.566049e-05\n",
      "Iter:   69   AbsR: 2.552712e-05   RelR: 3.375437e-06   Xhat: 2.224781e-05   X: 1.251675e-05\n",
      "Iter:   70   AbsR: 2.034425e-05   RelR: 2.690117e-06   Xhat: 1.771814e-05   X: 9.997798e-06\n",
      "Iter:   71   AbsR: 1.620813e-05   RelR: 2.143203e-06   Xhat: 1.410683e-05   X: 7.981278e-06\n",
      "Iter:   72   AbsR: 1.290890e-05   RelR: 1.706950e-06   Xhat: 1.122877e-05   X: 6.368249e-06\n",
      "Iter:   73   AbsR: 1.027839e-05   RelR: 1.359118e-06   Xhat: 8.935875e-06   X: 5.078916e-06\n",
      "Iter:   74   AbsR: 8.181791e-06   RelR: 1.081885e-06   Xhat: 7.109720e-06   X: 4.048898e-06\n",
      "Iter:   75   AbsR: 6.511381e-06   RelR: 8.610058e-07   Xhat: 5.655718e-06   X: 3.226597e-06\n",
      "Iter:   76   AbsR: 5.180940e-06   RelR: 6.850809e-07   Xhat: 4.498324e-06   X: 2.570450e-06\n",
      "Iter:   77   AbsR: 4.121614e-06   RelR: 5.450055e-07   Xhat: 3.577253e-06   X: 2.047184e-06\n",
      "Iter:   78   AbsR: 3.278204e-06   RelR: 4.334807e-07   Xhat: 2.844351e-06   X: 1.629812e-06\n",
      "Iter:   79   AbsR: 2.607046e-06   RelR: 3.447328e-07   Xhat: 2.261332e-06   X: 1.297331e-06\n",
      "Iter:   80   AbsR: 2.073043e-06   RelR: 2.741211e-07   Xhat: 1.797636e-06   X: 1.032479e-06\n",
      "Iter:   81   AbsR: 1.648300e-06   RelR: 2.179569e-07   Xhat: 1.428902e-06   X: 8.216644e-07\n",
      "Iter:   82   AbsR: 1.310688e-06   RelR: 1.733140e-07   Xhat: 1.135777e-06   X: 6.541522e-07\n",
      "Iter:   83   AbsR: 1.041422e-06   RelR: 1.377086e-07   Xhat: 9.025294e-07   X: 5.196151e-07\n",
      "Iter:   84   AbsR: 8.276788e-07   RelR: 1.094451e-07   Xhat: 7.171113e-07   X: 4.132840e-07\n",
      "Iter:   85   AbsR: 6.580058e-07   RelR: 8.700899e-08   Xhat: 5.698856e-07   X: 3.289407e-07\n"
     ]
    },
    {
     "name": "stdout",
     "output_type": "stream",
     "text": [
      "Iter:   86   AbsR: 5.233350e-07   RelR: 6.920130e-08   Xhat: 4.529441e-07   X: 2.621472e-07\n",
      "Iter:   87   AbsR: 4.165965e-07   RelR: 5.508713e-08   Xhat: 3.601070e-07   X: 2.094652e-07\n",
      "Iter:   88   AbsR: 3.321094e-07   RelR: 4.391529e-08   Xhat: 2.864456e-07   X: 1.680642e-07\n",
      "Iter:   89   AbsR: 2.652737e-07   RelR: 3.507751e-08   Xhat: 2.280039e-07   X: 1.355890e-07\n",
      "Iter:   90   AbsR: 2.082633e-07   RelR: 2.753895e-08   Xhat: 1.806488e-07   X: 1.036322e-07\n",
      "Iter:   91   AbsR: 1.646561e-07   RelR: 2.177271e-08   Xhat: 1.425839e-07   X: 8.234968e-08\n",
      "Iter:   92   AbsR: 1.316630e-07   RelR: 1.740998e-08   Xhat: 1.135323e-07   X: 6.667507e-08\n",
      "Iter:   93   AbsR: 1.056604e-07   RelR: 1.397163e-08   Xhat: 9.059331e-08   X: 5.437812e-08\n",
      "Iter:   94   AbsR: 8.499332e-08   RelR: 1.123879e-08   Xhat: 7.232463e-08   X: 4.464316e-08\n",
      "Iter:   95   AbsR: 6.854051e-08   RelR: 9.063207e-09   Xhat: 5.774873e-08   X: 3.691727e-08\n",
      "Iter:   96   AbsR: 5.542966e-08   RelR: 7.329541e-09   Xhat: 4.610951e-08   X: 3.076296e-08\n",
      "Iter:   97   AbsR: 4.497133e-08   RelR: 5.946622e-09   Xhat: 3.680786e-08   X: 2.583800e-08\n",
      "Iter:   98   AbsR: 3.662139e-08   RelR: 4.842498e-09   Xhat: 2.936873e-08   X: 2.187702e-08\n",
      "Iter:   99   AbsR: 2.995030e-08   RelR: 3.960370e-09   Xhat: 2.341553e-08   X: 1.867440e-08\n",
      "Iter:  100   AbsR: 2.461829e-08   RelR: 3.255311e-09   Xhat: 1.864938e-08   X: 1.607049e-08\n",
      "Iter:  101   AbsR: 2.035576e-08   RelR: 2.691671e-09   Xhat: 1.483266e-08   X: 1.394092e-08\n",
      "Iter:  102   AbsR: 1.694808e-08   RelR: 2.241068e-09   Xhat: 1.177610e-08   X: 1.218855e-08\n",
      "Iter:  103   AbsR: 1.422371e-08   RelR: 1.880821e-09   Xhat: 9.328732e-09   X: 1.073725e-08\n",
      "Iter:  104   AbsR: 1.204506e-08   RelR: 1.592735e-09   Xhat: 7.369911e-09   X: 9.527212e-09\n",
      "Iter:  105   AbsR: 1.030139e-08   RelR: 1.362167e-09   Xhat: 5.803103e-09   X: 8.511319e-09\n",
      "Iter:  106   AbsR: 8.903393e-09   RelR: 1.177308e-09   Xhat: 4.550972e-09   X: 7.652389e-09\n",
      "Done.\n",
      "\u001b[0m\u001b[1m ──────────────────────────────────────────────────────────────────────────────\u001b[22m\n",
      "\u001b[0m\u001b[1m                               \u001b[22m        Time                   Allocations      \n",
      "                               ──────────────────────   ───────────────────────\n",
      "       Tot / % measured:            6.72s / 93.9%            473MiB / 95.2%    \n",
      "\n",
      " Section               ncalls     time   %tot     avg     alloc   %tot      avg\n",
      " ──────────────────────────────────────────────────────────────────────────────\n",
      " Solution                   1    3.59s  56.9%   3.59s    152MiB  33.8%   152MiB\n",
      "   Solve subproblems      106    3.02s  48.0%  28.5ms    126MiB  28.0%  1.19MiB\n",
      "   Fix PH variables       106    273ms  4.33%  2.57ms   13.5MiB  2.99%   130KiB\n",
      "   Update PH Vars         107    138ms  2.19%  1.29ms   7.93MiB  1.76%  75.9KiB\n",
      "   Update PH leaf v...      1    117μs  0.00%   117μs   29.0KiB  0.01%  29.0KiB\n",
      " Intialization              1    2.71s  43.1%   2.71s    298MiB  66.2%   298MiB\n",
      "   Compute start va...      1    1.49s  23.6%   1.49s    228MiB  50.5%   228MiB\n",
      "   Submodel constru...      1    529ms  8.40%   529ms   49.5MiB  11.0%  49.5MiB\n",
      "     Create models          1    265ms  4.20%   265ms   29.3MiB  6.49%  29.3MiB\n",
      "     Collect variables      1    264ms  4.19%   264ms   20.2MiB  4.49%  20.2MiB\n",
      "   Augment objectives       1    227ms  3.60%   227ms   15.3MiB  3.39%  15.3MiB\n",
      "\u001b[0m\u001b[1m ──────────────────────────────────────────────────────────────────────────────\u001b[22m\n",
      "Number of iterations: 106\n",
      "L^2 error: 8.903392833708169e-9\n",
      "178.3537484417847\n"
     ]
    }
   ],
   "source": [
    "(n, err, obj, soln, phd) = PH.solve(build_scen_tree(),\n",
    "                                    create_model,\n",
    "                                    25.0, \"Passed to constructor.\",\n",
    "                                    atol=1e-8, rtol=1e-12, max_iter=500, report=1,\n",
    "                                    key_word_arg=\"We changed this key word arg!\")\n",
    "println(\"Number of iterations: \", n)\n",
    "println(\"L^2 error: \", err)\n",
    "println(obj)"
   ]
  },
  {
   "cell_type": "code",
   "execution_count": 8,
   "metadata": {},
   "outputs": [
    {
     "name": "stdout",
     "output_type": "stream",
     "text": [
      "Augmented Objective: 178.35374984010076\n",
      "Difference: 1.398316072709349e-6\n"
     ]
    }
   ],
   "source": [
    "aobj = PH.retrieve_aug_obj_value(phd)\n",
    "println(\"Augmented Objective: \", aobj)\n",
    "println(\"Difference: \", aobj - obj)"
   ]
  },
  {
   "cell_type": "code",
   "execution_count": 9,
   "metadata": {},
   "outputs": [
    {
     "data": {
      "text/html": [
       "<table class=\"data-frame\"><thead><tr><th></th><th>variable</th><th>value</th><th>stage</th><th>scenarios</th></tr><tr><th></th><th>String</th><th>Float64</th><th>Int64</th><th>String</th></tr></thead><tbody><p>13 rows × 4 columns</p><tr><th>1</th><td>x[3]</td><td>1.0</td><td>1</td><td>0,1,2,3</td></tr><tr><th>2</th><td>x[2]</td><td>4.28483e-9</td><td>1</td><td>0,1,2,3</td></tr><tr><th>3</th><td>x[1]</td><td>7.5625</td><td>1</td><td>0,1,2,3</td></tr><tr><th>4</th><td>y</td><td>1.75</td><td>2</td><td>0,1</td></tr><tr><th>5</th><td>z[2]</td><td>-0.65625</td><td>3</td><td>0</td></tr><tr><th>6</th><td>z[1]</td><td>-0.65625</td><td>3</td><td>0</td></tr><tr><th>7</th><td>z[1]</td><td>2.84375</td><td>3</td><td>1</td></tr><tr><th>8</th><td>z[2]</td><td>2.84375</td><td>3</td><td>1</td></tr><tr><th>9</th><td>y</td><td>9.87429e-9</td><td>2</td><td>2,3</td></tr><tr><th>10</th><td>z[2]</td><td>-1.78125</td><td>3</td><td>2</td></tr><tr><th>11</th><td>z[1]</td><td>-1.78125</td><td>3</td><td>2</td></tr><tr><th>12</th><td>z[1]</td><td>4.71875</td><td>3</td><td>3</td></tr><tr><th>13</th><td>z[2]</td><td>4.71875</td><td>3</td><td>3</td></tr></tbody></table>"
      ],
      "text/latex": [
       "\\begin{tabular}{r|cccc}\n",
       "\t& variable & value & stage & scenarios\\\\\n",
       "\t\\hline\n",
       "\t& String & Float64 & Int64 & String\\\\\n",
       "\t\\hline\n",
       "\t1 & x[3] & 1.0 & 1 & 0,1,2,3 \\\\\n",
       "\t2 & x[2] & 4.28483e-9 & 1 & 0,1,2,3 \\\\\n",
       "\t3 & x[1] & 7.5625 & 1 & 0,1,2,3 \\\\\n",
       "\t4 & y & 1.75 & 2 & 0,1 \\\\\n",
       "\t5 & z[2] & -0.65625 & 3 & 0 \\\\\n",
       "\t6 & z[1] & -0.65625 & 3 & 0 \\\\\n",
       "\t7 & z[1] & 2.84375 & 3 & 1 \\\\\n",
       "\t8 & z[2] & 2.84375 & 3 & 1 \\\\\n",
       "\t9 & y & 9.87429e-9 & 2 & 2,3 \\\\\n",
       "\t10 & z[2] & -1.78125 & 3 & 2 \\\\\n",
       "\t11 & z[1] & -1.78125 & 3 & 2 \\\\\n",
       "\t12 & z[1] & 4.71875 & 3 & 3 \\\\\n",
       "\t13 & z[2] & 4.71875 & 3 & 3 \\\\\n",
       "\\end{tabular}\n"
      ],
      "text/plain": [
       "13×4 DataFrames.DataFrame\n",
       "│ Row │ variable │ value      │ stage │ scenarios │\n",
       "│     │ \u001b[90mString\u001b[39m   │ \u001b[90mFloat64\u001b[39m    │ \u001b[90mInt64\u001b[39m │ \u001b[90mString\u001b[39m    │\n",
       "├─────┼──────────┼────────────┼───────┼───────────┤\n",
       "│ 1   │ x[3]     │ 1.0        │ 1     │ 0,1,2,3   │\n",
       "│ 2   │ x[2]     │ 4.28483e-9 │ 1     │ 0,1,2,3   │\n",
       "│ 3   │ x[1]     │ 7.5625     │ 1     │ 0,1,2,3   │\n",
       "│ 4   │ y        │ 1.75       │ 2     │ 0,1       │\n",
       "│ 5   │ z[2]     │ -0.65625   │ 3     │ 0         │\n",
       "│ 6   │ z[1]     │ -0.65625   │ 3     │ 0         │\n",
       "│ 7   │ z[1]     │ 2.84375    │ 3     │ 1         │\n",
       "│ 8   │ z[2]     │ 2.84375    │ 3     │ 1         │\n",
       "│ 9   │ y        │ 9.87429e-9 │ 2     │ 2,3       │\n",
       "│ 10  │ z[2]     │ -1.78125   │ 3     │ 2         │\n",
       "│ 11  │ z[1]     │ -1.78125   │ 3     │ 2         │\n",
       "│ 12  │ z[1]     │ 4.71875    │ 3     │ 3         │\n",
       "│ 13  │ z[2]     │ 4.71875    │ 3     │ 3         │"
      ]
     },
     "execution_count": 9,
     "metadata": {},
     "output_type": "execute_result"
    }
   ],
   "source": [
    "soln"
   ]
  },
  {
   "cell_type": "code",
   "execution_count": 10,
   "metadata": {},
   "outputs": [
    {
     "data": {
      "text/html": [
       "<table class=\"data-frame\"><thead><tr><th></th><th>variable</th><th>value</th><th>stage</th><th>scenario</th><th>index</th></tr><tr><th></th><th>String</th><th>Float64</th><th>Int64</th><th>Int64</th><th>Int64</th></tr></thead><tbody><p>24 rows × 5 columns</p><tr><th>1</th><td>x[1]</td><td>7.5625</td><td>1</td><td>0</td><td>1</td></tr><tr><th>2</th><td>x[2]</td><td>0.0</td><td>1</td><td>0</td><td>2</td></tr><tr><th>3</th><td>x[3]</td><td>1.0</td><td>1</td><td>0</td><td>3</td></tr><tr><th>4</th><td>x[1]</td><td>7.5625</td><td>1</td><td>1</td><td>1</td></tr><tr><th>5</th><td>x[2]</td><td>0.0</td><td>1</td><td>1</td><td>2</td></tr><tr><th>6</th><td>x[3]</td><td>1.0</td><td>1</td><td>1</td><td>3</td></tr><tr><th>7</th><td>x[1]</td><td>7.5625</td><td>1</td><td>2</td><td>1</td></tr><tr><th>8</th><td>x[2]</td><td>0.0</td><td>1</td><td>2</td><td>2</td></tr><tr><th>9</th><td>x[3]</td><td>1.0</td><td>1</td><td>2</td><td>3</td></tr><tr><th>10</th><td>x[1]</td><td>7.5625</td><td>1</td><td>3</td><td>1</td></tr><tr><th>11</th><td>x[2]</td><td>3.42787e-8</td><td>1</td><td>3</td><td>2</td></tr><tr><th>12</th><td>x[3]</td><td>1.0</td><td>1</td><td>3</td><td>3</td></tr><tr><th>13</th><td>y</td><td>1.75</td><td>2</td><td>0</td><td>1</td></tr><tr><th>14</th><td>y</td><td>1.75</td><td>2</td><td>1</td><td>1</td></tr><tr><th>15</th><td>y</td><td>0.0</td><td>2</td><td>2</td><td>1</td></tr><tr><th>16</th><td>y</td><td>3.94972e-8</td><td>2</td><td>3</td><td>1</td></tr><tr><th>17</th><td>z[1]</td><td>-0.65625</td><td>3</td><td>0</td><td>1</td></tr><tr><th>18</th><td>z[2]</td><td>-0.65625</td><td>3</td><td>0</td><td>2</td></tr><tr><th>19</th><td>z[1]</td><td>2.84375</td><td>3</td><td>1</td><td>1</td></tr><tr><th>20</th><td>z[2]</td><td>2.84375</td><td>3</td><td>1</td><td>2</td></tr><tr><th>21</th><td>z[1]</td><td>-1.78125</td><td>3</td><td>2</td><td>1</td></tr><tr><th>22</th><td>z[2]</td><td>-1.78125</td><td>3</td><td>2</td><td>2</td></tr><tr><th>23</th><td>z[1]</td><td>4.71875</td><td>3</td><td>3</td><td>1</td></tr><tr><th>24</th><td>z[2]</td><td>4.71875</td><td>3</td><td>3</td><td>2</td></tr></tbody></table>"
      ],
      "text/latex": [
       "\\begin{tabular}{r|ccccc}\n",
       "\t& variable & value & stage & scenario & index\\\\\n",
       "\t\\hline\n",
       "\t& String & Float64 & Int64 & Int64 & Int64\\\\\n",
       "\t\\hline\n",
       "\t1 & x[1] & 7.5625 & 1 & 0 & 1 \\\\\n",
       "\t2 & x[2] & 0.0 & 1 & 0 & 2 \\\\\n",
       "\t3 & x[3] & 1.0 & 1 & 0 & 3 \\\\\n",
       "\t4 & x[1] & 7.5625 & 1 & 1 & 1 \\\\\n",
       "\t5 & x[2] & 0.0 & 1 & 1 & 2 \\\\\n",
       "\t6 & x[3] & 1.0 & 1 & 1 & 3 \\\\\n",
       "\t7 & x[1] & 7.5625 & 1 & 2 & 1 \\\\\n",
       "\t8 & x[2] & 0.0 & 1 & 2 & 2 \\\\\n",
       "\t9 & x[3] & 1.0 & 1 & 2 & 3 \\\\\n",
       "\t10 & x[1] & 7.5625 & 1 & 3 & 1 \\\\\n",
       "\t11 & x[2] & 3.42787e-8 & 1 & 3 & 2 \\\\\n",
       "\t12 & x[3] & 1.0 & 1 & 3 & 3 \\\\\n",
       "\t13 & y & 1.75 & 2 & 0 & 1 \\\\\n",
       "\t14 & y & 1.75 & 2 & 1 & 1 \\\\\n",
       "\t15 & y & 0.0 & 2 & 2 & 1 \\\\\n",
       "\t16 & y & 3.94972e-8 & 2 & 3 & 1 \\\\\n",
       "\t17 & z[1] & -0.65625 & 3 & 0 & 1 \\\\\n",
       "\t18 & z[2] & -0.65625 & 3 & 0 & 2 \\\\\n",
       "\t19 & z[1] & 2.84375 & 3 & 1 & 1 \\\\\n",
       "\t20 & z[2] & 2.84375 & 3 & 1 & 2 \\\\\n",
       "\t21 & z[1] & -1.78125 & 3 & 2 & 1 \\\\\n",
       "\t22 & z[2] & -1.78125 & 3 & 2 & 2 \\\\\n",
       "\t23 & z[1] & 4.71875 & 3 & 3 & 1 \\\\\n",
       "\t24 & z[2] & 4.71875 & 3 & 3 & 2 \\\\\n",
       "\\end{tabular}\n"
      ],
      "text/plain": [
       "24×5 DataFrames.DataFrame\n",
       "│ Row │ variable │ value      │ stage │ scenario │ index │\n",
       "│     │ \u001b[90mString\u001b[39m   │ \u001b[90mFloat64\u001b[39m    │ \u001b[90mInt64\u001b[39m │ \u001b[90mInt64\u001b[39m    │ \u001b[90mInt64\u001b[39m │\n",
       "├─────┼──────────┼────────────┼───────┼──────────┼───────┤\n",
       "│ 1   │ x[1]     │ 7.5625     │ 1     │ 0        │ 1     │\n",
       "│ 2   │ x[2]     │ 0.0        │ 1     │ 0        │ 2     │\n",
       "│ 3   │ x[3]     │ 1.0        │ 1     │ 0        │ 3     │\n",
       "│ 4   │ x[1]     │ 7.5625     │ 1     │ 1        │ 1     │\n",
       "│ 5   │ x[2]     │ 0.0        │ 1     │ 1        │ 2     │\n",
       "│ 6   │ x[3]     │ 1.0        │ 1     │ 1        │ 3     │\n",
       "│ 7   │ x[1]     │ 7.5625     │ 1     │ 2        │ 1     │\n",
       "│ 8   │ x[2]     │ 0.0        │ 1     │ 2        │ 2     │\n",
       "│ 9   │ x[3]     │ 1.0        │ 1     │ 2        │ 3     │\n",
       "│ 10  │ x[1]     │ 7.5625     │ 1     │ 3        │ 1     │\n",
       "⋮\n",
       "│ 14  │ y        │ 1.75       │ 2     │ 1        │ 1     │\n",
       "│ 15  │ y        │ 0.0        │ 2     │ 2        │ 1     │\n",
       "│ 16  │ y        │ 3.94972e-8 │ 2     │ 3        │ 1     │\n",
       "│ 17  │ z[1]     │ -0.65625   │ 3     │ 0        │ 1     │\n",
       "│ 18  │ z[2]     │ -0.65625   │ 3     │ 0        │ 2     │\n",
       "│ 19  │ z[1]     │ 2.84375    │ 3     │ 1        │ 1     │\n",
       "│ 20  │ z[2]     │ 2.84375    │ 3     │ 1        │ 2     │\n",
       "│ 21  │ z[1]     │ -1.78125   │ 3     │ 2        │ 1     │\n",
       "│ 22  │ z[2]     │ -1.78125   │ 3     │ 2        │ 2     │\n",
       "│ 23  │ z[1]     │ 4.71875    │ 3     │ 3        │ 1     │\n",
       "│ 24  │ z[2]     │ 4.71875    │ 3     │ 3        │ 2     │"
      ]
     },
     "execution_count": 10,
     "metadata": {},
     "output_type": "execute_result"
    }
   ],
   "source": [
    "PH.retrieve_no_hats(phd)"
   ]
  },
  {
   "cell_type": "code",
   "execution_count": 11,
   "metadata": {},
   "outputs": [
    {
     "data": {
      "text/html": [
       "<table class=\"data-frame\"><thead><tr><th></th><th>variable</th><th>value</th><th>stage</th><th>scenario</th><th>index</th></tr><tr><th></th><th>String</th><th>Float64</th><th>Int64</th><th>Int64</th><th>Int64</th></tr></thead><tbody><p>16 rows × 5 columns</p><tr><th>1</th><td>W_x[1]</td><td>-22.0</td><td>1</td><td>0</td><td>1</td></tr><tr><th>2</th><td>W_x[2]</td><td>-17.4055</td><td>1</td><td>0</td><td>2</td></tr><tr><th>3</th><td>W_x[3]</td><td>-21.5047</td><td>1</td><td>0</td><td>3</td></tr><tr><th>4</th><td>W_x[1]</td><td>90.0</td><td>1</td><td>1</td><td>1</td></tr><tr><th>5</th><td>W_x[2]</td><td>81.0849</td><td>1</td><td>1</td><td>2</td></tr><tr><th>6</th><td>W_x[3]</td><td>90.4949</td><td>1</td><td>1</td><td>3</td></tr><tr><th>7</th><td>W_x[1]</td><td>-58.0</td><td>1</td><td>2</td><td>1</td></tr><tr><th>8</th><td>W_x[2]</td><td>-56.6228</td><td>1</td><td>2</td><td>2</td></tr><tr><th>9</th><td>W_x[3]</td><td>-58.4952</td><td>1</td><td>2</td><td>3</td></tr><tr><th>10</th><td>W_x[1]</td><td>150.0</td><td>1</td><td>3</td><td>1</td></tr><tr><th>11</th><td>W_x[2]</td><td>141.0</td><td>1</td><td>3</td><td>2</td></tr><tr><th>12</th><td>W_x[3]</td><td>149.505</td><td>1</td><td>3</td><td>3</td></tr><tr><th>13</th><td>W_y</td><td>-28.0</td><td>2</td><td>0</td><td>1</td></tr><tr><th>14</th><td>W_y</td><td>84.0</td><td>2</td><td>1</td><td>1</td></tr><tr><th>15</th><td>W_y</td><td>-48.0</td><td>2</td><td>2</td><td>1</td></tr><tr><th>16</th><td>W_y</td><td>144.0</td><td>2</td><td>3</td><td>1</td></tr></tbody></table>"
      ],
      "text/latex": [
       "\\begin{tabular}{r|ccccc}\n",
       "\t& variable & value & stage & scenario & index\\\\\n",
       "\t\\hline\n",
       "\t& String & Float64 & Int64 & Int64 & Int64\\\\\n",
       "\t\\hline\n",
       "\t1 & W\\_x[1] & -22.0 & 1 & 0 & 1 \\\\\n",
       "\t2 & W\\_x[2] & -17.4055 & 1 & 0 & 2 \\\\\n",
       "\t3 & W\\_x[3] & -21.5047 & 1 & 0 & 3 \\\\\n",
       "\t4 & W\\_x[1] & 90.0 & 1 & 1 & 1 \\\\\n",
       "\t5 & W\\_x[2] & 81.0849 & 1 & 1 & 2 \\\\\n",
       "\t6 & W\\_x[3] & 90.4949 & 1 & 1 & 3 \\\\\n",
       "\t7 & W\\_x[1] & -58.0 & 1 & 2 & 1 \\\\\n",
       "\t8 & W\\_x[2] & -56.6228 & 1 & 2 & 2 \\\\\n",
       "\t9 & W\\_x[3] & -58.4952 & 1 & 2 & 3 \\\\\n",
       "\t10 & W\\_x[1] & 150.0 & 1 & 3 & 1 \\\\\n",
       "\t11 & W\\_x[2] & 141.0 & 1 & 3 & 2 \\\\\n",
       "\t12 & W\\_x[3] & 149.505 & 1 & 3 & 3 \\\\\n",
       "\t13 & W\\_y & -28.0 & 2 & 0 & 1 \\\\\n",
       "\t14 & W\\_y & 84.0 & 2 & 1 & 1 \\\\\n",
       "\t15 & W\\_y & -48.0 & 2 & 2 & 1 \\\\\n",
       "\t16 & W\\_y & 144.0 & 2 & 3 & 1 \\\\\n",
       "\\end{tabular}\n"
      ],
      "text/plain": [
       "16×5 DataFrames.DataFrame\n",
       "│ Row │ variable │ value    │ stage │ scenario │ index │\n",
       "│     │ \u001b[90mString\u001b[39m   │ \u001b[90mFloat64\u001b[39m  │ \u001b[90mInt64\u001b[39m │ \u001b[90mInt64\u001b[39m    │ \u001b[90mInt64\u001b[39m │\n",
       "├─────┼──────────┼──────────┼───────┼──────────┼───────┤\n",
       "│ 1   │ W_x[1]   │ -22.0    │ 1     │ 0        │ 1     │\n",
       "│ 2   │ W_x[2]   │ -17.4055 │ 1     │ 0        │ 2     │\n",
       "│ 3   │ W_x[3]   │ -21.5047 │ 1     │ 0        │ 3     │\n",
       "│ 4   │ W_x[1]   │ 90.0     │ 1     │ 1        │ 1     │\n",
       "│ 5   │ W_x[2]   │ 81.0849  │ 1     │ 1        │ 2     │\n",
       "│ 6   │ W_x[3]   │ 90.4949  │ 1     │ 1        │ 3     │\n",
       "│ 7   │ W_x[1]   │ -58.0    │ 1     │ 2        │ 1     │\n",
       "│ 8   │ W_x[2]   │ -56.6228 │ 1     │ 2        │ 2     │\n",
       "│ 9   │ W_x[3]   │ -58.4952 │ 1     │ 2        │ 3     │\n",
       "│ 10  │ W_x[1]   │ 150.0    │ 1     │ 3        │ 1     │\n",
       "│ 11  │ W_x[2]   │ 141.0    │ 1     │ 3        │ 2     │\n",
       "│ 12  │ W_x[3]   │ 149.505  │ 1     │ 3        │ 3     │\n",
       "│ 13  │ W_y      │ -28.0    │ 2     │ 0        │ 1     │\n",
       "│ 14  │ W_y      │ 84.0     │ 2     │ 1        │ 1     │\n",
       "│ 15  │ W_y      │ -48.0    │ 2     │ 2        │ 1     │\n",
       "│ 16  │ W_y      │ 144.0    │ 2     │ 3        │ 1     │"
      ]
     },
     "execution_count": 11,
     "metadata": {},
     "output_type": "execute_result"
    }
   ],
   "source": [
    "PH.retrieve_w(phd)"
   ]
  },
  {
   "cell_type": "code",
   "execution_count": null,
   "metadata": {},
   "outputs": [],
   "source": []
  }
 ],
 "metadata": {
  "kernelspec": {
   "display_name": "Julia 1.4.0",
   "language": "julia",
   "name": "julia-1.4"
  },
  "language_info": {
   "file_extension": ".jl",
   "mimetype": "application/julia",
   "name": "julia",
   "version": "1.4.0"
  }
 },
 "nbformat": 4,
 "nbformat_minor": 2
}
