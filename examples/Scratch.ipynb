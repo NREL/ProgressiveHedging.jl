{
 "cells": [
  {
   "cell_type": "code",
   "execution_count": 1,
   "metadata": {},
   "outputs": [
    {
     "name": "stderr",
     "output_type": "stream",
     "text": [
      "\u001b[32m\u001b[1m Activating\u001b[22m\u001b[39m environment at `~/jdev/ProgressiveHedging/Project.toml`\n"
     ]
    },
    {
     "name": "stdout",
     "output_type": "stream",
     "text": [
      "\u001b[36m\u001b[1mProject \u001b[22m\u001b[39mProgressiveHedging v0.4.0\n",
      "\u001b[32m\u001b[1mStatus\u001b[22m\u001b[39m `~/jdev/ProgressiveHedging/Project.toml`\n",
      " \u001b[90m [a93c6f00] \u001b[39m\u001b[37mDataFrames v0.22.5\u001b[39m\n",
      " \u001b[90m [b6b21f68] \u001b[39m\u001b[37mIpopt v0.6.5\u001b[39m\n",
      " \u001b[90m [4076af6c] \u001b[39m\u001b[37mJuMP v0.21.6\u001b[39m\n",
      " \u001b[90m [b8f27783] \u001b[39m\u001b[37mMathOptInterface v0.9.20\u001b[39m\n",
      " \u001b[90m [a759f4b9] \u001b[39m\u001b[37mTimerOutputs v0.5.8\u001b[39m\n",
      " \u001b[90m [8ba89e20] \u001b[39m\u001b[37mDistributed\u001b[39m\n",
      " \u001b[90m [de0858da] \u001b[39m\u001b[37mPrintf\u001b[39m\n"
     ]
    }
   ],
   "source": [
    "using Pkg\n",
    "# Activate environment that has ProgressiveHedging installed\n",
    "Pkg.activate(joinpath(@__DIR__, \"..\"))\n",
    "Pkg.status()"
   ]
  },
  {
   "cell_type": "code",
   "execution_count": 2,
   "metadata": {
    "scrolled": false
   },
   "outputs": [
    {
     "name": "stdout",
     "output_type": "stream",
     "text": [
      "Adding 2 worker processes.\n",
      "      From worker 2:\t Activating environment at `~/jdev/ProgressiveHedging/Project.toml`\n",
      "      From worker 3:\t Activating environment at `~/jdev/ProgressiveHedging/Project.toml`\n"
     ]
    },
    {
     "name": "stderr",
     "output_type": "stream",
     "text": [
      "┌ Info: Xpress: Found license file /Users/jmaack/MyApps/xpress/xpressmp/bin/xpauth.xpr\n",
      "└ @ Xpress /Users/jmaack/.julia/packages/Xpress/ab5Cg/src/license.jl:42\n",
      "┌ Info: Xpress: Development license detected.\n",
      "└ @ Xpress /Users/jmaack/.julia/packages/Xpress/ab5Cg/src/license.jl:84\n",
      "[ Info: Xpress: Found license file /Users/jmaack/MyApps/xpress/xpressmp/bin/xpauth.xpr\n",
      "[ Info: Xpress: Development license detected.\n",
      "[ Info: Xpress: Found license file /Users/jmaack/MyApps/xpress/xpressmp/bin/xpauth.xpr\n",
      "[ Info: Xpress: Development license detected.\n"
     ]
    }
   ],
   "source": [
    "using Distributed\n",
    "const WORKERS = 2 # Change to > 1 to use parallel\n",
    "if nworkers() < WORKERS\n",
    "    diff = (nprocs() == nworkers() ? WORKERS : WORKERS - nworkers())\n",
    "    println(\"Adding $diff worker processes.\")\n",
    "    Distributed.addprocs(diff)\n",
    "    # Make sure these workers also have an environment with PH installed\n",
    "    @everywhere using Pkg\n",
    "    for w in workers()\n",
    "        @spawnat(w, Pkg.activate(joinpath(@__DIR__, \"..\")))\n",
    "    end\n",
    "end\n",
    "\n",
    "@everywhere using ProgressiveHedging\n",
    "@everywhere const PH = ProgressiveHedging\n",
    "\n",
    "@everywhere using GLPK\n",
    "@everywhere using Ipopt\n",
    "@everywhere using JuMP\n",
    "@everywhere using Xpress\n",
    "\n",
    "@everywhere using Random"
   ]
  },
  {
   "cell_type": "markdown",
   "metadata": {},
   "source": [
    "### Model Construction Function Definition"
   ]
  },
  {
   "cell_type": "code",
   "execution_count": 3,
   "metadata": {},
   "outputs": [
    {
     "data": {
      "text/plain": [
       "two_stage_int (generic function with 1 method)"
      ]
     },
     "execution_count": 3,
     "metadata": {},
     "output_type": "execute_result"
    }
   ],
   "source": [
    "function two_stage_int(scenario_id::PH.ScenarioID)\n",
    "    model = JuMP.Model(()->Xpress.Optimizer())\n",
    "    JuMP.set_optimizer_attribute(model, \"OUTPUTLOG\", 0)\n",
    "#     JuMP.set_optimizer_attribute(model, \"tol\", 1e-12)\n",
    "#     JuMP.set_optimizer_attribute(model, \"acceptable_tol\", 1e-12)\n",
    "\n",
    "    scen = PH.value(scenario_id)\n",
    "\n",
    "    ref = JuMP.@variable(model, x)\n",
    "    stage1 = [ref]\n",
    "    push!(stage1, JuMP.@variable(model, k, binary=true))\n",
    "    JuMP.@constraint(model, x <= 1000.0*k)\n",
    "    JuMP.@constraint(model, x >= 1.0*k)\n",
    "\n",
    "    ref = JuMP.@variable(model, y >= 0.0)\n",
    "    stage2 = [ref]\n",
    "\n",
    "    # val = scen == 0 ? 10.0 : 3.0\n",
    "    Random.seed!(scen)\n",
    "    val = 10.0*rand()\n",
    "\n",
    "    JuMP.@constraint(model, x + y == val)\n",
    "\n",
    "    # c_y = scen == 0 ? 1.5 : 2.0\n",
    "    c_y = (scen % 2 == 0 ? 2.0 : 5.0)\n",
    "    JuMP.@objective(model, Min, 2.0*x + c_y * y + 1.0*k)\n",
    "\n",
    "    return PH.JuMPSubproblem(model, scenario_id, Dict(PH.stid(1) => stage1,\n",
    "                                                      PH.stid(2) => stage2)\n",
    "                             )\n",
    "end\n"
   ]
  },
  {
   "cell_type": "code",
   "execution_count": 4,
   "metadata": {},
   "outputs": [
    {
     "data": {
      "text/plain": [
       "8"
      ]
     },
     "execution_count": 4,
     "metadata": {},
     "output_type": "execute_result"
    }
   ],
   "source": [
    "N = 8"
   ]
  },
  {
   "cell_type": "markdown",
   "metadata": {},
   "source": [
    "### Extensive Form Solve"
   ]
  },
  {
   "cell_type": "code",
   "execution_count": 5,
   "metadata": {},
   "outputs": [
    {
     "name": "stdout",
     "output_type": "stream",
     "text": [
      " 21.058309 seconds (59.60 M allocations: 2.998 GiB, 6.92% gc time)\n",
      "Min 2 x_{0,1,2,3,4,5,6,7} + 0.625 y_{3} + k_{0,1,2,3,4,5,6,7} + 0.25 y_{6} + 0.625 y_{1} + 0.25 y_{4} + 0.25 y_{2} + 0.625 y_{7} + 0.25 y_{0} + 0.625 y_{5}\n",
      "Subject to\n",
      " y_{3} + x_{0,1,2,3,4,5,6,7} = 8.116984049958615\n",
      " x_{0,1,2,3,4,5,6,7} + y_{6} = 5.114774368570256\n",
      " x_{0,1,2,3,4,5,6,7} + y_{1} = 2.3603334566204692\n",
      " x_{0,1,2,3,4,5,6,7} + y_{4} = 6.800792359357411\n",
      " x_{0,1,2,3,4,5,6,7} + y_{2} = 3.6679641243992434\n",
      " x_{0,1,2,3,4,5,6,7} + y_{7} = 8.124385822007527\n",
      " x_{0,1,2,3,4,5,6,7} + y_{0} = 8.236475079774124\n",
      " x_{0,1,2,3,4,5,6,7} + y_{5} = 5.303646605536807\n",
      " x_{0,1,2,3,4,5,6,7} - k_{0,1,2,3,4,5,6,7} ≥ 0.0\n",
      " x_{0,1,2,3,4,5,6,7} - 1000 k_{0,1,2,3,4,5,6,7} ≤ 0.0\n",
      " y_{3} ≥ 0.0\n",
      " y_{6} ≥ 0.0\n",
      " y_{1} ≥ 0.0\n",
      " y_{4} ≥ 0.0\n",
      " y_{2} ≥ 0.0\n",
      " y_{7} ≥ 0.0\n",
      " y_{0} ≥ 0.0\n",
      " y_{5} ≥ 0.0\n",
      " k_{0,1,2,3,4,5,6,7} binary\n",
      "\n"
     ]
    }
   ],
   "source": [
    "ef_model = @time PH.solve_extensive(PH.two_stage_tree(N),\n",
    "    two_stage_int, \n",
    "    ()->Xpress.Optimizer(),\n",
    "    opt_args=(OUTPUTLOG=0,)\n",
    ")\n",
    "println(ef_model)"
   ]
  },
  {
   "cell_type": "code",
   "execution_count": 6,
   "metadata": {},
   "outputs": [
    {
     "name": "stdout",
     "output_type": "stream",
     "text": [
      "OPTIMAL\n",
      "18.355345006921688\n",
      "y_{3} = 5.756650593338146\n",
      "x_{0,1,2,3,4,5,6,7} = 2.3603334566204692\n",
      "k_{0,1,2,3,4,5,6,7} = 1.0\n",
      "y_{6} = 2.7544409119497866\n",
      "y_{1} = 0.0\n",
      "y_{4} = 4.440458902736942\n",
      "y_{2} = 1.3076306677787741\n",
      "y_{7} = 5.764052365387058\n",
      "y_{0} = 5.8761416231536545\n",
      "y_{5} = 2.9433131489163378\n"
     ]
    }
   ],
   "source": [
    "println(JuMP.termination_status(ef_model))\n",
    "println(JuMP.objective_value(ef_model))\n",
    "for var in JuMP.all_variables(ef_model)\n",
    "    println(\"$var = $(JuMP.value(var))\")\n",
    "end"
   ]
  },
  {
   "cell_type": "markdown",
   "metadata": {},
   "source": [
    "### PH Solve"
   ]
  },
  {
   "cell_type": "code",
   "execution_count": 7,
   "metadata": {},
   "outputs": [],
   "source": [
    "using DataFrames\n",
    "using Plots"
   ]
  },
  {
   "cell_type": "code",
   "execution_count": 8,
   "metadata": {
    "scrolled": true
   },
   "outputs": [
    {
     "ename": "LoadError",
     "evalue": "\u001b[91mTaskFailedException:\u001b[39m\n\u001b[91m\u001b[91mOn worker 2:\u001b[39m\u001b[39m\n\u001b[91m\u001b[91m\u001b[91mUndefVarError: #two_stage_int not defined\u001b[39m\u001b[39m\u001b[39m\n\u001b[91m\u001b[91mdeserialize_datatype at /Users/jmaack/MyApps/julia_v1.5/usr/share/julia/stdlib/v1.5/Serialization/src/Serialization.jl:1252\u001b[39m\u001b[39m\n\u001b[91m\u001b[91mhandle_deserialize at /Users/jmaack/MyApps/julia_v1.5/usr/share/julia/stdlib/v1.5/Serialization/src/Serialization.jl:826\u001b[39m\u001b[39m\n\u001b[91m\u001b[91mdeserialize at /Users/jmaack/MyApps/julia_v1.5/usr/share/julia/stdlib/v1.5/Serialization/src/Serialization.jl:773\u001b[39m\u001b[39m\n\u001b[91m\u001b[91mhandle_deserialize at /Users/jmaack/MyApps/julia_v1.5/usr/share/julia/stdlib/v1.5/Serialization/src/Serialization.jl:833\u001b[39m\u001b[39m\n\u001b[91m\u001b[91mdeserialize at /Users/jmaack/MyApps/julia_v1.5/usr/share/julia/stdlib/v1.5/Serialization/src/Serialization.jl:1350\u001b[39m\u001b[39m\n\u001b[91m\u001b[91mhandle_deserialize at /Users/jmaack/MyApps/julia_v1.5/usr/share/julia/stdlib/v1.5/Serialization/src/Serialization.jl:837\u001b[39m\u001b[39m\n\u001b[91m\u001b[91mdeserialize at /Users/jmaack/MyApps/julia_v1.5/usr/share/julia/stdlib/v1.5/Serialization/src/Serialization.jl:773\u001b[39m\u001b[39m\n\u001b[91m\u001b[91m#5 at /Users/jmaack/MyApps/julia_v1.5/usr/share/julia/stdlib/v1.5/Serialization/src/Serialization.jl:932\u001b[39m\u001b[39m\n\u001b[91m\u001b[91mntuple at ./ntuple.jl:18\u001b[39m\u001b[39m\n\u001b[91m\u001b[91mdeserialize_tuple at /Users/jmaack/MyApps/julia_v1.5/usr/share/julia/stdlib/v1.5/Serialization/src/Serialization.jl:932\u001b[39m\u001b[39m\n\u001b[91m\u001b[91mhandle_deserialize at /Users/jmaack/MyApps/julia_v1.5/usr/share/julia/stdlib/v1.5/Serialization/src/Serialization.jl:816\u001b[39m\u001b[39m\n\u001b[91m\u001b[91mdeserialize at /Users/jmaack/MyApps/julia_v1.5/usr/share/julia/stdlib/v1.5/Serialization/src/Serialization.jl:773 [inlined]\u001b[39m\u001b[39m\n\u001b[91m\u001b[91mdeserialize_msg at /Users/jmaack/MyApps/julia_v1.5/usr/share/julia/stdlib/v1.5/Distributed/src/messages.jl:99\u001b[39m\u001b[39m\n\u001b[91m\u001b[91m#invokelatest#1 at ./essentials.jl:710 [inlined]\u001b[39m\u001b[39m\n\u001b[91m\u001b[91minvokelatest at ./essentials.jl:709 [inlined]\u001b[39m\u001b[39m\n\u001b[91m\u001b[91mmessage_handler_loop at /Users/jmaack/MyApps/julia_v1.5/usr/share/julia/stdlib/v1.5/Distributed/src/process_messages.jl:185\u001b[39m\u001b[39m\n\u001b[91m\u001b[91mprocess_tcp_streams at /Users/jmaack/MyApps/julia_v1.5/usr/share/julia/stdlib/v1.5/Distributed/src/process_messages.jl:142\u001b[39m\u001b[39m\n\u001b[91m\u001b[91m#99 at ./task.jl:356\u001b[39m\u001b[39m\n\u001b[91mStacktrace:\u001b[39m\n\u001b[91m [1] \u001b[1mremotecall_fetch\u001b[22m\u001b[1m(\u001b[22m::Function, ::Distributed.Worker, ::Distributed.RRID, ::Vararg{Any,N} where N; kwargs::Base.Iterators.Pairs{Union{},Union{},Tuple{},NamedTuple{(),Tuple{}}}\u001b[1m)\u001b[22m at \u001b[1m/Users/jmaack/MyApps/julia_v1.5/usr/share/julia/stdlib/v1.5/Distributed/src/remotecall.jl:394\u001b[22m\u001b[39m\n\u001b[91m [2] \u001b[1mremotecall_fetch\u001b[22m\u001b[1m(\u001b[22m::Function, ::Distributed.Worker, ::Distributed.RRID, ::Vararg{Any,N} where N\u001b[1m)\u001b[22m at \u001b[1m/Users/jmaack/MyApps/julia_v1.5/usr/share/julia/stdlib/v1.5/Distributed/src/remotecall.jl:386\u001b[22m\u001b[39m\n\u001b[91m [3] \u001b[1mremotecall_fetch\u001b[22m\u001b[1m(\u001b[22m::Function, ::Int64, ::Distributed.RRID, ::Vararg{Any,N} where N; kwargs::Base.Iterators.Pairs{Union{},Union{},Tuple{},NamedTuple{(),Tuple{}}}\u001b[1m)\u001b[22m at \u001b[1m/Users/jmaack/MyApps/julia_v1.5/usr/share/julia/stdlib/v1.5/Distributed/src/remotecall.jl:421\u001b[22m\u001b[39m\n\u001b[91m [4] \u001b[1mremotecall_fetch\u001b[22m at \u001b[1m/Users/jmaack/MyApps/julia_v1.5/usr/share/julia/stdlib/v1.5/Distributed/src/remotecall.jl:421\u001b[22m [inlined]\u001b[39m\n\u001b[91m [5] \u001b[1mcall_on_owner\u001b[22m at \u001b[1m/Users/jmaack/MyApps/julia_v1.5/usr/share/julia/stdlib/v1.5/Distributed/src/remotecall.jl:494\u001b[22m [inlined]\u001b[39m\n\u001b[91m [6] \u001b[1mput!\u001b[22m at \u001b[1m/Users/jmaack/MyApps/julia_v1.5/usr/share/julia/stdlib/v1.5/Distributed/src/remotecall.jl:595\u001b[22m [inlined]\u001b[39m\n\u001b[91m [7] \u001b[1m_send_message\u001b[22m at \u001b[1m/Users/jmaack/jdev/ProgressiveHedging/src/worker_management.jl:123\u001b[22m [inlined]\u001b[39m\n\u001b[91m [8] \u001b[1m(::ProgressiveHedging.var\"#27#28\"{Base.Iterators.Pairs{Union{},Union{},Tuple{},NamedTuple{(),Tuple{}}},ProgressiveHedging.WorkerInf,ProgressiveHedging.ScenarioTree,typeof(two_stage_int),Tuple{},ProgressiveHedging.ScalarPenaltyParameter,Bool,Int64,Set{ProgressiveHedging.ScenarioID}})\u001b[22m\u001b[1m(\u001b[22m\u001b[1m)\u001b[22m at \u001b[1m./task.jl:356\u001b[22m\u001b[39m\n\n\u001b[91m...and 1 more exception(s).\u001b[39m\n",
     "output_type": "error",
     "traceback": [
      "\u001b[91mTaskFailedException:\u001b[39m\n\u001b[91m\u001b[91mOn worker 2:\u001b[39m\u001b[39m\n\u001b[91m\u001b[91m\u001b[91mUndefVarError: #two_stage_int not defined\u001b[39m\u001b[39m\u001b[39m\n\u001b[91m\u001b[91mdeserialize_datatype at /Users/jmaack/MyApps/julia_v1.5/usr/share/julia/stdlib/v1.5/Serialization/src/Serialization.jl:1252\u001b[39m\u001b[39m\n\u001b[91m\u001b[91mhandle_deserialize at /Users/jmaack/MyApps/julia_v1.5/usr/share/julia/stdlib/v1.5/Serialization/src/Serialization.jl:826\u001b[39m\u001b[39m\n\u001b[91m\u001b[91mdeserialize at /Users/jmaack/MyApps/julia_v1.5/usr/share/julia/stdlib/v1.5/Serialization/src/Serialization.jl:773\u001b[39m\u001b[39m\n\u001b[91m\u001b[91mhandle_deserialize at /Users/jmaack/MyApps/julia_v1.5/usr/share/julia/stdlib/v1.5/Serialization/src/Serialization.jl:833\u001b[39m\u001b[39m\n\u001b[91m\u001b[91mdeserialize at /Users/jmaack/MyApps/julia_v1.5/usr/share/julia/stdlib/v1.5/Serialization/src/Serialization.jl:1350\u001b[39m\u001b[39m\n\u001b[91m\u001b[91mhandle_deserialize at /Users/jmaack/MyApps/julia_v1.5/usr/share/julia/stdlib/v1.5/Serialization/src/Serialization.jl:837\u001b[39m\u001b[39m\n\u001b[91m\u001b[91mdeserialize at /Users/jmaack/MyApps/julia_v1.5/usr/share/julia/stdlib/v1.5/Serialization/src/Serialization.jl:773\u001b[39m\u001b[39m\n\u001b[91m\u001b[91m#5 at /Users/jmaack/MyApps/julia_v1.5/usr/share/julia/stdlib/v1.5/Serialization/src/Serialization.jl:932\u001b[39m\u001b[39m\n\u001b[91m\u001b[91mntuple at ./ntuple.jl:18\u001b[39m\u001b[39m\n\u001b[91m\u001b[91mdeserialize_tuple at /Users/jmaack/MyApps/julia_v1.5/usr/share/julia/stdlib/v1.5/Serialization/src/Serialization.jl:932\u001b[39m\u001b[39m\n\u001b[91m\u001b[91mhandle_deserialize at /Users/jmaack/MyApps/julia_v1.5/usr/share/julia/stdlib/v1.5/Serialization/src/Serialization.jl:816\u001b[39m\u001b[39m\n\u001b[91m\u001b[91mdeserialize at /Users/jmaack/MyApps/julia_v1.5/usr/share/julia/stdlib/v1.5/Serialization/src/Serialization.jl:773 [inlined]\u001b[39m\u001b[39m\n\u001b[91m\u001b[91mdeserialize_msg at /Users/jmaack/MyApps/julia_v1.5/usr/share/julia/stdlib/v1.5/Distributed/src/messages.jl:99\u001b[39m\u001b[39m\n\u001b[91m\u001b[91m#invokelatest#1 at ./essentials.jl:710 [inlined]\u001b[39m\u001b[39m\n\u001b[91m\u001b[91minvokelatest at ./essentials.jl:709 [inlined]\u001b[39m\u001b[39m\n\u001b[91m\u001b[91mmessage_handler_loop at /Users/jmaack/MyApps/julia_v1.5/usr/share/julia/stdlib/v1.5/Distributed/src/process_messages.jl:185\u001b[39m\u001b[39m\n\u001b[91m\u001b[91mprocess_tcp_streams at /Users/jmaack/MyApps/julia_v1.5/usr/share/julia/stdlib/v1.5/Distributed/src/process_messages.jl:142\u001b[39m\u001b[39m\n\u001b[91m\u001b[91m#99 at ./task.jl:356\u001b[39m\u001b[39m\n\u001b[91mStacktrace:\u001b[39m\n\u001b[91m [1] \u001b[1mremotecall_fetch\u001b[22m\u001b[1m(\u001b[22m::Function, ::Distributed.Worker, ::Distributed.RRID, ::Vararg{Any,N} where N; kwargs::Base.Iterators.Pairs{Union{},Union{},Tuple{},NamedTuple{(),Tuple{}}}\u001b[1m)\u001b[22m at \u001b[1m/Users/jmaack/MyApps/julia_v1.5/usr/share/julia/stdlib/v1.5/Distributed/src/remotecall.jl:394\u001b[22m\u001b[39m\n\u001b[91m [2] \u001b[1mremotecall_fetch\u001b[22m\u001b[1m(\u001b[22m::Function, ::Distributed.Worker, ::Distributed.RRID, ::Vararg{Any,N} where N\u001b[1m)\u001b[22m at \u001b[1m/Users/jmaack/MyApps/julia_v1.5/usr/share/julia/stdlib/v1.5/Distributed/src/remotecall.jl:386\u001b[22m\u001b[39m\n\u001b[91m [3] \u001b[1mremotecall_fetch\u001b[22m\u001b[1m(\u001b[22m::Function, ::Int64, ::Distributed.RRID, ::Vararg{Any,N} where N; kwargs::Base.Iterators.Pairs{Union{},Union{},Tuple{},NamedTuple{(),Tuple{}}}\u001b[1m)\u001b[22m at \u001b[1m/Users/jmaack/MyApps/julia_v1.5/usr/share/julia/stdlib/v1.5/Distributed/src/remotecall.jl:421\u001b[22m\u001b[39m\n\u001b[91m [4] \u001b[1mremotecall_fetch\u001b[22m at \u001b[1m/Users/jmaack/MyApps/julia_v1.5/usr/share/julia/stdlib/v1.5/Distributed/src/remotecall.jl:421\u001b[22m [inlined]\u001b[39m\n\u001b[91m [5] \u001b[1mcall_on_owner\u001b[22m at \u001b[1m/Users/jmaack/MyApps/julia_v1.5/usr/share/julia/stdlib/v1.5/Distributed/src/remotecall.jl:494\u001b[22m [inlined]\u001b[39m\n\u001b[91m [6] \u001b[1mput!\u001b[22m at \u001b[1m/Users/jmaack/MyApps/julia_v1.5/usr/share/julia/stdlib/v1.5/Distributed/src/remotecall.jl:595\u001b[22m [inlined]\u001b[39m\n\u001b[91m [7] \u001b[1m_send_message\u001b[22m at \u001b[1m/Users/jmaack/jdev/ProgressiveHedging/src/worker_management.jl:123\u001b[22m [inlined]\u001b[39m\n\u001b[91m [8] \u001b[1m(::ProgressiveHedging.var\"#27#28\"{Base.Iterators.Pairs{Union{},Union{},Tuple{},NamedTuple{(),Tuple{}}},ProgressiveHedging.WorkerInf,ProgressiveHedging.ScenarioTree,typeof(two_stage_int),Tuple{},ProgressiveHedging.ScalarPenaltyParameter,Bool,Int64,Set{ProgressiveHedging.ScenarioID}})\u001b[22m\u001b[1m(\u001b[22m\u001b[1m)\u001b[22m at \u001b[1m./task.jl:356\u001b[22m\u001b[39m\n\n\u001b[91m...and 1 more exception(s).\u001b[39m\n",
      "",
      "Stacktrace:",
      " [1] sync_end(::Channel{Any}) at ./task.jl:314",
      " [2] macro expansion at ./task.jl:333 [inlined]",
      " [3] _initialize_subproblems(::Dict{Int64,Set{ProgressiveHedging.ScenarioID}}, ::ProgressiveHedging.WorkerInf, ::ProgressiveHedging.ScenarioTree, ::Function, ::Tuple{}, ::ProgressiveHedging.ScalarPenaltyParameter, ::Bool; kwargs::Base.Iterators.Pairs{Union{},Union{},Tuple{},NamedTuple{(),Tuple{}}}) at /Users/jmaack/jdev/ProgressiveHedging/src/setup.jl:29",
      " [4] _initialize_subproblems at /Users/jmaack/jdev/ProgressiveHedging/src/setup.jl:29 [inlined]",
      " [5] macro expansion at /Users/jmaack/.julia/packages/TimerOutputs/4QAIk/src/TimerOutput.jl:190 [inlined]",
      " [6] initialize(::ProgressiveHedging.ScenarioTree, ::Function, ::ProgressiveHedging.ScalarPenaltyParameter, ::Bool, ::TimerOutputs.TimerOutput, ::Int64, ::Tuple{}; kwargs::Base.Iterators.Pairs{Union{},Union{},Tuple{},NamedTuple{(),Tuple{}}}) at /Users/jmaack/jdev/ProgressiveHedging/src/setup.jl:213",
      " [7] initialize at /Users/jmaack/jdev/ProgressiveHedging/src/setup.jl:195 [inlined]",
      " [8] macro expansion at /Users/jmaack/.julia/packages/TimerOutputs/4QAIk/src/TimerOutput.jl:190 [inlined]",
      " [9] solve(::ProgressiveHedging.ScenarioTree, ::typeof(two_stage_int), ::ProgressiveHedging.ScalarPenaltyParameter; max_iter::Int64, atol::Float64, rtol::Float64, report::Int64, save_iterates::Int64, save_residuals::Int64, timing::Bool, warm_start::Bool, args::Tuple{}, kwargs::Base.Iterators.Pairs{Union{},Union{},Tuple{},NamedTuple{(),Tuple{}}}) at /Users/jmaack/jdev/ProgressiveHedging/src/ProgressiveHedging.jl:109",
      " [10] top-level scope at In[8]:2",
      " [11] include_string(::Function, ::Module, ::String, ::String) at ./loading.jl:1091"
     ]
    }
   ],
   "source": [
    "st = PH.two_stage_tree(N)\n",
    "(n, err, rerr, obj, soln, phd_sc) = PH.solve(st,\n",
    "                                     two_stage_int,\n",
    "                                     PH.ScalarPenaltyParameter(1.0),\n",
    "                                     atol=1e-8, rtol=1e-12, max_iter=500, report=0,\n",
    "                                     save_iterates=1, save_residuals=1)\n",
    "println(\"Number of iterations: \", n)\n",
    "println(\"L^2 error: \", err)\n",
    "println(obj)"
   ]
  },
  {
   "cell_type": "code",
   "execution_count": 9,
   "metadata": {},
   "outputs": [
    {
     "ename": "LoadError",
     "evalue": "\u001b[91mUndefVarError: phd_sc not defined\u001b[39m",
     "output_type": "error",
     "traceback": [
      "\u001b[91mUndefVarError: phd_sc not defined\u001b[39m",
      "",
      "Stacktrace:",
      " [1] top-level scope at In[9]:1",
      " [2] include_string(::Function, ::Module, ::String, ::String) at ./loading.jl:1091"
     ]
    }
   ],
   "source": [
    "aobj = PH.retrieve_aug_obj_value(phd_sc)\n",
    "println(\"Augmented Objective: \", aobj)\n",
    "println(\"Difference: \", aobj - obj)"
   ]
  },
  {
   "cell_type": "code",
   "execution_count": 10,
   "metadata": {},
   "outputs": [
    {
     "ename": "LoadError",
     "evalue": "\u001b[91mUndefVarError: soln not defined\u001b[39m",
     "output_type": "error",
     "traceback": [
      "\u001b[91mUndefVarError: soln not defined\u001b[39m",
      "",
      "Stacktrace:",
      " [1] top-level scope",
      " [2] include_string(::Function, ::Module, ::String, ::String) at ./loading.jl:1091"
     ]
    }
   ],
   "source": [
    "soln"
   ]
  },
  {
   "cell_type": "code",
   "execution_count": null,
   "metadata": {},
   "outputs": [],
   "source": []
  },
  {
   "cell_type": "code",
   "execution_count": 11,
   "metadata": {},
   "outputs": [
    {
     "ename": "LoadError",
     "evalue": "\u001b[91mUndefVarError: phd_sc not defined\u001b[39m",
     "output_type": "error",
     "traceback": [
      "\u001b[91mUndefVarError: phd_sc not defined\u001b[39m",
      "",
      "Stacktrace:",
      " [1] top-level scope at In[11]:1",
      " [2] include_string(::Function, ::Module, ::String, ::String) at ./loading.jl:1091"
     ]
    }
   ],
   "source": [
    "xhats = PH.retrieve_xhat_history(phd_sc)\n",
    "p = plot()\n",
    "for n in names(select(xhats, Not(:iteration)))\n",
    "    plot!(p, xhats[:,:iteration], xhats[:,n], label=n)\n",
    "end\n",
    "display(p)"
   ]
  },
  {
   "cell_type": "code",
   "execution_count": 12,
   "metadata": {},
   "outputs": [
    {
     "ename": "LoadError",
     "evalue": "\u001b[91mUndefVarError: phd_sc not defined\u001b[39m",
     "output_type": "error",
     "traceback": [
      "\u001b[91mUndefVarError: phd_sc not defined\u001b[39m",
      "",
      "Stacktrace:",
      " [1] top-level scope at In[12]:1",
      " [2] include_string(::Function, ::Module, ::String, ::String) at ./loading.jl:1091"
     ]
    }
   ],
   "source": [
    "xs = PH.retrieve_no_hat_history(phd_sc)\n",
    "p = plot()\n",
    "for n in names(select(xs, DataFrames.Not(:iteration)))\n",
    "    plot!(p, xs[:,:iteration], xs[:,n], label=n)\n",
    "end\n",
    "display(p)"
   ]
  },
  {
   "cell_type": "code",
   "execution_count": 13,
   "metadata": {},
   "outputs": [
    {
     "ename": "LoadError",
     "evalue": "\u001b[91mUndefVarError: phd_sc not defined\u001b[39m",
     "output_type": "error",
     "traceback": [
      "\u001b[91mUndefVarError: phd_sc not defined\u001b[39m",
      "",
      "Stacktrace:",
      " [1] top-level scope at In[13]:1",
      " [2] include_string(::Function, ::Module, ::String, ::String) at ./loading.jl:1091"
     ]
    }
   ],
   "source": [
    "ws = PH.retrieve_w_history(phd_sc)\n",
    "p = plot()\n",
    "for n in names(select(ws, DataFrames.Not(:iteration)))\n",
    "    plot!(p, ws[:,:iteration], ws[:,n], label=n)\n",
    "end\n",
    "display(p)"
   ]
  },
  {
   "cell_type": "code",
   "execution_count": null,
   "metadata": {},
   "outputs": [],
   "source": []
  },
  {
   "cell_type": "code",
   "execution_count": 14,
   "metadata": {},
   "outputs": [
    {
     "ename": "LoadError",
     "evalue": "\u001b[91mUndefVarError: phd_sc not defined\u001b[39m",
     "output_type": "error",
     "traceback": [
      "\u001b[91mUndefVarError: phd_sc not defined\u001b[39m",
      "",
      "Stacktrace:",
      " [1] top-level scope at In[14]:1",
      " [2] include_string(::Function, ::Module, ::String, ::String) at ./loading.jl:1091"
     ]
    }
   ],
   "source": [
    "res_scalar = PH.residuals(phd_sc)\n",
    "rel_scalar = PH.relative_residuals(phd_sc)\n",
    "plot(res_scalar, yscale=:log10)\n",
    "plot!(rel_scalar, yscale=:log10)"
   ]
  },
  {
   "cell_type": "code",
   "execution_count": 15,
   "metadata": {},
   "outputs": [
    {
     "ename": "LoadError",
     "evalue": "\u001b[91mUndefVarError: phd_sc not defined\u001b[39m",
     "output_type": "error",
     "traceback": [
      "\u001b[91mUndefVarError: phd_sc not defined\u001b[39m",
      "",
      "Stacktrace:",
      " [1] top-level scope at In[15]:1",
      " [2] include_string(::Function, ::Module, ::String, ::String) at ./loading.jl:1091"
     ]
    }
   ],
   "source": [
    "(xhat_sq, x_sq) = PH.residual_components(phd_sc)\n",
    "plot(sqrt.(xhat_sq), yscale=:log10)\n",
    "plot!(sqrt.(x_sq), yscale=:log10)"
   ]
  },
  {
   "cell_type": "code",
   "execution_count": null,
   "metadata": {},
   "outputs": [],
   "source": []
  },
  {
   "cell_type": "code",
   "execution_count": 16,
   "metadata": {
    "scrolled": true
   },
   "outputs": [
    {
     "ename": "LoadError",
     "evalue": "\u001b[91mTaskFailedException:\u001b[39m\n\u001b[91m\u001b[91mOn worker 2:\u001b[39m\u001b[39m\n\u001b[91m\u001b[91m\u001b[91mUndefVarError: #two_stage_int not defined\u001b[39m\u001b[39m\u001b[39m\n\u001b[91m\u001b[91mdeserialize_datatype at /Users/jmaack/MyApps/julia_v1.5/usr/share/julia/stdlib/v1.5/Serialization/src/Serialization.jl:1252\u001b[39m\u001b[39m\n\u001b[91m\u001b[91mhandle_deserialize at /Users/jmaack/MyApps/julia_v1.5/usr/share/julia/stdlib/v1.5/Serialization/src/Serialization.jl:826\u001b[39m\u001b[39m\n\u001b[91m\u001b[91mdeserialize at /Users/jmaack/MyApps/julia_v1.5/usr/share/julia/stdlib/v1.5/Serialization/src/Serialization.jl:773\u001b[39m\u001b[39m\n\u001b[91m\u001b[91mhandle_deserialize at /Users/jmaack/MyApps/julia_v1.5/usr/share/julia/stdlib/v1.5/Serialization/src/Serialization.jl:833\u001b[39m\u001b[39m\n\u001b[91m\u001b[91mdeserialize at /Users/jmaack/MyApps/julia_v1.5/usr/share/julia/stdlib/v1.5/Serialization/src/Serialization.jl:1350\u001b[39m\u001b[39m\n\u001b[91m\u001b[91mhandle_deserialize at /Users/jmaack/MyApps/julia_v1.5/usr/share/julia/stdlib/v1.5/Serialization/src/Serialization.jl:837\u001b[39m\u001b[39m\n\u001b[91m\u001b[91mdeserialize at /Users/jmaack/MyApps/julia_v1.5/usr/share/julia/stdlib/v1.5/Serialization/src/Serialization.jl:773\u001b[39m\u001b[39m\n\u001b[91m\u001b[91m#5 at /Users/jmaack/MyApps/julia_v1.5/usr/share/julia/stdlib/v1.5/Serialization/src/Serialization.jl:932\u001b[39m\u001b[39m\n\u001b[91m\u001b[91mntuple at ./ntuple.jl:18\u001b[39m\u001b[39m\n\u001b[91m\u001b[91mdeserialize_tuple at /Users/jmaack/MyApps/julia_v1.5/usr/share/julia/stdlib/v1.5/Serialization/src/Serialization.jl:932\u001b[39m\u001b[39m\n\u001b[91m\u001b[91mhandle_deserialize at /Users/jmaack/MyApps/julia_v1.5/usr/share/julia/stdlib/v1.5/Serialization/src/Serialization.jl:816\u001b[39m\u001b[39m\n\u001b[91m\u001b[91mdeserialize at /Users/jmaack/MyApps/julia_v1.5/usr/share/julia/stdlib/v1.5/Serialization/src/Serialization.jl:773 [inlined]\u001b[39m\u001b[39m\n\u001b[91m\u001b[91mdeserialize_msg at /Users/jmaack/MyApps/julia_v1.5/usr/share/julia/stdlib/v1.5/Distributed/src/messages.jl:99\u001b[39m\u001b[39m\n\u001b[91m\u001b[91m#invokelatest#1 at ./essentials.jl:710 [inlined]\u001b[39m\u001b[39m\n\u001b[91m\u001b[91minvokelatest at ./essentials.jl:709 [inlined]\u001b[39m\u001b[39m\n\u001b[91m\u001b[91mmessage_handler_loop at /Users/jmaack/MyApps/julia_v1.5/usr/share/julia/stdlib/v1.5/Distributed/src/process_messages.jl:185\u001b[39m\u001b[39m\n\u001b[91m\u001b[91mprocess_tcp_streams at /Users/jmaack/MyApps/julia_v1.5/usr/share/julia/stdlib/v1.5/Distributed/src/process_messages.jl:142\u001b[39m\u001b[39m\n\u001b[91m\u001b[91m#99 at ./task.jl:356\u001b[39m\u001b[39m\n\u001b[91mStacktrace:\u001b[39m\n\u001b[91m [1] \u001b[1mremotecall_fetch\u001b[22m\u001b[1m(\u001b[22m::Function, ::Distributed.Worker, ::Distributed.RRID, ::Vararg{Any,N} where N; kwargs::Base.Iterators.Pairs{Union{},Union{},Tuple{},NamedTuple{(),Tuple{}}}\u001b[1m)\u001b[22m at \u001b[1m/Users/jmaack/MyApps/julia_v1.5/usr/share/julia/stdlib/v1.5/Distributed/src/remotecall.jl:394\u001b[22m\u001b[39m\n\u001b[91m [2] \u001b[1mremotecall_fetch\u001b[22m\u001b[1m(\u001b[22m::Function, ::Distributed.Worker, ::Distributed.RRID, ::Vararg{Any,N} where N\u001b[1m)\u001b[22m at \u001b[1m/Users/jmaack/MyApps/julia_v1.5/usr/share/julia/stdlib/v1.5/Distributed/src/remotecall.jl:386\u001b[22m\u001b[39m\n\u001b[91m [3] \u001b[1mremotecall_fetch\u001b[22m\u001b[1m(\u001b[22m::Function, ::Int64, ::Distributed.RRID, ::Vararg{Any,N} where N; kwargs::Base.Iterators.Pairs{Union{},Union{},Tuple{},NamedTuple{(),Tuple{}}}\u001b[1m)\u001b[22m at \u001b[1m/Users/jmaack/MyApps/julia_v1.5/usr/share/julia/stdlib/v1.5/Distributed/src/remotecall.jl:421\u001b[22m\u001b[39m\n\u001b[91m [4] \u001b[1mremotecall_fetch\u001b[22m at \u001b[1m/Users/jmaack/MyApps/julia_v1.5/usr/share/julia/stdlib/v1.5/Distributed/src/remotecall.jl:421\u001b[22m [inlined]\u001b[39m\n\u001b[91m [5] \u001b[1mcall_on_owner\u001b[22m at \u001b[1m/Users/jmaack/MyApps/julia_v1.5/usr/share/julia/stdlib/v1.5/Distributed/src/remotecall.jl:494\u001b[22m [inlined]\u001b[39m\n\u001b[91m [6] \u001b[1mput!\u001b[22m at \u001b[1m/Users/jmaack/MyApps/julia_v1.5/usr/share/julia/stdlib/v1.5/Distributed/src/remotecall.jl:595\u001b[22m [inlined]\u001b[39m\n\u001b[91m [7] \u001b[1m_send_message\u001b[22m at \u001b[1m/Users/jmaack/jdev/ProgressiveHedging/src/worker_management.jl:123\u001b[22m [inlined]\u001b[39m\n\u001b[91m [8] \u001b[1m(::ProgressiveHedging.var\"#27#28\"{Base.Iterators.Pairs{Union{},Union{},Tuple{},NamedTuple{(),Tuple{}}},ProgressiveHedging.WorkerInf,ProgressiveHedging.ScenarioTree,typeof(two_stage_int),Tuple{},ProgressiveHedging.ProportionalPenaltyParameter,Bool,Int64,Set{ProgressiveHedging.ScenarioID}})\u001b[22m\u001b[1m(\u001b[22m\u001b[1m)\u001b[22m at \u001b[1m./task.jl:356\u001b[22m\u001b[39m\n\n\u001b[91m...and 1 more exception(s).\u001b[39m\n",
     "output_type": "error",
     "traceback": [
      "\u001b[91mTaskFailedException:\u001b[39m\n\u001b[91m\u001b[91mOn worker 2:\u001b[39m\u001b[39m\n\u001b[91m\u001b[91m\u001b[91mUndefVarError: #two_stage_int not defined\u001b[39m\u001b[39m\u001b[39m\n\u001b[91m\u001b[91mdeserialize_datatype at /Users/jmaack/MyApps/julia_v1.5/usr/share/julia/stdlib/v1.5/Serialization/src/Serialization.jl:1252\u001b[39m\u001b[39m\n\u001b[91m\u001b[91mhandle_deserialize at /Users/jmaack/MyApps/julia_v1.5/usr/share/julia/stdlib/v1.5/Serialization/src/Serialization.jl:826\u001b[39m\u001b[39m\n\u001b[91m\u001b[91mdeserialize at /Users/jmaack/MyApps/julia_v1.5/usr/share/julia/stdlib/v1.5/Serialization/src/Serialization.jl:773\u001b[39m\u001b[39m\n\u001b[91m\u001b[91mhandle_deserialize at /Users/jmaack/MyApps/julia_v1.5/usr/share/julia/stdlib/v1.5/Serialization/src/Serialization.jl:833\u001b[39m\u001b[39m\n\u001b[91m\u001b[91mdeserialize at /Users/jmaack/MyApps/julia_v1.5/usr/share/julia/stdlib/v1.5/Serialization/src/Serialization.jl:1350\u001b[39m\u001b[39m\n\u001b[91m\u001b[91mhandle_deserialize at /Users/jmaack/MyApps/julia_v1.5/usr/share/julia/stdlib/v1.5/Serialization/src/Serialization.jl:837\u001b[39m\u001b[39m\n\u001b[91m\u001b[91mdeserialize at /Users/jmaack/MyApps/julia_v1.5/usr/share/julia/stdlib/v1.5/Serialization/src/Serialization.jl:773\u001b[39m\u001b[39m\n\u001b[91m\u001b[91m#5 at /Users/jmaack/MyApps/julia_v1.5/usr/share/julia/stdlib/v1.5/Serialization/src/Serialization.jl:932\u001b[39m\u001b[39m\n\u001b[91m\u001b[91mntuple at ./ntuple.jl:18\u001b[39m\u001b[39m\n\u001b[91m\u001b[91mdeserialize_tuple at /Users/jmaack/MyApps/julia_v1.5/usr/share/julia/stdlib/v1.5/Serialization/src/Serialization.jl:932\u001b[39m\u001b[39m\n\u001b[91m\u001b[91mhandle_deserialize at /Users/jmaack/MyApps/julia_v1.5/usr/share/julia/stdlib/v1.5/Serialization/src/Serialization.jl:816\u001b[39m\u001b[39m\n\u001b[91m\u001b[91mdeserialize at /Users/jmaack/MyApps/julia_v1.5/usr/share/julia/stdlib/v1.5/Serialization/src/Serialization.jl:773 [inlined]\u001b[39m\u001b[39m\n\u001b[91m\u001b[91mdeserialize_msg at /Users/jmaack/MyApps/julia_v1.5/usr/share/julia/stdlib/v1.5/Distributed/src/messages.jl:99\u001b[39m\u001b[39m\n\u001b[91m\u001b[91m#invokelatest#1 at ./essentials.jl:710 [inlined]\u001b[39m\u001b[39m\n\u001b[91m\u001b[91minvokelatest at ./essentials.jl:709 [inlined]\u001b[39m\u001b[39m\n\u001b[91m\u001b[91mmessage_handler_loop at /Users/jmaack/MyApps/julia_v1.5/usr/share/julia/stdlib/v1.5/Distributed/src/process_messages.jl:185\u001b[39m\u001b[39m\n\u001b[91m\u001b[91mprocess_tcp_streams at /Users/jmaack/MyApps/julia_v1.5/usr/share/julia/stdlib/v1.5/Distributed/src/process_messages.jl:142\u001b[39m\u001b[39m\n\u001b[91m\u001b[91m#99 at ./task.jl:356\u001b[39m\u001b[39m\n\u001b[91mStacktrace:\u001b[39m\n\u001b[91m [1] \u001b[1mremotecall_fetch\u001b[22m\u001b[1m(\u001b[22m::Function, ::Distributed.Worker, ::Distributed.RRID, ::Vararg{Any,N} where N; kwargs::Base.Iterators.Pairs{Union{},Union{},Tuple{},NamedTuple{(),Tuple{}}}\u001b[1m)\u001b[22m at \u001b[1m/Users/jmaack/MyApps/julia_v1.5/usr/share/julia/stdlib/v1.5/Distributed/src/remotecall.jl:394\u001b[22m\u001b[39m\n\u001b[91m [2] \u001b[1mremotecall_fetch\u001b[22m\u001b[1m(\u001b[22m::Function, ::Distributed.Worker, ::Distributed.RRID, ::Vararg{Any,N} where N\u001b[1m)\u001b[22m at \u001b[1m/Users/jmaack/MyApps/julia_v1.5/usr/share/julia/stdlib/v1.5/Distributed/src/remotecall.jl:386\u001b[22m\u001b[39m\n\u001b[91m [3] \u001b[1mremotecall_fetch\u001b[22m\u001b[1m(\u001b[22m::Function, ::Int64, ::Distributed.RRID, ::Vararg{Any,N} where N; kwargs::Base.Iterators.Pairs{Union{},Union{},Tuple{},NamedTuple{(),Tuple{}}}\u001b[1m)\u001b[22m at \u001b[1m/Users/jmaack/MyApps/julia_v1.5/usr/share/julia/stdlib/v1.5/Distributed/src/remotecall.jl:421\u001b[22m\u001b[39m\n\u001b[91m [4] \u001b[1mremotecall_fetch\u001b[22m at \u001b[1m/Users/jmaack/MyApps/julia_v1.5/usr/share/julia/stdlib/v1.5/Distributed/src/remotecall.jl:421\u001b[22m [inlined]\u001b[39m\n\u001b[91m [5] \u001b[1mcall_on_owner\u001b[22m at \u001b[1m/Users/jmaack/MyApps/julia_v1.5/usr/share/julia/stdlib/v1.5/Distributed/src/remotecall.jl:494\u001b[22m [inlined]\u001b[39m\n\u001b[91m [6] \u001b[1mput!\u001b[22m at \u001b[1m/Users/jmaack/MyApps/julia_v1.5/usr/share/julia/stdlib/v1.5/Distributed/src/remotecall.jl:595\u001b[22m [inlined]\u001b[39m\n\u001b[91m [7] \u001b[1m_send_message\u001b[22m at \u001b[1m/Users/jmaack/jdev/ProgressiveHedging/src/worker_management.jl:123\u001b[22m [inlined]\u001b[39m\n\u001b[91m [8] \u001b[1m(::ProgressiveHedging.var\"#27#28\"{Base.Iterators.Pairs{Union{},Union{},Tuple{},NamedTuple{(),Tuple{}}},ProgressiveHedging.WorkerInf,ProgressiveHedging.ScenarioTree,typeof(two_stage_int),Tuple{},ProgressiveHedging.ProportionalPenaltyParameter,Bool,Int64,Set{ProgressiveHedging.ScenarioID}})\u001b[22m\u001b[1m(\u001b[22m\u001b[1m)\u001b[22m at \u001b[1m./task.jl:356\u001b[22m\u001b[39m\n\n\u001b[91m...and 1 more exception(s).\u001b[39m\n",
      "",
      "Stacktrace:",
      " [1] sync_end(::Channel{Any}) at ./task.jl:314",
      " [2] macro expansion at ./task.jl:333 [inlined]",
      " [3] _initialize_subproblems(::Dict{Int64,Set{ProgressiveHedging.ScenarioID}}, ::ProgressiveHedging.WorkerInf, ::ProgressiveHedging.ScenarioTree, ::Function, ::Tuple{}, ::ProgressiveHedging.ProportionalPenaltyParameter, ::Bool; kwargs::Base.Iterators.Pairs{Union{},Union{},Tuple{},NamedTuple{(),Tuple{}}}) at /Users/jmaack/jdev/ProgressiveHedging/src/setup.jl:29",
      " [4] _initialize_subproblems at /Users/jmaack/jdev/ProgressiveHedging/src/setup.jl:29 [inlined]",
      " [5] macro expansion at /Users/jmaack/.julia/packages/TimerOutputs/4QAIk/src/TimerOutput.jl:190 [inlined]",
      " [6] initialize(::ProgressiveHedging.ScenarioTree, ::Function, ::ProgressiveHedging.ProportionalPenaltyParameter, ::Bool, ::TimerOutputs.TimerOutput, ::Int64, ::Tuple{}; kwargs::Base.Iterators.Pairs{Union{},Union{},Tuple{},NamedTuple{(),Tuple{}}}) at /Users/jmaack/jdev/ProgressiveHedging/src/setup.jl:213",
      " [7] initialize at /Users/jmaack/jdev/ProgressiveHedging/src/setup.jl:195 [inlined]",
      " [8] macro expansion at /Users/jmaack/.julia/packages/TimerOutputs/4QAIk/src/TimerOutput.jl:190 [inlined]",
      " [9] solve(::ProgressiveHedging.ScenarioTree, ::typeof(two_stage_int), ::ProgressiveHedging.ProportionalPenaltyParameter; max_iter::Int64, atol::Float64, rtol::Float64, report::Int64, save_iterates::Int64, save_residuals::Int64, timing::Bool, warm_start::Bool, args::Tuple{}, kwargs::Base.Iterators.Pairs{Union{},Union{},Tuple{},NamedTuple{(),Tuple{}}}) at /Users/jmaack/jdev/ProgressiveHedging/src/ProgressiveHedging.jl:109",
      " [10] top-level scope at In[16]:2",
      " [11] include_string(::Function, ::Module, ::String, ::String) at ./loading.jl:1091"
     ]
    }
   ],
   "source": [
    "st = PH.two_stage_tree(N)\n",
    "(n, err, rerr, obj, soln, phd_pr) = PH.solve(st,\n",
    "                                    two_stage_int,\n",
    "                                    PH.ProportionalPenaltyParameter(1.0),\n",
    "                                    atol=1e-8, rtol=1e-12, max_iter=500, report=0,\n",
    "                                    save_iterates=1, save_residuals=1)\n",
    "println(\"Number of iterations: \", n)\n",
    "println(\"L^2 error: \", err)\n",
    "println(obj)"
   ]
  },
  {
   "cell_type": "code",
   "execution_count": 17,
   "metadata": {},
   "outputs": [
    {
     "ename": "LoadError",
     "evalue": "\u001b[91mUndefVarError: phd_pr not defined\u001b[39m",
     "output_type": "error",
     "traceback": [
      "\u001b[91mUndefVarError: phd_pr not defined\u001b[39m",
      "",
      "Stacktrace:",
      " [1] top-level scope at In[17]:1",
      " [2] include_string(::Function, ::Module, ::String, ::String) at ./loading.jl:1091"
     ]
    }
   ],
   "source": [
    "aobj = PH.retrieve_aug_obj_value(phd_pr)\n",
    "println(\"Augmented Objective: \", aobj)\n",
    "println(\"Difference: \", aobj - obj)"
   ]
  },
  {
   "cell_type": "code",
   "execution_count": 18,
   "metadata": {},
   "outputs": [
    {
     "ename": "LoadError",
     "evalue": "\u001b[91mUndefVarError: phd_pr not defined\u001b[39m",
     "output_type": "error",
     "traceback": [
      "\u001b[91mUndefVarError: phd_pr not defined\u001b[39m",
      "",
      "Stacktrace:",
      " [1] top-level scope at In[18]:1",
      " [2] include_string(::Function, ::Module, ::String, ::String) at ./loading.jl:1091"
     ]
    }
   ],
   "source": [
    "phd_pr.r.penalties"
   ]
  },
  {
   "cell_type": "code",
   "execution_count": null,
   "metadata": {},
   "outputs": [],
   "source": []
  },
  {
   "cell_type": "code",
   "execution_count": 19,
   "metadata": {},
   "outputs": [
    {
     "ename": "LoadError",
     "evalue": "\u001b[91mUndefVarError: phd_pr not defined\u001b[39m",
     "output_type": "error",
     "traceback": [
      "\u001b[91mUndefVarError: phd_pr not defined\u001b[39m",
      "",
      "Stacktrace:",
      " [1] top-level scope at In[19]:1",
      " [2] include_string(::Function, ::Module, ::String, ::String) at ./loading.jl:1091"
     ]
    }
   ],
   "source": [
    "xhats = PH.retrieve_xhat_history(phd_pr)\n",
    "p = plot()\n",
    "for n in names(select(xhats, Not(:iteration)))\n",
    "    plot!(p, xhats[:,:iteration], xhats[:,n], label=n)\n",
    "end\n",
    "display(p)"
   ]
  },
  {
   "cell_type": "code",
   "execution_count": 20,
   "metadata": {},
   "outputs": [
    {
     "ename": "LoadError",
     "evalue": "\u001b[91mUndefVarError: phd_pr not defined\u001b[39m",
     "output_type": "error",
     "traceback": [
      "\u001b[91mUndefVarError: phd_pr not defined\u001b[39m",
      "",
      "Stacktrace:",
      " [1] top-level scope at In[20]:1",
      " [2] include_string(::Function, ::Module, ::String, ::String) at ./loading.jl:1091"
     ]
    }
   ],
   "source": [
    "xs = PH.retrieve_no_hat_history(phd_pr)\n",
    "p = plot()\n",
    "for n in names(select(xs, DataFrames.Not(:iteration)))\n",
    "    plot!(p, xs[:,:iteration], xs[:,n], label=n)\n",
    "end\n",
    "display(p)"
   ]
  },
  {
   "cell_type": "code",
   "execution_count": 21,
   "metadata": {},
   "outputs": [
    {
     "ename": "LoadError",
     "evalue": "\u001b[91mUndefVarError: phd_pr not defined\u001b[39m",
     "output_type": "error",
     "traceback": [
      "\u001b[91mUndefVarError: phd_pr not defined\u001b[39m",
      "",
      "Stacktrace:",
      " [1] top-level scope at In[21]:1",
      " [2] include_string(::Function, ::Module, ::String, ::String) at ./loading.jl:1091"
     ]
    }
   ],
   "source": [
    "ws = PH.retrieve_w_history(phd_pr)\n",
    "p = plot()\n",
    "for n in names(select(ws, DataFrames.Not(:iteration)))\n",
    "    plot!(p, ws[:,:iteration], ws[:,n], label=n)\n",
    "end\n",
    "display(p)"
   ]
  },
  {
   "cell_type": "code",
   "execution_count": null,
   "metadata": {},
   "outputs": [],
   "source": []
  },
  {
   "cell_type": "code",
   "execution_count": 22,
   "metadata": {},
   "outputs": [
    {
     "ename": "LoadError",
     "evalue": "\u001b[91mUndefVarError: phd_pr not defined\u001b[39m",
     "output_type": "error",
     "traceback": [
      "\u001b[91mUndefVarError: phd_pr not defined\u001b[39m",
      "",
      "Stacktrace:",
      " [1] top-level scope at In[22]:1",
      " [2] include_string(::Function, ::Module, ::String, ::String) at ./loading.jl:1091"
     ]
    }
   ],
   "source": [
    "res_prop = PH.residuals(phd_pr)\n",
    "rel_prop = PH.relative_residuals(phd_pr)\n",
    "plot(res_prop, yscale=:log10)\n",
    "plot!(rel_prop, yscale=:log10)"
   ]
  },
  {
   "cell_type": "code",
   "execution_count": 23,
   "metadata": {},
   "outputs": [
    {
     "ename": "LoadError",
     "evalue": "\u001b[91mUndefVarError: phd_pr not defined\u001b[39m",
     "output_type": "error",
     "traceback": [
      "\u001b[91mUndefVarError: phd_pr not defined\u001b[39m",
      "",
      "Stacktrace:",
      " [1] top-level scope at In[23]:1",
      " [2] include_string(::Function, ::Module, ::String, ::String) at ./loading.jl:1091"
     ]
    }
   ],
   "source": [
    "(xhat_sq, x_sq) = PH.residual_components(phd_pr)\n",
    "plot(sqrt.(xhat_sq), yscale=:log10)\n",
    "plot!(sqrt.(x_sq), yscale=:log10)"
   ]
  },
  {
   "cell_type": "code",
   "execution_count": null,
   "metadata": {},
   "outputs": [],
   "source": []
  },
  {
   "cell_type": "code",
   "execution_count": 24,
   "metadata": {},
   "outputs": [
    {
     "ename": "LoadError",
     "evalue": "\u001b[91mTaskFailedException:\u001b[39m\n\u001b[91m\u001b[91mOn worker 2:\u001b[39m\u001b[39m\n\u001b[91m\u001b[91m\u001b[91mUndefVarError: #two_stage_int not defined\u001b[39m\u001b[39m\u001b[39m\n\u001b[91m\u001b[91mdeserialize_datatype at /Users/jmaack/MyApps/julia_v1.5/usr/share/julia/stdlib/v1.5/Serialization/src/Serialization.jl:1252\u001b[39m\u001b[39m\n\u001b[91m\u001b[91mhandle_deserialize at /Users/jmaack/MyApps/julia_v1.5/usr/share/julia/stdlib/v1.5/Serialization/src/Serialization.jl:826\u001b[39m\u001b[39m\n\u001b[91m\u001b[91mdeserialize at /Users/jmaack/MyApps/julia_v1.5/usr/share/julia/stdlib/v1.5/Serialization/src/Serialization.jl:773\u001b[39m\u001b[39m\n\u001b[91m\u001b[91mhandle_deserialize at /Users/jmaack/MyApps/julia_v1.5/usr/share/julia/stdlib/v1.5/Serialization/src/Serialization.jl:833\u001b[39m\u001b[39m\n\u001b[91m\u001b[91mdeserialize at /Users/jmaack/MyApps/julia_v1.5/usr/share/julia/stdlib/v1.5/Serialization/src/Serialization.jl:1350\u001b[39m\u001b[39m\n\u001b[91m\u001b[91mhandle_deserialize at /Users/jmaack/MyApps/julia_v1.5/usr/share/julia/stdlib/v1.5/Serialization/src/Serialization.jl:837\u001b[39m\u001b[39m\n\u001b[91m\u001b[91mdeserialize at /Users/jmaack/MyApps/julia_v1.5/usr/share/julia/stdlib/v1.5/Serialization/src/Serialization.jl:773\u001b[39m\u001b[39m\n\u001b[91m\u001b[91m#5 at /Users/jmaack/MyApps/julia_v1.5/usr/share/julia/stdlib/v1.5/Serialization/src/Serialization.jl:932\u001b[39m\u001b[39m\n\u001b[91m\u001b[91mntuple at ./ntuple.jl:18\u001b[39m\u001b[39m\n\u001b[91m\u001b[91mdeserialize_tuple at /Users/jmaack/MyApps/julia_v1.5/usr/share/julia/stdlib/v1.5/Serialization/src/Serialization.jl:932\u001b[39m\u001b[39m\n\u001b[91m\u001b[91mhandle_deserialize at /Users/jmaack/MyApps/julia_v1.5/usr/share/julia/stdlib/v1.5/Serialization/src/Serialization.jl:816\u001b[39m\u001b[39m\n\u001b[91m\u001b[91mdeserialize at /Users/jmaack/MyApps/julia_v1.5/usr/share/julia/stdlib/v1.5/Serialization/src/Serialization.jl:773 [inlined]\u001b[39m\u001b[39m\n\u001b[91m\u001b[91mdeserialize_msg at /Users/jmaack/MyApps/julia_v1.5/usr/share/julia/stdlib/v1.5/Distributed/src/messages.jl:99\u001b[39m\u001b[39m\n\u001b[91m\u001b[91m#invokelatest#1 at ./essentials.jl:710 [inlined]\u001b[39m\u001b[39m\n\u001b[91m\u001b[91minvokelatest at ./essentials.jl:709 [inlined]\u001b[39m\u001b[39m\n\u001b[91m\u001b[91mmessage_handler_loop at /Users/jmaack/MyApps/julia_v1.5/usr/share/julia/stdlib/v1.5/Distributed/src/process_messages.jl:185\u001b[39m\u001b[39m\n\u001b[91m\u001b[91mprocess_tcp_streams at /Users/jmaack/MyApps/julia_v1.5/usr/share/julia/stdlib/v1.5/Distributed/src/process_messages.jl:142\u001b[39m\u001b[39m\n\u001b[91m\u001b[91m#99 at ./task.jl:356\u001b[39m\u001b[39m\n\u001b[91mStacktrace:\u001b[39m\n\u001b[91m [1] \u001b[1mremotecall_fetch\u001b[22m\u001b[1m(\u001b[22m::Function, ::Distributed.Worker, ::Distributed.RRID, ::Vararg{Any,N} where N; kwargs::Base.Iterators.Pairs{Union{},Union{},Tuple{},NamedTuple{(),Tuple{}}}\u001b[1m)\u001b[22m at \u001b[1m/Users/jmaack/MyApps/julia_v1.5/usr/share/julia/stdlib/v1.5/Distributed/src/remotecall.jl:394\u001b[22m\u001b[39m\n\u001b[91m [2] \u001b[1mremotecall_fetch\u001b[22m\u001b[1m(\u001b[22m::Function, ::Distributed.Worker, ::Distributed.RRID, ::Vararg{Any,N} where N\u001b[1m)\u001b[22m at \u001b[1m/Users/jmaack/MyApps/julia_v1.5/usr/share/julia/stdlib/v1.5/Distributed/src/remotecall.jl:386\u001b[22m\u001b[39m\n\u001b[91m [3] \u001b[1mremotecall_fetch\u001b[22m\u001b[1m(\u001b[22m::Function, ::Int64, ::Distributed.RRID, ::Vararg{Any,N} where N; kwargs::Base.Iterators.Pairs{Union{},Union{},Tuple{},NamedTuple{(),Tuple{}}}\u001b[1m)\u001b[22m at \u001b[1m/Users/jmaack/MyApps/julia_v1.5/usr/share/julia/stdlib/v1.5/Distributed/src/remotecall.jl:421\u001b[22m\u001b[39m\n\u001b[91m [4] \u001b[1mremotecall_fetch\u001b[22m at \u001b[1m/Users/jmaack/MyApps/julia_v1.5/usr/share/julia/stdlib/v1.5/Distributed/src/remotecall.jl:421\u001b[22m [inlined]\u001b[39m\n\u001b[91m [5] \u001b[1mcall_on_owner\u001b[22m at \u001b[1m/Users/jmaack/MyApps/julia_v1.5/usr/share/julia/stdlib/v1.5/Distributed/src/remotecall.jl:494\u001b[22m [inlined]\u001b[39m\n\u001b[91m [6] \u001b[1mput!\u001b[22m at \u001b[1m/Users/jmaack/MyApps/julia_v1.5/usr/share/julia/stdlib/v1.5/Distributed/src/remotecall.jl:595\u001b[22m [inlined]\u001b[39m\n\u001b[91m [7] \u001b[1m_send_message\u001b[22m at \u001b[1m/Users/jmaack/jdev/ProgressiveHedging/src/worker_management.jl:123\u001b[22m [inlined]\u001b[39m\n\u001b[91m [8] \u001b[1m(::ProgressiveHedging.var\"#27#28\"{Base.Iterators.Pairs{Union{},Union{},Tuple{},NamedTuple{(),Tuple{}}},ProgressiveHedging.WorkerInf,ProgressiveHedging.ScenarioTree,typeof(two_stage_int),Tuple{},ProgressiveHedging.SEPPenaltyParameter,Bool,Int64,Set{ProgressiveHedging.ScenarioID}})\u001b[22m\u001b[1m(\u001b[22m\u001b[1m)\u001b[22m at \u001b[1m./task.jl:356\u001b[22m\u001b[39m\n\n\u001b[91m...and 1 more exception(s).\u001b[39m\n",
     "output_type": "error",
     "traceback": [
      "\u001b[91mTaskFailedException:\u001b[39m\n\u001b[91m\u001b[91mOn worker 2:\u001b[39m\u001b[39m\n\u001b[91m\u001b[91m\u001b[91mUndefVarError: #two_stage_int not defined\u001b[39m\u001b[39m\u001b[39m\n\u001b[91m\u001b[91mdeserialize_datatype at /Users/jmaack/MyApps/julia_v1.5/usr/share/julia/stdlib/v1.5/Serialization/src/Serialization.jl:1252\u001b[39m\u001b[39m\n\u001b[91m\u001b[91mhandle_deserialize at /Users/jmaack/MyApps/julia_v1.5/usr/share/julia/stdlib/v1.5/Serialization/src/Serialization.jl:826\u001b[39m\u001b[39m\n\u001b[91m\u001b[91mdeserialize at /Users/jmaack/MyApps/julia_v1.5/usr/share/julia/stdlib/v1.5/Serialization/src/Serialization.jl:773\u001b[39m\u001b[39m\n\u001b[91m\u001b[91mhandle_deserialize at /Users/jmaack/MyApps/julia_v1.5/usr/share/julia/stdlib/v1.5/Serialization/src/Serialization.jl:833\u001b[39m\u001b[39m\n\u001b[91m\u001b[91mdeserialize at /Users/jmaack/MyApps/julia_v1.5/usr/share/julia/stdlib/v1.5/Serialization/src/Serialization.jl:1350\u001b[39m\u001b[39m\n\u001b[91m\u001b[91mhandle_deserialize at /Users/jmaack/MyApps/julia_v1.5/usr/share/julia/stdlib/v1.5/Serialization/src/Serialization.jl:837\u001b[39m\u001b[39m\n\u001b[91m\u001b[91mdeserialize at /Users/jmaack/MyApps/julia_v1.5/usr/share/julia/stdlib/v1.5/Serialization/src/Serialization.jl:773\u001b[39m\u001b[39m\n\u001b[91m\u001b[91m#5 at /Users/jmaack/MyApps/julia_v1.5/usr/share/julia/stdlib/v1.5/Serialization/src/Serialization.jl:932\u001b[39m\u001b[39m\n\u001b[91m\u001b[91mntuple at ./ntuple.jl:18\u001b[39m\u001b[39m\n\u001b[91m\u001b[91mdeserialize_tuple at /Users/jmaack/MyApps/julia_v1.5/usr/share/julia/stdlib/v1.5/Serialization/src/Serialization.jl:932\u001b[39m\u001b[39m\n\u001b[91m\u001b[91mhandle_deserialize at /Users/jmaack/MyApps/julia_v1.5/usr/share/julia/stdlib/v1.5/Serialization/src/Serialization.jl:816\u001b[39m\u001b[39m\n\u001b[91m\u001b[91mdeserialize at /Users/jmaack/MyApps/julia_v1.5/usr/share/julia/stdlib/v1.5/Serialization/src/Serialization.jl:773 [inlined]\u001b[39m\u001b[39m\n\u001b[91m\u001b[91mdeserialize_msg at /Users/jmaack/MyApps/julia_v1.5/usr/share/julia/stdlib/v1.5/Distributed/src/messages.jl:99\u001b[39m\u001b[39m\n\u001b[91m\u001b[91m#invokelatest#1 at ./essentials.jl:710 [inlined]\u001b[39m\u001b[39m\n\u001b[91m\u001b[91minvokelatest at ./essentials.jl:709 [inlined]\u001b[39m\u001b[39m\n\u001b[91m\u001b[91mmessage_handler_loop at /Users/jmaack/MyApps/julia_v1.5/usr/share/julia/stdlib/v1.5/Distributed/src/process_messages.jl:185\u001b[39m\u001b[39m\n\u001b[91m\u001b[91mprocess_tcp_streams at /Users/jmaack/MyApps/julia_v1.5/usr/share/julia/stdlib/v1.5/Distributed/src/process_messages.jl:142\u001b[39m\u001b[39m\n\u001b[91m\u001b[91m#99 at ./task.jl:356\u001b[39m\u001b[39m\n\u001b[91mStacktrace:\u001b[39m\n\u001b[91m [1] \u001b[1mremotecall_fetch\u001b[22m\u001b[1m(\u001b[22m::Function, ::Distributed.Worker, ::Distributed.RRID, ::Vararg{Any,N} where N; kwargs::Base.Iterators.Pairs{Union{},Union{},Tuple{},NamedTuple{(),Tuple{}}}\u001b[1m)\u001b[22m at \u001b[1m/Users/jmaack/MyApps/julia_v1.5/usr/share/julia/stdlib/v1.5/Distributed/src/remotecall.jl:394\u001b[22m\u001b[39m\n\u001b[91m [2] \u001b[1mremotecall_fetch\u001b[22m\u001b[1m(\u001b[22m::Function, ::Distributed.Worker, ::Distributed.RRID, ::Vararg{Any,N} where N\u001b[1m)\u001b[22m at \u001b[1m/Users/jmaack/MyApps/julia_v1.5/usr/share/julia/stdlib/v1.5/Distributed/src/remotecall.jl:386\u001b[22m\u001b[39m\n\u001b[91m [3] \u001b[1mremotecall_fetch\u001b[22m\u001b[1m(\u001b[22m::Function, ::Int64, ::Distributed.RRID, ::Vararg{Any,N} where N; kwargs::Base.Iterators.Pairs{Union{},Union{},Tuple{},NamedTuple{(),Tuple{}}}\u001b[1m)\u001b[22m at \u001b[1m/Users/jmaack/MyApps/julia_v1.5/usr/share/julia/stdlib/v1.5/Distributed/src/remotecall.jl:421\u001b[22m\u001b[39m\n\u001b[91m [4] \u001b[1mremotecall_fetch\u001b[22m at \u001b[1m/Users/jmaack/MyApps/julia_v1.5/usr/share/julia/stdlib/v1.5/Distributed/src/remotecall.jl:421\u001b[22m [inlined]\u001b[39m\n\u001b[91m [5] \u001b[1mcall_on_owner\u001b[22m at \u001b[1m/Users/jmaack/MyApps/julia_v1.5/usr/share/julia/stdlib/v1.5/Distributed/src/remotecall.jl:494\u001b[22m [inlined]\u001b[39m\n\u001b[91m [6] \u001b[1mput!\u001b[22m at \u001b[1m/Users/jmaack/MyApps/julia_v1.5/usr/share/julia/stdlib/v1.5/Distributed/src/remotecall.jl:595\u001b[22m [inlined]\u001b[39m\n\u001b[91m [7] \u001b[1m_send_message\u001b[22m at \u001b[1m/Users/jmaack/jdev/ProgressiveHedging/src/worker_management.jl:123\u001b[22m [inlined]\u001b[39m\n\u001b[91m [8] \u001b[1m(::ProgressiveHedging.var\"#27#28\"{Base.Iterators.Pairs{Union{},Union{},Tuple{},NamedTuple{(),Tuple{}}},ProgressiveHedging.WorkerInf,ProgressiveHedging.ScenarioTree,typeof(two_stage_int),Tuple{},ProgressiveHedging.SEPPenaltyParameter,Bool,Int64,Set{ProgressiveHedging.ScenarioID}})\u001b[22m\u001b[1m(\u001b[22m\u001b[1m)\u001b[22m at \u001b[1m./task.jl:356\u001b[22m\u001b[39m\n\n\u001b[91m...and 1 more exception(s).\u001b[39m\n",
      "",
      "Stacktrace:",
      " [1] sync_end(::Channel{Any}) at ./task.jl:314",
      " [2] macro expansion at ./task.jl:333 [inlined]",
      " [3] _initialize_subproblems(::Dict{Int64,Set{ProgressiveHedging.ScenarioID}}, ::ProgressiveHedging.WorkerInf, ::ProgressiveHedging.ScenarioTree, ::Function, ::Tuple{}, ::ProgressiveHedging.SEPPenaltyParameter, ::Bool; kwargs::Base.Iterators.Pairs{Union{},Union{},Tuple{},NamedTuple{(),Tuple{}}}) at /Users/jmaack/jdev/ProgressiveHedging/src/setup.jl:29",
      " [4] _initialize_subproblems at /Users/jmaack/jdev/ProgressiveHedging/src/setup.jl:29 [inlined]",
      " [5] macro expansion at /Users/jmaack/.julia/packages/TimerOutputs/4QAIk/src/TimerOutput.jl:190 [inlined]",
      " [6] initialize(::ProgressiveHedging.ScenarioTree, ::Function, ::ProgressiveHedging.SEPPenaltyParameter, ::Bool, ::TimerOutputs.TimerOutput, ::Int64, ::Tuple{}; kwargs::Base.Iterators.Pairs{Union{},Union{},Tuple{},NamedTuple{(),Tuple{}}}) at /Users/jmaack/jdev/ProgressiveHedging/src/setup.jl:213",
      " [7] initialize at /Users/jmaack/jdev/ProgressiveHedging/src/setup.jl:195 [inlined]",
      " [8] macro expansion at /Users/jmaack/.julia/packages/TimerOutputs/4QAIk/src/TimerOutput.jl:190 [inlined]",
      " [9] solve(::ProgressiveHedging.ScenarioTree, ::typeof(two_stage_int), ::ProgressiveHedging.SEPPenaltyParameter; max_iter::Int64, atol::Float64, rtol::Float64, report::Int64, save_iterates::Int64, save_residuals::Int64, timing::Bool, warm_start::Bool, args::Tuple{}, kwargs::Base.Iterators.Pairs{Union{},Union{},Tuple{},NamedTuple{(),Tuple{}}}) at /Users/jmaack/jdev/ProgressiveHedging/src/ProgressiveHedging.jl:109",
      " [10] top-level scope at In[24]:2",
      " [11] include_string(::Function, ::Module, ::String, ::String) at ./loading.jl:1091"
     ]
    }
   ],
   "source": [
    "st = PH.two_stage_tree(N)\n",
    "(n, err, rerr, obj, soln, phd_sp) = PH.solve(st,\n",
    "                                    two_stage_int,\n",
    "                                    PH.SEPPenaltyParameter(),\n",
    "                                    atol=1e-8, rtol=1e-12, max_iter=500, report=0,\n",
    "                                    save_iterates=1, save_residuals=1)\n",
    "println(\"Number of iterations: \", n)\n",
    "println(\"L^2 error: \", err)\n",
    "println(obj)"
   ]
  },
  {
   "cell_type": "code",
   "execution_count": 25,
   "metadata": {},
   "outputs": [
    {
     "ename": "LoadError",
     "evalue": "\u001b[91mUndefVarError: phd_sp not defined\u001b[39m",
     "output_type": "error",
     "traceback": [
      "\u001b[91mUndefVarError: phd_sp not defined\u001b[39m",
      "",
      "Stacktrace:",
      " [1] top-level scope at In[25]:1",
      " [2] include_string(::Function, ::Module, ::String, ::String) at ./loading.jl:1091"
     ]
    }
   ],
   "source": [
    "aobj = PH.retrieve_aug_obj_value(phd_sp)\n",
    "println(\"Augmented Objective: \", aobj)\n",
    "println(\"Difference: \", aobj - obj)"
   ]
  },
  {
   "cell_type": "code",
   "execution_count": null,
   "metadata": {},
   "outputs": [],
   "source": []
  },
  {
   "cell_type": "code",
   "execution_count": 26,
   "metadata": {},
   "outputs": [
    {
     "ename": "LoadError",
     "evalue": "\u001b[91mUndefVarError: phd_sp not defined\u001b[39m",
     "output_type": "error",
     "traceback": [
      "\u001b[91mUndefVarError: phd_sp not defined\u001b[39m",
      "",
      "Stacktrace:",
      " [1] top-level scope at In[26]:1",
      " [2] include_string(::Function, ::Module, ::String, ::String) at ./loading.jl:1091"
     ]
    }
   ],
   "source": [
    "xhats = PH.retrieve_xhat_history(phd_sp)\n",
    "p = plot()\n",
    "for n in names(select(xhats, Not(:iteration)))\n",
    "    plot!(p, xhats[:,:iteration], xhats[:,n], label=n)\n",
    "end\n",
    "display(p)"
   ]
  },
  {
   "cell_type": "code",
   "execution_count": 27,
   "metadata": {},
   "outputs": [
    {
     "ename": "LoadError",
     "evalue": "\u001b[91mUndefVarError: phd_sp not defined\u001b[39m",
     "output_type": "error",
     "traceback": [
      "\u001b[91mUndefVarError: phd_sp not defined\u001b[39m",
      "",
      "Stacktrace:",
      " [1] top-level scope at In[27]:1",
      " [2] include_string(::Function, ::Module, ::String, ::String) at ./loading.jl:1091"
     ]
    }
   ],
   "source": [
    "xs = PH.retrieve_no_hat_history(phd_sp)\n",
    "p = plot()\n",
    "for n in names(select(xs, DataFrames.Not(:iteration)))\n",
    "    plot!(p, xs[:,:iteration], xs[:,n], label=n)\n",
    "end\n",
    "display(p)"
   ]
  },
  {
   "cell_type": "code",
   "execution_count": 28,
   "metadata": {},
   "outputs": [
    {
     "ename": "LoadError",
     "evalue": "\u001b[91mUndefVarError: phd_sp not defined\u001b[39m",
     "output_type": "error",
     "traceback": [
      "\u001b[91mUndefVarError: phd_sp not defined\u001b[39m",
      "",
      "Stacktrace:",
      " [1] top-level scope at In[28]:1",
      " [2] include_string(::Function, ::Module, ::String, ::String) at ./loading.jl:1091"
     ]
    }
   ],
   "source": [
    "ws = PH.retrieve_w_history(phd_sp)\n",
    "p = plot()\n",
    "for n in names(select(ws, DataFrames.Not(:iteration)))\n",
    "    plot!(p, ws[:,:iteration], ws[:,n], label=n)\n",
    "end\n",
    "display(p)"
   ]
  },
  {
   "cell_type": "code",
   "execution_count": null,
   "metadata": {},
   "outputs": [],
   "source": []
  },
  {
   "cell_type": "code",
   "execution_count": 29,
   "metadata": {},
   "outputs": [
    {
     "ename": "LoadError",
     "evalue": "\u001b[91mUndefVarError: phd_sp not defined\u001b[39m",
     "output_type": "error",
     "traceback": [
      "\u001b[91mUndefVarError: phd_sp not defined\u001b[39m",
      "",
      "Stacktrace:",
      " [1] top-level scope at In[29]:1",
      " [2] include_string(::Function, ::Module, ::String, ::String) at ./loading.jl:1091"
     ]
    }
   ],
   "source": [
    "res_prop = PH.residuals(phd_sp)\n",
    "rel_prop = PH.relative_residuals(phd_sp)\n",
    "plot(res_prop, yscale=:log10)\n",
    "plot!(rel_prop, yscale=:log10)"
   ]
  },
  {
   "cell_type": "code",
   "execution_count": 30,
   "metadata": {},
   "outputs": [
    {
     "ename": "LoadError",
     "evalue": "\u001b[91mUndefVarError: phd_sp not defined\u001b[39m",
     "output_type": "error",
     "traceback": [
      "\u001b[91mUndefVarError: phd_sp not defined\u001b[39m",
      "",
      "Stacktrace:",
      " [1] top-level scope at In[30]:1",
      " [2] include_string(::Function, ::Module, ::String, ::String) at ./loading.jl:1091"
     ]
    }
   ],
   "source": [
    "(xhat_sq, x_sq) = PH.residual_components(phd_sp)\n",
    "plot(sqrt.(xhat_sq), yscale=:log10)\n",
    "plot!(sqrt.(x_sq), yscale=:log10)"
   ]
  },
  {
   "cell_type": "code",
   "execution_count": null,
   "metadata": {},
   "outputs": [],
   "source": []
  }
 ],
 "metadata": {
  "kernelspec": {
   "display_name": "Julia 1.5.3",
   "language": "julia",
   "name": "julia-1.5"
  },
  "language_info": {
   "file_extension": ".jl",
   "mimetype": "application/julia",
   "name": "julia",
   "version": "1.5.3"
  }
 },
 "nbformat": 4,
 "nbformat_minor": 2
}
