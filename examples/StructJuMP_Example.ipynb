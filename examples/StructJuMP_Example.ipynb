{
 "cells": [
  {
   "cell_type": "code",
   "execution_count": null,
   "metadata": {},
   "outputs": [],
   "source": [
    "using Pkg\n",
    "# Activate environment that has ProgressiveHedging installed\n",
    "home = homedir()\n",
    "Pkg.activate(joinpath(home,\".julia/environments/v1.1\"))\n",
    "Pkg.status()"
   ]
  },
  {
   "cell_type": "code",
   "execution_count": null,
   "metadata": {},
   "outputs": [],
   "source": [
    "using Distributed\n",
    "const WORKERS = 2\n",
    "if nworkers() < WORKERS\n",
    "    diff = (nprocs() == nworkers() ? WORKERS : WORKERS - nworkers())\n",
    "    println(\"Adding $diff worker processes.\")\n",
    "    Distributed.addprocs(diff)\n",
    "end\n",
    "# Distributed.addprocs(1)\n",
    "@everywhere using ProgressiveHedging\n",
    "const PH = ProgressiveHedging\n",
    "using Ipopt\n",
    "\n",
    "using StructJuMP"
   ]
  },
  {
   "cell_type": "code",
   "execution_count": null,
   "metadata": {},
   "outputs": [],
   "source": [
    "nscen = 4\n",
    "nbranch = 2\n",
    "# Parameters\n",
    "c = [1.0, 10.0, 0.01]\n",
    "d = 7.0\n",
    "a = 16.0\n",
    "\n",
    "α = 1.0\n",
    "β = 1.0\n",
    "γ = 1.0\n",
    "δ = 1.0\n",
    "ϵ = 1.0\n",
    "\n",
    "s1 = 8.0\n",
    "s2 = 4.0\n",
    "s11 = 9.0\n",
    "s12 = 16.0\n",
    "s21 = 5.0\n",
    "s22 = 18.0\n",
    "\n",
    "# First stage\n",
    "root_model = StructuredModel(num_scenarios=nbranch)\n",
    "@variable(root_model, x[1:3] >= 0.0)\n",
    "#@variable(root_model, F >= 0.0)\n",
    "@objective(root_model, Min, sum(c.*x))\n",
    "@constraint(root_model, x[3] <= 1.0)\n",
    "\n",
    "# Second stage\n",
    "mid_model_1 = StructuredModel(parent=root_model, id=1, num_scenarios=nbranch, prob=0.5)\n",
    "@variable(mid_model_1, y1 >= 0.0)\n",
    "@objective(mid_model_1, Min, d*y1)\n",
    "@constraint(mid_model_1, α*sum(x) + β*y1 >= s1)\n",
    "mid_model_2 = StructuredModel(parent=root_model, id=2, num_scenarios=nbranch, prob=0.5)\n",
    "@variable(mid_model_2, y2 >= 0.0)\n",
    "@objective(mid_model_2, Min, d*y2)\n",
    "@constraint(mid_model_2, α*sum(x) + β*y2 >= s2)\n",
    ";\n",
    "\n",
    "# Third stage\n",
    "leaf_11 = StructuredModel(parent=mid_model_1, id=11, prob=0.75)\n",
    "# @variable(leaf_11, z11 >= 0.0)\n",
    "@variable(leaf_11, z11[1:2])\n",
    "@objective(leaf_11, Min, a*sum(z11[i]^2 for i in 1:2))\n",
    "@constraint(leaf_11, ϵ*sum(x) + γ*y1 + δ*sum(z11) == s11)\n",
    "\n",
    "leaf_12 = StructuredModel(parent=mid_model_1, id=12, prob=0.25)\n",
    "# @variable(leaf_12, z12 >= 0.0)\n",
    "@variable(leaf_12, z12[1:2])\n",
    "@objective(leaf_12, Min, a*sum(z12[i]^2 for i in 1:2))\n",
    "@constraint(leaf_12, ϵ*sum(x) + γ*y1 + δ*sum(z12) == s12)\n",
    "\n",
    "leaf_21 = StructuredModel(parent=mid_model_2, id=21, prob=0.75)\n",
    "# @variable(leaf_21, z21 >= 0.0)\n",
    "@variable(leaf_21, z21[1:2])\n",
    "@objective(leaf_21, Min, a*sum(z21[i]^2 for i in 1:2))\n",
    "@constraint(leaf_21, ϵ*sum(x) + γ*y2 + δ*sum(z21) == s21)\n",
    "\n",
    "leaf_22 = StructuredModel(parent=mid_model_2, id=22, prob=0.25)\n",
    "# @variable(leaf_22, z22 >= 0.0)\n",
    "@variable(leaf_22, z22[1:2])\n",
    "@objective(leaf_22, Min, a*sum(z22[i]^2 for i in 1:2))\n",
    "@constraint(leaf_22, ϵ*sum(x) + γ*y2 + δ*sum(z22) == s22)\n",
    ";"
   ]
  },
  {
   "cell_type": "markdown",
   "metadata": {},
   "source": [
    "# Progressive Hedging Solution"
   ]
  },
  {
   "cell_type": "code",
   "execution_count": null,
   "metadata": {
    "scrolled": true
   },
   "outputs": [],
   "source": [
    "@time (n, err, obj, soln, phd) = PH.solve(root_model, \n",
    "                                          with_optimizer(Ipopt.Optimizer, print_level=0, tol=1e-12), \n",
    "                                          25.0, atol=1e-8, max_iter=500, report=false)\n",
    "println(\"Number of iterations: \", n)\n",
    "println(\"L^2 error: \", err)\n",
    "println(obj)"
   ]
  },
  {
   "cell_type": "code",
   "execution_count": null,
   "metadata": {},
   "outputs": [],
   "source": [
    "soln"
   ]
  },
  {
   "cell_type": "code",
   "execution_count": null,
   "metadata": {},
   "outputs": [],
   "source": [
    "PH.retrieve_no_hats(phd)"
   ]
  },
  {
   "cell_type": "code",
   "execution_count": null,
   "metadata": {},
   "outputs": [],
   "source": [
    "PH.retrieve_w(phd)"
   ]
  },
  {
   "cell_type": "markdown",
   "metadata": {},
   "source": [
    "# Extensive Form Solution"
   ]
  },
  {
   "cell_type": "code",
   "execution_count": null,
   "metadata": {},
   "outputs": [],
   "source": [
    "@time ef_model = PH.solve_extensive_form(root_model, with_optimizer(Ipopt.Optimizer, print_level=0))\n",
    "for var in JuMP.all_variables(ef_model)\n",
    "    println(var, \" = \", JuMP.value(var))\n",
    "end\n",
    "JuMP.objective_value(ef_model)"
   ]
  },
  {
   "cell_type": "code",
   "execution_count": null,
   "metadata": {},
   "outputs": [],
   "source": [
    "ef_model"
   ]
  },
  {
   "cell_type": "code",
   "execution_count": null,
   "metadata": {},
   "outputs": [],
   "source": []
  }
 ],
 "metadata": {
  "kernelspec": {
   "display_name": "Julia 1.1.1",
   "language": "julia",
   "name": "julia-1.1"
  },
  "language_info": {
   "file_extension": ".jl",
   "mimetype": "application/julia",
   "name": "julia",
   "version": "1.1.1"
  }
 },
 "nbformat": 4,
 "nbformat_minor": 2
}
