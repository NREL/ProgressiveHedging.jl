{
 "cells": [
  {
   "cell_type": "code",
   "execution_count": 1,
   "metadata": {},
   "outputs": [
    {
     "name": "stdout",
     "output_type": "stream",
     "text": [
      "\u001b[32m\u001b[1m    Status\u001b[22m\u001b[39m `~/.julia/environments/v1.1/Project.toml`\n",
      " \u001b[90m [a93c6f00]\u001b[39m\u001b[37m DataFrames v0.18.3\u001b[39m\n",
      " \u001b[90m [60bf3e95]\u001b[39m\u001b[37m GLPK v0.10.0\u001b[39m\n",
      " \u001b[90m [7073ff75]\u001b[39m\u001b[37m IJulia v1.18.1\u001b[39m\n",
      " \u001b[90m [b6b21f68]\u001b[39m\u001b[37m Ipopt v0.5.4\u001b[39m\n",
      " \u001b[90m [4076af6c]\u001b[39m\u001b[37m JuMP v0.19.2\u001b[39m\n",
      " \u001b[90m [da04e1cc]\u001b[39m\u001b[37m MPI v0.9.0\u001b[39m\n",
      " \u001b[90m [774612a8]\u001b[39m\u001b[37m ParameterJuMP v0.1.0 [`~/jdev/ParameterJuMP`]\u001b[39m\n",
      " \u001b[90m [070f1c60]\u001b[39m\u001b[37m ProgressiveHedging v0.1.0 [`~/jdev/ProgressiveHedging`]\u001b[39m\n",
      " \u001b[90m [d330b81b]\u001b[39m\u001b[37m PyPlot v2.8.1\u001b[39m\n",
      " \u001b[90m [34f15cae]\u001b[39m\u001b[37m StructJuMP v0.1.0 [`~/jdev/StructJuMP`]\u001b[39m\n",
      " \u001b[90m [9e3dc215]\u001b[39m\u001b[37m TimeSeries v0.15.0\u001b[39m\n",
      " \u001b[90m [a759f4b9]\u001b[39m\u001b[37m TimerOutputs v0.5.0\u001b[39m\n"
     ]
    }
   ],
   "source": [
    "using Pkg\n",
    "# Activate environment that has ProgressiveHedging installed\n",
    "# Pkg.activate(\"/Users/jmaack/SIIP\")\n",
    "home = homedir()\n",
    "Pkg.activate(joinpath(home,\".julia/environments/v1.1\"))\n",
    "Pkg.status()"
   ]
  },
  {
   "cell_type": "code",
   "execution_count": 2,
   "metadata": {},
   "outputs": [
    {
     "name": "stdout",
     "output_type": "stream",
     "text": [
      "Adding 2 worker processes.\n"
     ]
    }
   ],
   "source": [
    "using Distributed\n",
    "const WORKERS = 2\n",
    "if nworkers() < WORKERS\n",
    "    diff = (nprocs() == nworkers() ? WORKERS : WORKERS - nworkers())\n",
    "    println(\"Adding $diff worker processes.\")\n",
    "    Distributed.addprocs(diff)\n",
    "end\n",
    "# Distributed.addprocs(1)\n",
    "@everywhere using ProgressiveHedging\n",
    "const PH = ProgressiveHedging\n",
    "using Ipopt\n",
    "\n",
    "using StructJuMP"
   ]
  },
  {
   "cell_type": "code",
   "execution_count": 3,
   "metadata": {},
   "outputs": [],
   "source": [
    "nscen = 4\n",
    "nbranch = 2\n",
    "# Parameters\n",
    "c = [1.0, 10.0, 0.01]\n",
    "d = 7.0\n",
    "a = 16.0\n",
    "\n",
    "α = 1.0\n",
    "β = 1.0\n",
    "γ = 1.0\n",
    "δ = 1.0\n",
    "ϵ = 1.0\n",
    "\n",
    "s1 = 8.0\n",
    "s2 = 4.0\n",
    "s11 = 9.0\n",
    "s12 = 16.0\n",
    "s21 = 5.0\n",
    "s22 = 18.0\n",
    "\n",
    "# First stage\n",
    "root_model = StructuredModel(num_scenarios=nbranch)\n",
    "@variable(root_model, x[1:3] >= 0.0)\n",
    "#@variable(root_model, F >= 0.0)\n",
    "@objective(root_model, Min, sum(c.*x))\n",
    "@constraint(root_model, x[3] <= 1.0)\n",
    "\n",
    "# Second stage\n",
    "mid_model_1 = StructuredModel(parent=root_model, id=1, num_scenarios=nbranch, prob=0.5)\n",
    "@variable(mid_model_1, y1 >= 0.0)\n",
    "@objective(mid_model_1, Min, d*y1)\n",
    "@constraint(mid_model_1, α*sum(x) + β*y1 >= s1)\n",
    "mid_model_2 = StructuredModel(parent=root_model, id=2, num_scenarios=nbranch, prob=0.5)\n",
    "@variable(mid_model_2, y2 >= 0.0)\n",
    "@objective(mid_model_2, Min, d*y2)\n",
    "@constraint(mid_model_2, α*sum(x) + β*y2 >= s2)\n",
    ";\n",
    "\n",
    "# Third stage\n",
    "leaf_11 = StructuredModel(parent=mid_model_1, id=11, prob=0.75)\n",
    "# @variable(leaf_11, z11 >= 0.0)\n",
    "@variable(leaf_11, z11[1:2])\n",
    "@objective(leaf_11, Min, a*sum(z11[i]^2 for i in 1:2))\n",
    "@constraint(leaf_11, ϵ*sum(x) + γ*y1 + δ*sum(z11) == s11)\n",
    "\n",
    "leaf_12 = StructuredModel(parent=mid_model_1, id=12, prob=0.25)\n",
    "# @variable(leaf_12, z12 >= 0.0)\n",
    "@variable(leaf_12, z12[1:2])\n",
    "@objective(leaf_12, Min, a*sum(z12[i]^2 for i in 1:2))\n",
    "@constraint(leaf_12, ϵ*sum(x) + γ*y1 + δ*sum(z12) == s12)\n",
    "\n",
    "leaf_21 = StructuredModel(parent=mid_model_2, id=21, prob=0.75)\n",
    "# @variable(leaf_21, z21 >= 0.0)\n",
    "@variable(leaf_21, z21[1:2])\n",
    "@objective(leaf_21, Min, a*sum(z21[i]^2 for i in 1:2))\n",
    "@constraint(leaf_21, ϵ*sum(x) + γ*y2 + δ*sum(z21) == s21)\n",
    "\n",
    "leaf_22 = StructuredModel(parent=mid_model_2, id=22, prob=0.25)\n",
    "# @variable(leaf_22, z22 >= 0.0)\n",
    "@variable(leaf_22, z22[1:2])\n",
    "@objective(leaf_22, Min, a*sum(z22[i]^2 for i in 1:2))\n",
    "@constraint(leaf_22, ϵ*sum(x) + γ*y2 + δ*sum(z22) == s22)\n",
    ";"
   ]
  },
  {
   "cell_type": "markdown",
   "metadata": {},
   "source": [
    "# Progressive Hedging Solution"
   ]
  },
  {
   "cell_type": "code",
   "execution_count": 4,
   "metadata": {
    "scrolled": false
   },
   "outputs": [
    {
     "name": "stdout",
     "output_type": "stream",
     "text": [
      "      From worker 2:\t\n",
      "      From worker 2:\t******************************************************************************\n",
      "      From worker 2:\tThis program contains Ipopt, a library for large-scale nonlinear optimization.\n",
      "      From worker 2:\t Ipopt is released as open source code under the Eclipse Public License (EPL).\n",
      "      From worker 2:\t         For more information visit http://projects.coin-or.org/Ipopt\n",
      "      From worker 2:\t******************************************************************************\n",
      "      From worker 2:\t\n",
      "      From worker 3:\t\n",
      "      From worker 3:\t******************************************************************************\n",
      "      From worker 3:\tThis program contains Ipopt, a library for large-scale nonlinear optimization.\n",
      "      From worker 3:\t Ipopt is released as open source code under the Eclipse Public License (EPL).\n",
      "      From worker 3:\t         For more information visit http://projects.coin-or.org/Ipopt\n",
      "      From worker 3:\t******************************************************************************\n",
      "      From worker 3:\t\n",
      " 32.939523 seconds (20.65 M allocations: 992.991 MiB, 0.98% gc time)\n",
      "Number of iterations: 128\n",
      "L^2 error: 9.999837906865407e-9\n",
      "178.35374903566745\n"
     ]
    }
   ],
   "source": [
    "@time (n, err, obj, soln, phd) = PH.solve(root_model, \n",
    "                                          with_optimizer(Ipopt.Optimizer, print_level=0, tol=1e-12), \n",
    "                                          25.0, atol=1e-8, max_iter=500, report=false)\n",
    "println(\"Number of iterations: \", n)\n",
    "println(\"L^2 error: \", err)\n",
    "println(obj)"
   ]
  },
  {
   "cell_type": "code",
   "execution_count": 5,
   "metadata": {},
   "outputs": [
    {
     "data": {
      "text/html": [
       "<table class=\"data-frame\"><thead><tr><th></th><th>variable</th><th>value</th><th>stage</th><th>scenarios</th></tr><tr><th></th><th>String</th><th>Float64</th><th>Int64</th><th>String</th></tr></thead><tbody><p>13 rows × 4 columns</p><tr><th>1</th><td>x[1]</td><td>7.5625</td><td>1</td><td>0, 1, 2, 3</td></tr><tr><th>2</th><td>x[2]</td><td>2.52227e-9</td><td>1</td><td>0, 1, 2, 3</td></tr><tr><th>3</th><td>x[3]</td><td>1.0</td><td>1</td><td>0, 1, 2, 3</td></tr><tr><th>4</th><td>y1</td><td>1.75</td><td>2</td><td>0, 1</td></tr><tr><th>5</th><td>y2</td><td>5.86835e-9</td><td>2</td><td>2, 3</td></tr><tr><th>6</th><td>z11[1]</td><td>-0.65625</td><td>3</td><td>0</td></tr><tr><th>7</th><td>z11[2]</td><td>-0.65625</td><td>3</td><td>0</td></tr><tr><th>8</th><td>z12[1]</td><td>2.84375</td><td>3</td><td>1</td></tr><tr><th>9</th><td>z12[2]</td><td>2.84375</td><td>3</td><td>1</td></tr><tr><th>10</th><td>z21[1]</td><td>-1.78125</td><td>3</td><td>2</td></tr><tr><th>11</th><td>z21[2]</td><td>-1.78125</td><td>3</td><td>2</td></tr><tr><th>12</th><td>z22[1]</td><td>4.71875</td><td>3</td><td>3</td></tr><tr><th>13</th><td>z22[2]</td><td>4.71875</td><td>3</td><td>3</td></tr></tbody></table>"
      ],
      "text/latex": [
       "\\begin{tabular}{r|cccc}\n",
       "\t& variable & value & stage & scenarios\\\\\n",
       "\t\\hline\n",
       "\t& String & Float64 & Int64 & String\\\\\n",
       "\t\\hline\n",
       "\t1 & x[1] & 7.5625 & 1 & 0, 1, 2, 3 \\\\\n",
       "\t2 & x[2] & 2.52227e-9 & 1 & 0, 1, 2, 3 \\\\\n",
       "\t3 & x[3] & 1.0 & 1 & 0, 1, 2, 3 \\\\\n",
       "\t4 & y1 & 1.75 & 2 & 0, 1 \\\\\n",
       "\t5 & y2 & 5.86835e-9 & 2 & 2, 3 \\\\\n",
       "\t6 & z11[1] & -0.65625 & 3 & 0 \\\\\n",
       "\t7 & z11[2] & -0.65625 & 3 & 0 \\\\\n",
       "\t8 & z12[1] & 2.84375 & 3 & 1 \\\\\n",
       "\t9 & z12[2] & 2.84375 & 3 & 1 \\\\\n",
       "\t10 & z21[1] & -1.78125 & 3 & 2 \\\\\n",
       "\t11 & z21[2] & -1.78125 & 3 & 2 \\\\\n",
       "\t12 & z22[1] & 4.71875 & 3 & 3 \\\\\n",
       "\t13 & z22[2] & 4.71875 & 3 & 3 \\\\\n",
       "\\end{tabular}\n"
      ],
      "text/plain": [
       "13×4 DataFrames.DataFrame\n",
       "│ Row │ variable │ value      │ stage │ scenarios  │\n",
       "│     │ \u001b[90mString\u001b[39m   │ \u001b[90mFloat64\u001b[39m    │ \u001b[90mInt64\u001b[39m │ \u001b[90mString\u001b[39m     │\n",
       "├─────┼──────────┼────────────┼───────┼────────────┤\n",
       "│ 1   │ x[1]     │ 7.5625     │ 1     │ 0, 1, 2, 3 │\n",
       "│ 2   │ x[2]     │ 2.52227e-9 │ 1     │ 0, 1, 2, 3 │\n",
       "│ 3   │ x[3]     │ 1.0        │ 1     │ 0, 1, 2, 3 │\n",
       "│ 4   │ y1       │ 1.75       │ 2     │ 0, 1       │\n",
       "│ 5   │ y2       │ 5.86835e-9 │ 2     │ 2, 3       │\n",
       "│ 6   │ z11[1]   │ -0.65625   │ 3     │ 0          │\n",
       "│ 7   │ z11[2]   │ -0.65625   │ 3     │ 0          │\n",
       "│ 8   │ z12[1]   │ 2.84375    │ 3     │ 1          │\n",
       "│ 9   │ z12[2]   │ 2.84375    │ 3     │ 1          │\n",
       "│ 10  │ z21[1]   │ -1.78125   │ 3     │ 2          │\n",
       "│ 11  │ z21[2]   │ -1.78125   │ 3     │ 2          │\n",
       "│ 12  │ z22[1]   │ 4.71875    │ 3     │ 3          │\n",
       "│ 13  │ z22[2]   │ 4.71875    │ 3     │ 3          │"
      ]
     },
     "execution_count": 5,
     "metadata": {},
     "output_type": "execute_result"
    }
   ],
   "source": [
    "soln"
   ]
  },
  {
   "cell_type": "code",
   "execution_count": 6,
   "metadata": {},
   "outputs": [],
   "source": [
    "# PH.retrieve_no_hats(phd)"
   ]
  },
  {
   "cell_type": "code",
   "execution_count": 7,
   "metadata": {},
   "outputs": [],
   "source": [
    "# PH.retrieve_w(phd)"
   ]
  },
  {
   "cell_type": "markdown",
   "metadata": {},
   "source": [
    "# Extensive Form Solution"
   ]
  },
  {
   "cell_type": "code",
   "execution_count": 8,
   "metadata": {},
   "outputs": [
    {
     "name": "stdout",
     "output_type": "stream",
     "text": [
      "\n",
      "******************************************************************************\n",
      "This program contains Ipopt, a library for large-scale nonlinear optimization.\n",
      " Ipopt is released as open source code under the Eclipse Public License (EPL).\n",
      "         For more information visit http://projects.coin-or.org/Ipopt\n",
      "******************************************************************************\n",
      "\n",
      " 14.996311 seconds (45.08 M allocations: 2.216 GiB, 8.08% gc time)\n",
      "x[2] = 0.0\n",
      "x[3] = 1.000000007465833\n",
      "x[1] = 7.562500011769159\n",
      "y2 = 0.0\n",
      "y1 = 1.7499999908010653\n",
      "z21[2] = -1.7812499999655194\n",
      "z21[1] = -1.7812499999655194\n",
      "z22[2] = 4.71875000003448\n",
      "z22[1] = 4.71875000003448\n",
      "z11[2] = -0.656250000157248\n",
      "z11[1] = -0.656250000157248\n",
      "z12[2] = 2.843749999842752\n",
      "z12[1] = 2.843749999842752\n"
     ]
    },
    {
     "data": {
      "text/plain": [
       "178.3537498476204"
      ]
     },
     "execution_count": 8,
     "metadata": {},
     "output_type": "execute_result"
    }
   ],
   "source": [
    "@time ef_model = PH.solve_extensive_form(root_model, with_optimizer(Ipopt.Optimizer, print_level=0))\n",
    "for var in JuMP.all_variables(ef_model)\n",
    "    println(var, \" = \", JuMP.value(var))\n",
    "end\n",
    "JuMP.objective_value(ef_model)"
   ]
  },
  {
   "cell_type": "code",
   "execution_count": 9,
   "metadata": {},
   "outputs": [
    {
     "data": {
      "text/latex": [
       "$$ \\begin{alignat*}{1}\\min\\quad & 6 z21_{1}^2 + 6 z21_{2}^2 + 2 z22_{1}^2 + 2 z22_{2}^2 + 6 z11_{1}^2 + 6 z11_{2}^2 + 2 z12_{1}^2 + 2 z12_{2}^2 + x_{1} + 10 x_{2} + 0.01 x_{3} + 3.5 y2 + 3.5 y1\\\\\n",
       "\\text{Subject to} \\quad & x_{2} \\geq 0.0\\\\\n",
       " & x_{3} \\geq 0.0\\\\\n",
       " & x_{1} \\geq 0.0\\\\\n",
       " & y2 \\geq 0.0\\\\\n",
       " & y1 \\geq 0.0\\\\\n",
       " & x_{1} + x_{2} + x_{3} + y2 + z21_{1} + z21_{2} = 5.0\\\\\n",
       " & x_{1} + x_{2} + x_{3} + y2 + z22_{1} + z22_{2} = 18.0\\\\\n",
       " & x_{1} + x_{2} + x_{3} + y1 + z11_{1} + z11_{2} = 9.0\\\\\n",
       " & x_{1} + x_{2} + x_{3} + y1 + z12_{1} + z12_{2} = 16.0\\\\\n",
       " & x_{1} + x_{2} + x_{3} + y2 \\geq 4.0\\\\\n",
       " & x_{1} + x_{2} + x_{3} + y1 \\geq 8.0\\\\\n",
       " & x_{3} \\leq 1.0\\\\\n",
       "\\end{alignat*}\n",
       " $$"
      ],
      "text/plain": [
       "A JuMP Model\n",
       "Minimization problem with:\n",
       "Variables: 13\n",
       "Objective function type: GenericQuadExpr{Float64,VariableRef}\n",
       "`VariableRef`-in-`MathOptInterface.GreaterThan{Float64}`: 5 constraints\n",
       "`GenericAffExpr{Float64,VariableRef}`-in-`MathOptInterface.EqualTo{Float64}`: 4 constraints\n",
       "`GenericAffExpr{Float64,VariableRef}`-in-`MathOptInterface.GreaterThan{Float64}`: 2 constraints\n",
       "`GenericAffExpr{Float64,VariableRef}`-in-`MathOptInterface.LessThan{Float64}`: 1 constraint\n",
       "Model mode: AUTOMATIC\n",
       "CachingOptimizer state: ATTACHED_OPTIMIZER\n",
       "Solver name: SolverName() attribute not implemented by the optimizer."
      ]
     },
     "execution_count": 9,
     "metadata": {},
     "output_type": "execute_result"
    }
   ],
   "source": [
    "ef_model"
   ]
  },
  {
   "cell_type": "code",
   "execution_count": null,
   "metadata": {},
   "outputs": [],
   "source": []
  }
 ],
 "metadata": {
  "kernelspec": {
   "display_name": "Julia 1.1.0",
   "language": "julia",
   "name": "julia-1.1"
  },
  "language_info": {
   "file_extension": ".jl",
   "mimetype": "application/julia",
   "name": "julia",
   "version": "1.1.0"
  }
 },
 "nbformat": 4,
 "nbformat_minor": 2
}
