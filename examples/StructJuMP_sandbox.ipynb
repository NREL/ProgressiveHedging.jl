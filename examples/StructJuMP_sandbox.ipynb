{
 "cells": [
  {
   "cell_type": "code",
   "execution_count": 1,
   "metadata": {},
   "outputs": [
    {
     "name": "stdout",
     "output_type": "stream",
     "text": [
      "\u001b[32m\u001b[1m    Status\u001b[22m\u001b[39m `~/SIIP_latest/Project.toml`\n",
      " \u001b[90m [60bf3e95]\u001b[39m\u001b[37m GLPK v0.9.1\u001b[39m\n",
      " \u001b[90m [2030c09a]\u001b[39m\u001b[37m InfrastructureModels v0.0.13 [`~/SIIP_latest/InfrastructureModels`]\u001b[39m\n",
      " \u001b[90m [b6b21f68]\u001b[39m\u001b[37m Ipopt v0.5.4\u001b[39m\n",
      " \u001b[90m [4076af6c]\u001b[39m\u001b[37m JuMP v0.19.0+ #master (https://github.com/JuliaOpt/JuMP.jl.git)\u001b[39m\n",
      " \u001b[90m [39d13dbf]\u001b[39m\u001b[37m ParameterJuMP v0.0.0 [`~/jdev/ParameterJuMP`]\u001b[39m\n",
      " \u001b[90m [c36e90e8]\u001b[39m\u001b[37m PowerModels v0.9.3 [`~/SIIP_latest/PowerModels`]\u001b[39m\n",
      " \u001b[90m [e690365d]\u001b[39m\u001b[37m PowerSimulations v0.1.0 [`~/SIIP_latest/PowerSimulations`]\u001b[39m\n",
      " \u001b[90m [c512b964]\u001b[39m\u001b[37m PowerSystems v0.2.1 [`~/SIIP_latest/PowerSystems`]\u001b[39m\n",
      " \u001b[90m [01aad6c6]\u001b[39m\u001b[37m ProgressiveHedging v0.0.0 [`~/jdev/ProgressiveHedging`]\u001b[39m\n",
      " \u001b[90m [34f15cae]\u001b[39m\u001b[37m StructJuMP v0.1.0+ [`~/jdev/StructJuMP`]\u001b[39m\n"
     ]
    }
   ],
   "source": [
    "using Pkg\n",
    "Pkg.activate(\"/Users/jmaack/SIIP_latest\") # working\n",
    "# Pkg.activate(\"/Users/jmaack/SIIP\") # working\n",
    "Pkg.status()"
   ]
  },
  {
   "cell_type": "code",
   "execution_count": 2,
   "metadata": {},
   "outputs": [],
   "source": [
    "using StructJuMP\n",
    "using ProgressiveHedging\n",
    "const PH = ProgressiveHedging\n",
    "\n",
    "using Ipopt"
   ]
  },
  {
   "cell_type": "code",
   "execution_count": 3,
   "metadata": {},
   "outputs": [],
   "source": [
    "nscen = 4\n",
    "nbranch = 2\n",
    "# Parameters\n",
    "c = [1.0, 10.0, 0.01]\n",
    "d = 7.0\n",
    "a = 16.0\n",
    "\n",
    "α = 1.0\n",
    "β = 1.0\n",
    "γ = 1.0\n",
    "δ = 1.0\n",
    "ϵ = 1.0\n",
    "\n",
    "s1 = 8.0\n",
    "s2 = 4.0\n",
    "s11 = 9.0\n",
    "s12 = 16.0\n",
    "s21 = 5.0\n",
    "s22 = 18.0\n",
    "\n",
    "# First stage\n",
    "root_model = StructuredModel(num_scenarios=nbranch)\n",
    "@variable(root_model, x[1:3] >= 0.0)\n",
    "#@variable(root_model, F >= 0.0)\n",
    "@objective(root_model, Min, sum(c.*x))\n",
    "@constraint(root_model, x[3] <= 1.0)\n",
    "\n",
    "# Second stage\n",
    "mid_model_1 = StructuredModel(parent=root_model, id=1, num_scenarios=nbranch, prob=0.5)\n",
    "@variable(mid_model_1, y1 >= 0.0)\n",
    "@objective(mid_model_1, Min, d*y1)\n",
    "@constraint(mid_model_1, α*sum(x) + β*y1 >= s1)\n",
    "mid_model_2 = StructuredModel(parent=root_model, id=2, num_scenarios=nbranch, prob=0.5)\n",
    "@variable(mid_model_2, y2 >= 0.0)\n",
    "@objective(mid_model_2, Min, d*y2)\n",
    "@constraint(mid_model_2, α*sum(x) + β*y2 >= s2)\n",
    ";\n",
    "\n",
    "# Third stage\n",
    "leaf_11 = StructuredModel(parent=mid_model_1, id=11, prob=0.75)\n",
    "# @variable(leaf_11, z11 >= 0.0)\n",
    "@variable(leaf_11, z11[1:2])\n",
    "@objective(leaf_11, Min, a*sum(z11[i]^2 for i in 1:2))\n",
    "@constraint(leaf_11, ϵ*sum(x) + γ*y1 + δ*sum(z11) == s11)\n",
    "\n",
    "leaf_12 = StructuredModel(parent=mid_model_1, id=12, prob=0.25)\n",
    "# @variable(leaf_12, z12 >= 0.0)\n",
    "@variable(leaf_12, z12[1:2])\n",
    "@objective(leaf_12, Min, a*sum(z12[i]^2 for i in 1:2))\n",
    "@constraint(leaf_12, ϵ*sum(x) + γ*y1 + δ*sum(z12) == s12)\n",
    "\n",
    "leaf_21 = StructuredModel(parent=mid_model_2, id=21, prob=0.75)\n",
    "# @variable(leaf_21, z21 >= 0.0)\n",
    "@variable(leaf_21, z21[1:2])\n",
    "@objective(leaf_21, Min, a*sum(z21[i]^2 for i in 1:2))\n",
    "@constraint(leaf_21, ϵ*sum(x) + γ*y2 + δ*sum(z21) == s21)\n",
    "\n",
    "leaf_22 = StructuredModel(parent=mid_model_2, id=22, prob=0.25)\n",
    "# @variable(leaf_22, z22 >= 0.0)\n",
    "@variable(leaf_22, z22[1:2])\n",
    "@objective(leaf_22, Min, a*sum(z22[i]^2 for i in 1:2))\n",
    "@constraint(leaf_22, ϵ*sum(x) + γ*y2 + δ*sum(z22) == s22)\n",
    ";"
   ]
  },
  {
   "cell_type": "markdown",
   "metadata": {},
   "source": [
    "# Progressive Hedging Solution"
   ]
  },
  {
   "cell_type": "code",
   "execution_count": null,
   "metadata": {
    "scrolled": true
   },
   "outputs": [],
   "source": [
    "@time (n, err, soln, phd) = PH.solve(root_model, with_optimizer(Ipopt.Optimizer, print_level=0, tol=1e-12), \n",
    "    25.0, atol=1e-8, max_iter=500)\n",
    "println(\"Number of iterations: \", n)\n",
    "println(\"L^2 error: \", err)\n",
    "# print_values(phd)\n",
    "println(soln)\n",
    "# println(obj)"
   ]
  },
  {
   "cell_type": "code",
   "execution_count": null,
   "metadata": {},
   "outputs": [],
   "source": [
    "# PH.retrieve_no_hats(phd)"
   ]
  },
  {
   "cell_type": "code",
   "execution_count": null,
   "metadata": {},
   "outputs": [],
   "source": [
    "# PH.retrieve_w(phd)"
   ]
  },
  {
   "cell_type": "markdown",
   "metadata": {},
   "source": [
    "# Extensive Form Solution"
   ]
  },
  {
   "cell_type": "code",
   "execution_count": null,
   "metadata": {},
   "outputs": [],
   "source": [
    "@time ef_model = PH.solve_extensive_form(root_model, with_optimizer(Ipopt.Optimizer, print_level=0))\n",
    "for var in JuMP.all_variables(ef_model)\n",
    "    println(var, \" = \", JuMP.value(var))\n",
    "end"
   ]
  },
  {
   "cell_type": "code",
   "execution_count": null,
   "metadata": {},
   "outputs": [],
   "source": [
    "ef_model"
   ]
  },
  {
   "cell_type": "code",
   "execution_count": null,
   "metadata": {},
   "outputs": [],
   "source": []
  }
 ],
 "metadata": {
  "kernelspec": {
   "display_name": "Julia 1.1.0",
   "language": "julia",
   "name": "julia-1.1"
  },
  "language_info": {
   "file_extension": ".jl",
   "mimetype": "application/julia",
   "name": "julia",
   "version": "1.1.0"
  }
 },
 "nbformat": 4,
 "nbformat_minor": 2
}
