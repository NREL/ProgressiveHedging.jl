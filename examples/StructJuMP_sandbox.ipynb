{
 "cells": [
  {
   "cell_type": "code",
   "execution_count": null,
   "metadata": {},
   "outputs": [],
   "source": [
    "using Pkg\n",
    "Pkg.activate(\"/Users/jmaack/SIIP_latest\") # working\n",
    "# Pkg.activate(\"/Users/jmaack/SIIP\") # working\n",
    "Pkg.status()"
   ]
  },
  {
   "cell_type": "code",
   "execution_count": null,
   "metadata": {},
   "outputs": [],
   "source": [
    "using StructJuMP\n",
    "using ProgressiveHedging\n",
    "const PH = ProgressiveHedging\n",
    "\n",
    "using Ipopt"
   ]
  },
  {
   "cell_type": "code",
   "execution_count": null,
   "metadata": {},
   "outputs": [],
   "source": [
    "nscen = 4\n",
    "nbranch = 2\n",
    "# Parameters\n",
    "c = [10.0, 1.0]\n",
    "d = 7.0\n",
    "a = 16.0\n",
    "\n",
    "α = 1.0\n",
    "β = 1.0\n",
    "γ = 1.0\n",
    "δ = 1.0\n",
    "ϵ = 1.0\n",
    "\n",
    "s1 = 8.0\n",
    "s2 = 4.0\n",
    "s11 = 9.0\n",
    "s12 = 16.0\n",
    "s21 = 5.0\n",
    "s22 = 18.0\n",
    "\n",
    "# First stage\n",
    "root_model = StructuredModel(num_scenarios=nbranch)\n",
    "@variable(root_model, x[1:2] >= 0.0)\n",
    "#@variable(root_model, F >= 0.0)\n",
    "@objective(root_model, Min, sum(c.*x))\n",
    "# @objective(root_model, Min, c*x + 10.0*F)\n",
    "# @objective(root_model, Min, 0.5*F)\n",
    "# @constraint(root_model, F >= 4.0)\n",
    "# @constraint(root_model, x + F >= 5.0)\n",
    "# @constraint(root_model, 2*x + 5 >= 1)\n",
    "\n",
    "# Second stage\n",
    "mid_model_1 = StructuredModel(parent=root_model, id=1, num_scenarios=nbranch)#, prob=0.5)\n",
    "@variable(mid_model_1, y1 >= 0.0)\n",
    "@objective(mid_model_1, Min, d*y1)\n",
    "@constraint(mid_model_1, α*sum(x) + β*y1 == s1)\n",
    "# @constraint(mid_model_1, α*x + β*y1 + 2.0*F == s1)\n",
    "mid_model_2 = StructuredModel(parent=root_model, id=2, num_scenarios=nbranch)#, prob=0.5)\n",
    "@variable(mid_model_2, y2 >= 0.0)\n",
    "@objective(mid_model_2, Min, d*y2)\n",
    "# @constraint(mid_model_2, y2 <= 10.0)\n",
    "@constraint(mid_model_2, α*sum(x) + β*y2 == s2)\n",
    "# @constraint(mid_model_2, α*x + β*y2 + 2.0*F == s2)\n",
    ";\n",
    "\n",
    "# # Third stage\n",
    "# leaf_11 = StructuredModel(parent=mid_model_1, id=11, prob=0.75)\n",
    "# # @variable(leaf_11, z11 >= 0.0)\n",
    "# @variable(leaf_11, z11[1:2])\n",
    "# @objective(leaf_11, Min, a*sum(z11[i]^2 for i in 1:2))\n",
    "# @constraint(leaf_11, ϵ*x + γ*y1 + δ*sum(z11) + F == s11)\n",
    "\n",
    "# leaf_12 = StructuredModel(parent=mid_model_1, id=12, prob=0.25)\n",
    "# # @variable(leaf_12, z12 >= 0.0)\n",
    "# @variable(leaf_12, z12[1:2])\n",
    "# @objective(leaf_12, Min, a*sum(z12[i]^2 for i in 1:2))\n",
    "# @constraint(leaf_12, ϵ*x + γ*y1 + δ*sum(z12) + F == s12)\n",
    "\n",
    "# leaf_21 = StructuredModel(parent=mid_model_2, id=21, prob=0.75)\n",
    "# # @variable(leaf_21, z21 >= 0.0)\n",
    "# @variable(leaf_21, z21[1:2])\n",
    "# @objective(leaf_21, Min, a*sum(z21[i]^2 for i in 1:2))\n",
    "# @constraint(leaf_21, ϵ*x + γ*y2 + δ*sum(z21) + F == s21)\n",
    "\n",
    "# leaf_22 = StructuredModel(parent=mid_model_2, id=22, prob=0.25)\n",
    "# # @variable(leaf_22, z22 >= 0.0)\n",
    "# @variable(leaf_22, z22[1:2])\n",
    "# @objective(leaf_22, Min, a*sum(z22[i]^2 for i in 1:2))\n",
    "# @constraint(leaf_22, ϵ*x + γ*y2 + δ*sum(z22) + F == s22)\n",
    ";"
   ]
  },
  {
   "cell_type": "code",
   "execution_count": null,
   "metadata": {},
   "outputs": [],
   "source": []
  },
  {
   "cell_type": "markdown",
   "metadata": {},
   "source": [
    "# Progressive Hedging Solution"
   ]
  },
  {
   "cell_type": "code",
   "execution_count": null,
   "metadata": {
    "scrolled": true
   },
   "outputs": [],
   "source": [
    "@time (n, err, soln, phd) = PH.solve(root_model, with_optimizer(Ipopt.Optimizer, print_level=0, tol=1e-12), \n",
    "    25.0, atol=1e-8, max_iter=500)\n",
    "println(\"Number of iterations: \", n)\n",
    "println(\"L^2 error: \", err)\n",
    "# print_values(phd)\n",
    "println(soln)\n",
    "# println(obj)"
   ]
  },
  {
   "cell_type": "code",
   "execution_count": null,
   "metadata": {},
   "outputs": [],
   "source": []
  },
  {
   "cell_type": "markdown",
   "metadata": {},
   "source": [
    "# Extensive Form Solution"
   ]
  },
  {
   "cell_type": "code",
   "execution_count": null,
   "metadata": {},
   "outputs": [],
   "source": [
    "@time ef_model = PH.solve_extensive_form(root_model, with_optimizer(Ipopt.Optimizer, print_level=0))\n",
    "for var in JuMP.all_variables(ef_model)\n",
    "    println(var, \" = \", JuMP.value(var))\n",
    "end"
   ]
  },
  {
   "cell_type": "code",
   "execution_count": null,
   "metadata": {},
   "outputs": [],
   "source": [
    "ef_model"
   ]
  },
  {
   "cell_type": "markdown",
   "metadata": {},
   "source": [
    "# Something Seems Broken"
   ]
  },
  {
   "cell_type": "code",
   "execution_count": null,
   "metadata": {},
   "outputs": [],
   "source": [
    "# using JuMP\n",
    "# function print_values(ph_data::PH.PHData)\n",
    "#     for (s,m) in ph_data.submodels\n",
    "#         println(\"****** $s *******\")\n",
    "#         for v in JuMP.all_variables(m)\n",
    "#             if !JuMP.is_fixed(v)\n",
    "#                 println(v, \" = \", JuMP.value(v))\n",
    "#             else\n",
    "#                 println(v, \" = \", JuMP.fix_value(v))\n",
    "#             end\n",
    "#         end\n",
    "#     end\n",
    "#     return\n",
    "# end"
   ]
  },
  {
   "cell_type": "code",
   "execution_count": null,
   "metadata": {},
   "outputs": [],
   "source": [
    "nscen = 4\n",
    "nbranch = 2\n",
    "# Parameters\n",
    "c = 2.0\n",
    "d = 7.0\n",
    "\n",
    "α = 1.0\n",
    "β = 1.0\n",
    "\n",
    "s1 = 8.0\n",
    "s2 = 4.0\n",
    "\n",
    "# First stage\n",
    "root_model = StructuredModel(num_scenarios=nbranch)\n",
    "@variable(root_model, x >= 0.0)\n",
    "@variable(root_model, F >= 0.0)\n",
    "@objective(root_model, Min, c*x + 10.0*F)\n",
    "\n",
    "# Second stage\n",
    "mid_model_1 = StructuredModel(parent=root_model, id=1, num_scenarios=nbranch)\n",
    "@variable(mid_model_1, y1 >= 0.0)\n",
    "@objective(mid_model_1, Min, d*y1)\n",
    "@constraint(mid_model_1, α*x + β*y1 == s1)\n",
    "mid_model_2 = StructuredModel(parent=root_model, id=2, num_scenarios=nbranch)\n",
    "@variable(mid_model_2, y2 >= 0.0)\n",
    "@objective(mid_model_2, Min, d*y2)\n",
    "@constraint(mid_model_2, α*x + β*y2 == s2)\n",
    ";"
   ]
  },
  {
   "cell_type": "code",
   "execution_count": null,
   "metadata": {},
   "outputs": [],
   "source": [
    "(n, err, soln, phd) = PH.solve(root_model, with_optimizer(Ipopt.Optimizer, print_level=0, tol=1e-12), \n",
    "    25.0, atol=1e-8, max_iter=500)\n",
    "println(\"Number of iterations: \", n)\n",
    "println(\"L^2 error: \", err)\n",
    "println(soln)"
   ]
  },
  {
   "cell_type": "code",
   "execution_count": null,
   "metadata": {},
   "outputs": [],
   "source": [
    "@time ef_model = PH.solve_extensive_form(root_model, with_optimizer(Ipopt.Optimizer, print_level=0))\n",
    "for var in JuMP.all_variables(ef_model)\n",
    "    println(var, \" = \", JuMP.value(var))\n",
    "end"
   ]
  },
  {
   "cell_type": "code",
   "execution_count": null,
   "metadata": {},
   "outputs": [],
   "source": []
  }
 ],
 "metadata": {
  "kernelspec": {
   "display_name": "Julia 1.1.0",
   "language": "julia",
   "name": "julia-1.1"
  },
  "language_info": {
   "file_extension": ".jl",
   "mimetype": "application/julia",
   "name": "julia",
   "version": "1.1.0"
  }
 },
 "nbformat": 4,
 "nbformat_minor": 2
}
